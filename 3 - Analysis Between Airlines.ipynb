{
 "cells": [
  {
   "cell_type": "code",
   "execution_count": 1,
   "metadata": {},
   "outputs": [
    {
     "name": "stderr",
     "output_type": "stream",
     "text": [
      "C:\\Users\\Jesse\\Anaconda3\\lib\\site-packages\\ipykernel_launcher.py:3: FutureWarning: pandas.util.testing is deprecated. Use the functions in the public API at pandas.testing instead.\n",
      "  This is separate from the ipykernel package so we can avoid doing imports until\n"
     ]
    }
   ],
   "source": [
    "import numpy as np \n",
    "import pandas as pd\n",
    "import pandas.util.testing as tm\n",
    "import matplotlib.pyplot as plt\n",
    "import seaborn as sns\n",
    "import datetime\n",
    "import calendar\n",
    "\n",
    "plt.style.use('seaborn')\n",
    "\n",
    "\n",
    "import warnings\n",
    "warnings.filterwarnings(\"ignore\")\n",
    "\n",
    "%matplotlib inline"
   ]
  },
  {
   "cell_type": "code",
   "execution_count": 2,
   "metadata": {},
   "outputs": [],
   "source": [
    "data_path = 'C:/Users/Jesse/Desktop/midterm_data/data/'\n",
    "flights_df = pd.read_csv(data_path + 'flights.csv')"
   ]
  },
  {
   "cell_type": "code",
   "execution_count": 3,
   "metadata": {},
   "outputs": [],
   "source": [
    "flights_df['fl_date'] = pd.to_datetime(flights_df['fl_date'], format='%Y-%m-%d')"
   ]
  },
  {
   "cell_type": "code",
   "execution_count": 5,
   "metadata": {},
   "outputs": [],
   "source": [
    "codes = {'UA': 'United Air Lines Inc.', \n",
    "        'B6': 'JetBlue Airways',\n",
    "        'DL': 'Delta Air Lines Inc.',\n",
    "        'AA': 'American Airlines Inc.',\n",
    "        'NK': 'Spirit Air Lines', \n",
    "        'WN': 'Southwest Airlines Co.',\n",
    "        'G4': 'Allegiant Air', \n",
    "        'HA': 'Hawaiian Airlines Inc.',\n",
    "        'F9': 'Frontier Airlines Inc.',\n",
    "        'AS': 'Alaska Airlines Inc.',\n",
    "        'VX': 'Virgin America'}"
   ]
  },
  {
   "cell_type": "code",
   "execution_count": 6,
   "metadata": {},
   "outputs": [],
   "source": [
    "airline_flights = pd.DataFrame(flights_df.groupby('mkt_carrier')['fl_date'].count().sort_values(ascending=False).reset_index()).rename({'mkt_carrier': 'Airline_code', 'fl_date': 'Flight Counts'}, axis=1)\n",
    "airline_flights['Airlines'] = airline_flights['Airline_code'].replace(codes)"
   ]
  },
  {
   "cell_type": "code",
   "execution_count": 13,
   "metadata": {},
   "outputs": [
    {
     "data": {
      "text/plain": [
       "<matplotlib.legend.Legend at 0x15959204fc8>"
      ]
     },
     "execution_count": 13,
     "metadata": {},
     "output_type": "execute_result"
    },
    {
     "data": {
      "image/png": "[encoded data removed]",
      "text/plain": [
       "<Figure size 720x576 with 1 Axes>"
      ]
     },
     "metadata": {
      "needs_background": "light"
     },
     "output_type": "display_data"
    }
   ],
   "source": [
    "fig, ax1 = plt.subplots(figsize=(10,8))\n",
    "\n",
    "ax1 = sns.barplot(x='Flight Counts', y='Airlines',data= airline_flights, palette=(\"Blues_d\"))\n",
    "\n",
    "ax1.set(title='Flights vs Airline', xlabel='Flights (Million)');\n",
    "\n",
    "ax1.axvline(airline_flights['Flight Counts'].mean(), label='Mean Flight Counts', color='green', ls='--')\n",
    "plt.legend(loc='bottom left')"
   ]
  },
  {
   "cell_type": "markdown",
   "metadata": {},
   "source": [
    "## Delays"
   ]
  },
  {
   "cell_type": "markdown",
   "metadata": {},
   "source": [
    "####  departure delay rate by carriers"
   ]
  },
  {
   "cell_type": "code",
   "execution_count": 8,
   "metadata": {},
   "outputs": [
    {
     "data": {
      "text/html": [
       "<div>\n",
       "<style scoped>\n",
       "    .dataframe tbody tr th:only-of-type {\n",
       "        vertical-align: middle;\n",
       "    }\n",
       "\n",
       "    .dataframe tbody tr th {\n",
       "        vertical-align: top;\n",
       "    }\n",
       "\n",
       "    .dataframe thead th {\n",
       "        text-align: right;\n",
       "    }\n",
       "</style>\n",
       "<table border=\"1\" class=\"dataframe\">\n",
       "  <thead>\n",
       "    <tr style=\"text-align: right;\">\n",
       "      <th></th>\n",
       "      <th>mkt_carrier</th>\n",
       "      <th>total_flights</th>\n",
       "    </tr>\n",
       "  </thead>\n",
       "  <tbody>\n",
       "    <tr>\n",
       "      <th>0</th>\n",
       "      <td>AA</td>\n",
       "      <td>4138991</td>\n",
       "    </tr>\n",
       "    <tr>\n",
       "      <th>1</th>\n",
       "      <td>AS</td>\n",
       "      <td>853796</td>\n",
       "    </tr>\n",
       "    <tr>\n",
       "      <th>2</th>\n",
       "      <td>B6</td>\n",
       "      <td>600928</td>\n",
       "    </tr>\n",
       "    <tr>\n",
       "      <th>3</th>\n",
       "      <td>DL</td>\n",
       "      <td>3487118</td>\n",
       "    </tr>\n",
       "    <tr>\n",
       "      <th>4</th>\n",
       "      <td>F9</td>\n",
       "      <td>255388</td>\n",
       "    </tr>\n",
       "    <tr>\n",
       "      <th>5</th>\n",
       "      <td>G4</td>\n",
       "      <td>201464</td>\n",
       "    </tr>\n",
       "    <tr>\n",
       "      <th>6</th>\n",
       "      <td>HA</td>\n",
       "      <td>184622</td>\n",
       "    </tr>\n",
       "    <tr>\n",
       "      <th>7</th>\n",
       "      <td>NK</td>\n",
       "      <td>380654</td>\n",
       "    </tr>\n",
       "    <tr>\n",
       "      <th>8</th>\n",
       "      <td>UA</td>\n",
       "      <td>3092995</td>\n",
       "    </tr>\n",
       "    <tr>\n",
       "      <th>9</th>\n",
       "      <td>VX</td>\n",
       "      <td>17566</td>\n",
       "    </tr>\n",
       "    <tr>\n",
       "      <th>10</th>\n",
       "      <td>WN</td>\n",
       "      <td>2713963</td>\n",
       "    </tr>\n",
       "  </tbody>\n",
       "</table>\n",
       "</div>"
      ],
      "text/plain": [
       "   mkt_carrier  total_flights\n",
       "0           AA        4138991\n",
       "1           AS         853796\n",
       "2           B6         600928\n",
       "3           DL        3487118\n",
       "4           F9         255388\n",
       "5           G4         201464\n",
       "6           HA         184622\n",
       "7           NK         380654\n",
       "8           UA        3092995\n",
       "9           VX          17566\n",
       "10          WN        2713963"
      ]
     },
     "execution_count": 8,
     "metadata": {},
     "output_type": "execute_result"
    }
   ],
   "source": [
    "total_flights = pd.DataFrame(flights_df.groupby('mkt_carrier')['fl_date'].count().reset_index()).rename({'fl_date': 'total_flights'}, axis=1)\n",
    "\n",
    "total_flights"
   ]
  },
  {
   "cell_type": "code",
   "execution_count": 9,
   "metadata": {},
   "outputs": [],
   "source": [
    "delayed_flights15 = pd.DataFrame(flights_df.loc[flights_df['dep_delay'] > 15].groupby('mkt_carrier')['fl_date'].count().reset_index()).rename({'fl_date': 'total_flights'}, axis=1)\n",
    "flights_departure_delayed = pd.merge(left=delayed_flights15, right=total_flights, on='mkt_carrier')\n",
    "flights_departure_delayed['dep_delayed_frac'] = flights_departure_delayed['total_flights_x']/flights_departure_delayed['total_flights_y']\n",
    "flights_departure_delayed['mkt_carrier'] = flights_departure_delayed['mkt_carrier'].replace(codes)"
   ]
  },
  {
   "cell_type": "code",
   "execution_count": 11,
   "metadata": {},
   "outputs": [
    {
     "data": {
      "text/html": [
       "<div>\n",
       "<style scoped>\n",
       "    .dataframe tbody tr th:only-of-type {\n",
       "        vertical-align: middle;\n",
       "    }\n",
       "\n",
       "    .dataframe tbody tr th {\n",
       "        vertical-align: top;\n",
       "    }\n",
       "\n",
       "    .dataframe thead th {\n",
       "        text-align: right;\n",
       "    }\n",
       "</style>\n",
       "<table border=\"1\" class=\"dataframe\">\n",
       "  <thead>\n",
       "    <tr style=\"text-align: right;\">\n",
       "      <th></th>\n",
       "      <th>mkt_carrier</th>\n",
       "      <th>total_flights_x</th>\n",
       "      <th>total_flights_y</th>\n",
       "      <th>arr_delayed_frac</th>\n",
       "    </tr>\n",
       "  </thead>\n",
       "  <tbody>\n",
       "    <tr>\n",
       "      <th>0</th>\n",
       "      <td>American Airlines Inc.</td>\n",
       "      <td>788333</td>\n",
       "      <td>4138991</td>\n",
       "      <td>0.175443</td>\n",
       "    </tr>\n",
       "    <tr>\n",
       "      <th>1</th>\n",
       "      <td>Alaska Airlines Inc.</td>\n",
       "      <td>134302</td>\n",
       "      <td>853796</td>\n",
       "      <td>0.133771</td>\n",
       "    </tr>\n",
       "    <tr>\n",
       "      <th>2</th>\n",
       "      <td>JetBlue Airways</td>\n",
       "      <td>151442</td>\n",
       "      <td>600928</td>\n",
       "      <td>0.252355</td>\n",
       "    </tr>\n",
       "    <tr>\n",
       "      <th>3</th>\n",
       "      <td>Delta Air Lines Inc.</td>\n",
       "      <td>527865</td>\n",
       "      <td>3487118</td>\n",
       "      <td>0.149140</td>\n",
       "    </tr>\n",
       "    <tr>\n",
       "      <th>4</th>\n",
       "      <td>Frontier Airlines Inc.</td>\n",
       "      <td>66315</td>\n",
       "      <td>255388</td>\n",
       "      <td>0.262804</td>\n",
       "    </tr>\n",
       "    <tr>\n",
       "      <th>5</th>\n",
       "      <td>Allegiant Air</td>\n",
       "      <td>41273</td>\n",
       "      <td>201464</td>\n",
       "      <td>0.193717</td>\n",
       "    </tr>\n",
       "    <tr>\n",
       "      <th>6</th>\n",
       "      <td>Hawaiian Airlines Inc.</td>\n",
       "      <td>19782</td>\n",
       "      <td>184622</td>\n",
       "      <td>0.082325</td>\n",
       "    </tr>\n",
       "    <tr>\n",
       "      <th>7</th>\n",
       "      <td>Spirit Air Lines</td>\n",
       "      <td>67176</td>\n",
       "      <td>380654</td>\n",
       "      <td>0.169380</td>\n",
       "    </tr>\n",
       "    <tr>\n",
       "      <th>8</th>\n",
       "      <td>United Air Lines Inc.</td>\n",
       "      <td>634210</td>\n",
       "      <td>3092995</td>\n",
       "      <td>0.182772</td>\n",
       "    </tr>\n",
       "    <tr>\n",
       "      <th>9</th>\n",
       "      <td>Virgin America</td>\n",
       "      <td>3311</td>\n",
       "      <td>17566</td>\n",
       "      <td>0.166743</td>\n",
       "    </tr>\n",
       "    <tr>\n",
       "      <th>10</th>\n",
       "      <td>Southwest Airlines Co.</td>\n",
       "      <td>473584</td>\n",
       "      <td>2713963</td>\n",
       "      <td>0.203411</td>\n",
       "    </tr>\n",
       "  </tbody>\n",
       "</table>\n",
       "</div>"
      ],
      "text/plain": [
       "               mkt_carrier  total_flights_x  total_flights_y  arr_delayed_frac\n",
       "0   American Airlines Inc.           788333          4138991          0.175443\n",
       "1     Alaska Airlines Inc.           134302           853796          0.133771\n",
       "2          JetBlue Airways           151442           600928          0.252355\n",
       "3     Delta Air Lines Inc.           527865          3487118          0.149140\n",
       "4   Frontier Airlines Inc.            66315           255388          0.262804\n",
       "5            Allegiant Air            41273           201464          0.193717\n",
       "6   Hawaiian Airlines Inc.            19782           184622          0.082325\n",
       "7         Spirit Air Lines            67176           380654          0.169380\n",
       "8    United Air Lines Inc.           634210          3092995          0.182772\n",
       "9           Virgin America             3311            17566          0.166743\n",
       "10  Southwest Airlines Co.           473584          2713963          0.203411"
      ]
     },
     "execution_count": 11,
     "metadata": {},
     "output_type": "execute_result"
    }
   ],
   "source": [
    "arrived_flights15 = pd.DataFrame(flights_df.loc[flights_df['arr_delay'] > 15].groupby('mkt_carrier')['fl_date'].count().reset_index()).rename({'fl_date': 'total_flights'}, axis=1)\n",
    "flights_arrival_delayed = pd.merge(left=arrived_flights15, right=total_flights, on='mkt_carrier')\n",
    "flights_arrival_delayed['arr_delayed_frac'] = flights_departure_delayed['total_flights_x']/flights_departure_delayed['total_flights_y']\n",
    "flights_arrival_delayed['mkt_carrier'] = flights_arrival_delayed['mkt_carrier'].replace(codes)\n",
    "flights_arrival_delayed"
   ]
  },
  {
   "cell_type": "code",
   "execution_count": 21,
   "metadata": {},
   "outputs": [
    {
     "data": {
      "text/plain": [
       "<matplotlib.legend.Legend at 0x218dbf66b88>"
      ]
     },
     "execution_count": 21,
     "metadata": {},
     "output_type": "execute_result"
    },
    {
     "data": {
      "image/png": "[encoded data removed]",
      "text/plain": [
       "<Figure size 720x576 with 1 Axes>"
      ]
     },
     "metadata": {
      "needs_background": "light"
     },
     "output_type": "display_data"
    }
   ],
   "source": [
    "fig, ax1 = plt.subplots(figsize=(10,8))\n",
    "\n",
    "ax1 = sns.barplot(x='dep_delayed_frac', y='mkt_carrier', data=flights_departure_delayed.sort_values(by='dep_delayed_frac', ascending=False), palette=(\"Greens_r\"))\n",
    "ax1.set(title='Fraction of Departure Delays by Airline Greater then 15 min', xlabel='Depature Delays Rate', ylabel='Airline');\n",
    "\n",
    "\n",
    "ax1.axvline(flights_departure_delayed['dep_delayed_frac'].mean(), ls='-.', label='Mean Delay Rate')\n",
    "ax1.legend()"
   ]
  },
  {
   "cell_type": "code",
   "execution_count": 64,
   "metadata": {},
   "outputs": [],
   "source": [
    "####  Arrival delay rate by carriers"
   ]
  },
  {
   "cell_type": "code",
   "execution_count": 65,
   "metadata": {},
   "outputs": [
    {
     "data": {
      "text/html": [
       "<div>\n",
       "<style scoped>\n",
       "    .dataframe tbody tr th:only-of-type {\n",
       "        vertical-align: middle;\n",
       "    }\n",
       "\n",
       "    .dataframe tbody tr th {\n",
       "        vertical-align: top;\n",
       "    }\n",
       "\n",
       "    .dataframe thead th {\n",
       "        text-align: right;\n",
       "    }\n",
       "</style>\n",
       "<table border=\"1\" class=\"dataframe\">\n",
       "  <thead>\n",
       "    <tr style=\"text-align: right;\">\n",
       "      <th></th>\n",
       "      <th>mkt_carrier</th>\n",
       "      <th>total_flights_x</th>\n",
       "      <th>total_flights_y</th>\n",
       "      <th>arr_delayed_frac</th>\n",
       "    </tr>\n",
       "  </thead>\n",
       "  <tbody>\n",
       "    <tr>\n",
       "      <th>0</th>\n",
       "      <td>American Airlines Inc.</td>\n",
       "      <td>788333</td>\n",
       "      <td>4138991</td>\n",
       "      <td>0.175443</td>\n",
       "    </tr>\n",
       "    <tr>\n",
       "      <th>1</th>\n",
       "      <td>Alaska Airlines Inc.</td>\n",
       "      <td>134302</td>\n",
       "      <td>853796</td>\n",
       "      <td>0.133771</td>\n",
       "    </tr>\n",
       "    <tr>\n",
       "      <th>2</th>\n",
       "      <td>JetBlue Airways</td>\n",
       "      <td>151442</td>\n",
       "      <td>600928</td>\n",
       "      <td>0.252355</td>\n",
       "    </tr>\n",
       "    <tr>\n",
       "      <th>3</th>\n",
       "      <td>Delta Air Lines Inc.</td>\n",
       "      <td>527865</td>\n",
       "      <td>3487118</td>\n",
       "      <td>0.149140</td>\n",
       "    </tr>\n",
       "    <tr>\n",
       "      <th>4</th>\n",
       "      <td>Frontier Airlines Inc.</td>\n",
       "      <td>66315</td>\n",
       "      <td>255388</td>\n",
       "      <td>0.262804</td>\n",
       "    </tr>\n",
       "    <tr>\n",
       "      <th>5</th>\n",
       "      <td>Allegiant Air</td>\n",
       "      <td>41273</td>\n",
       "      <td>201464</td>\n",
       "      <td>0.193717</td>\n",
       "    </tr>\n",
       "    <tr>\n",
       "      <th>6</th>\n",
       "      <td>Hawaiian Airlines Inc.</td>\n",
       "      <td>19782</td>\n",
       "      <td>184622</td>\n",
       "      <td>0.082325</td>\n",
       "    </tr>\n",
       "    <tr>\n",
       "      <th>7</th>\n",
       "      <td>Spirit Air Lines</td>\n",
       "      <td>67176</td>\n",
       "      <td>380654</td>\n",
       "      <td>0.169380</td>\n",
       "    </tr>\n",
       "    <tr>\n",
       "      <th>8</th>\n",
       "      <td>United Air Lines Inc.</td>\n",
       "      <td>634210</td>\n",
       "      <td>3092995</td>\n",
       "      <td>0.182772</td>\n",
       "    </tr>\n",
       "    <tr>\n",
       "      <th>9</th>\n",
       "      <td>Virgin America</td>\n",
       "      <td>3311</td>\n",
       "      <td>17566</td>\n",
       "      <td>0.166743</td>\n",
       "    </tr>\n",
       "    <tr>\n",
       "      <th>10</th>\n",
       "      <td>Southwest Airlines Co.</td>\n",
       "      <td>473584</td>\n",
       "      <td>2713963</td>\n",
       "      <td>0.203411</td>\n",
       "    </tr>\n",
       "  </tbody>\n",
       "</table>\n",
       "</div>"
      ],
      "text/plain": [
       "               mkt_carrier  total_flights_x  total_flights_y  arr_delayed_frac\n",
       "0   American Airlines Inc.           788333          4138991          0.175443\n",
       "1     Alaska Airlines Inc.           134302           853796          0.133771\n",
       "2          JetBlue Airways           151442           600928          0.252355\n",
       "3     Delta Air Lines Inc.           527865          3487118          0.149140\n",
       "4   Frontier Airlines Inc.            66315           255388          0.262804\n",
       "5            Allegiant Air            41273           201464          0.193717\n",
       "6   Hawaiian Airlines Inc.            19782           184622          0.082325\n",
       "7         Spirit Air Lines            67176           380654          0.169380\n",
       "8    United Air Lines Inc.           634210          3092995          0.182772\n",
       "9           Virgin America             3311            17566          0.166743\n",
       "10  Southwest Airlines Co.           473584          2713963          0.203411"
      ]
     },
     "execution_count": 65,
     "metadata": {},
     "output_type": "execute_result"
    }
   ],
   "source": [
    "arrived_flights15 = pd.DataFrame(flights_df.loc[flights_df['arr_delay'] > 15].groupby('mkt_carrier')['fl_date'].count().reset_index()).rename({'fl_date': 'total_flights'}, axis=1)\n",
    "flights_arrival_delayed = pd.merge(left=arrived_flights15, right=total_flights, on='mkt_carrier')\n",
    "flights_arrival_delayed['arr_delayed_frac'] = flights_departure_delayed['total_flights_x']/flights_departure_delayed['total_flights_y']\n",
    "flights_arrival_delayed['mkt_carrier'] = flights_arrival_delayed['mkt_carrier'].replace(codes)\n",
    "flights_arrival_delayed"
   ]
  },
  {
   "cell_type": "code",
   "execution_count": 22,
   "metadata": {},
   "outputs": [
    {
     "data": {
      "text/plain": [
       "<matplotlib.legend.Legend at 0x2189ef67488>"
      ]
     },
     "execution_count": 22,
     "metadata": {},
     "output_type": "execute_result"
    },
    {
     "data": {
      "image/png": "[encoded data removed]",
      "text/plain": [
       "<Figure size 720x576 with 1 Axes>"
      ]
     },
     "metadata": {
      "needs_background": "light"
     },
     "output_type": "display_data"
    }
   ],
   "source": [
    "fig, ax1 = plt.subplots(figsize=(10,8))\n",
    "\n",
    "ax2 = sns.barplot(x='arr_delayed_frac', y='mkt_carrier', data=flights_arrival_delayed.sort_values(by='arr_delayed_frac', ascending=False), palette=(\"Blues_d\"))\n",
    "ax2.set(title='Fraction of Arrival Delays by Airline Greater 15 min', xlabel='Arrival Delays Rate', ylabel='Airline');\n",
    "\n",
    "ax1.axvline(flights_arrival_delayed['arr_delayed_frac'].mean(), color='green', ls='-.', label='Mean Delay Rate')\n",
    "ax1.legend()"
   ]
  },
  {
   "cell_type": "code",
   "execution_count": 69,
   "metadata": {},
   "outputs": [],
   "source": [
    "# Departure and Arrival delays are similar between both airlines\n",
    "# Alska and Hawaiian Airlines exhibited the lowest Delay rates"
   ]
  },
  {
   "cell_type": "code",
   "execution_count": null,
   "metadata": {},
   "outputs": [],
   "source": []
  },
  {
   "cell_type": "code",
   "execution_count": null,
   "metadata": {},
   "outputs": [],
   "source": []
  },
  {
   "cell_type": "markdown",
   "metadata": {},
   "source": [
    "#### Mean Arrival/Delays by airline"
   ]
  },
  {
   "cell_type": "code",
   "execution_count": 23,
   "metadata": {},
   "outputs": [
    {
     "data": {
      "text/html": [
       "<div>\n",
       "<style scoped>\n",
       "    .dataframe tbody tr th:only-of-type {\n",
       "        vertical-align: middle;\n",
       "    }\n",
       "\n",
       "    .dataframe tbody tr th {\n",
       "        vertical-align: top;\n",
       "    }\n",
       "\n",
       "    .dataframe thead th {\n",
       "        text-align: right;\n",
       "    }\n",
       "</style>\n",
       "<table border=\"1\" class=\"dataframe\">\n",
       "  <thead>\n",
       "    <tr style=\"text-align: right;\">\n",
       "      <th></th>\n",
       "      <th>mkt_carrier</th>\n",
       "      <th>dep_delay</th>\n",
       "      <th>arr_delay</th>\n",
       "      <th>Airline</th>\n",
       "    </tr>\n",
       "  </thead>\n",
       "  <tbody>\n",
       "    <tr>\n",
       "      <th>0</th>\n",
       "      <td>AA</td>\n",
       "      <td>10.289777</td>\n",
       "      <td>6.407416</td>\n",
       "      <td>American Airlines Inc.</td>\n",
       "    </tr>\n",
       "    <tr>\n",
       "      <th>1</th>\n",
       "      <td>AS</td>\n",
       "      <td>3.669697</td>\n",
       "      <td>0.746585</td>\n",
       "      <td>Alaska Airlines Inc.</td>\n",
       "    </tr>\n",
       "    <tr>\n",
       "      <th>2</th>\n",
       "      <td>B6</td>\n",
       "      <td>16.796378</td>\n",
       "      <td>11.328906</td>\n",
       "      <td>JetBlue Airways</td>\n",
       "    </tr>\n",
       "    <tr>\n",
       "      <th>3</th>\n",
       "      <td>DL</td>\n",
       "      <td>9.347935</td>\n",
       "      <td>2.511255</td>\n",
       "      <td>Delta Air Lines Inc.</td>\n",
       "    </tr>\n",
       "    <tr>\n",
       "      <th>4</th>\n",
       "      <td>F9</td>\n",
       "      <td>16.971048</td>\n",
       "      <td>11.294149</td>\n",
       "      <td>Frontier Airlines Inc.</td>\n",
       "    </tr>\n",
       "    <tr>\n",
       "      <th>5</th>\n",
       "      <td>G4</td>\n",
       "      <td>11.458060</td>\n",
       "      <td>8.948751</td>\n",
       "      <td>Allegiant Air</td>\n",
       "    </tr>\n",
       "    <tr>\n",
       "      <th>6</th>\n",
       "      <td>HA</td>\n",
       "      <td>1.530184</td>\n",
       "      <td>1.245525</td>\n",
       "      <td>Hawaiian Airlines Inc.</td>\n",
       "    </tr>\n",
       "    <tr>\n",
       "      <th>7</th>\n",
       "      <td>NK</td>\n",
       "      <td>10.442608</td>\n",
       "      <td>5.135043</td>\n",
       "      <td>Spirit Air Lines</td>\n",
       "    </tr>\n",
       "    <tr>\n",
       "      <th>8</th>\n",
       "      <td>UA</td>\n",
       "      <td>12.854547</td>\n",
       "      <td>9.095866</td>\n",
       "      <td>United Air Lines Inc.</td>\n",
       "    </tr>\n",
       "    <tr>\n",
       "      <th>9</th>\n",
       "      <td>VX</td>\n",
       "      <td>6.333005</td>\n",
       "      <td>1.727978</td>\n",
       "      <td>Virgin America</td>\n",
       "    </tr>\n",
       "    <tr>\n",
       "      <th>10</th>\n",
       "      <td>WN</td>\n",
       "      <td>10.658826</td>\n",
       "      <td>3.549976</td>\n",
       "      <td>Southwest Airlines Co.</td>\n",
       "    </tr>\n",
       "  </tbody>\n",
       "</table>\n",
       "</div>"
      ],
      "text/plain": [
       "   mkt_carrier  dep_delay  arr_delay                 Airline\n",
       "0           AA  10.289777   6.407416  American Airlines Inc.\n",
       "1           AS   3.669697   0.746585    Alaska Airlines Inc.\n",
       "2           B6  16.796378  11.328906         JetBlue Airways\n",
       "3           DL   9.347935   2.511255    Delta Air Lines Inc.\n",
       "4           F9  16.971048  11.294149  Frontier Airlines Inc.\n",
       "5           G4  11.458060   8.948751           Allegiant Air\n",
       "6           HA   1.530184   1.245525  Hawaiian Airlines Inc.\n",
       "7           NK  10.442608   5.135043        Spirit Air Lines\n",
       "8           UA  12.854547   9.095866   United Air Lines Inc.\n",
       "9           VX   6.333005   1.727978          Virgin America\n",
       "10          WN  10.658826   3.549976  Southwest Airlines Co."
      ]
     },
     "execution_count": 23,
     "metadata": {},
     "output_type": "execute_result"
    }
   ],
   "source": [
    "delays_airline = flights_df.groupby('mkt_carrier')['dep_delay', 'arr_delay'].mean().reset_index()\n",
    "delays_airline['Airline'] = delays_airline['mkt_carrier'].replace(codes)\n",
    "\n",
    "delays_airline"
   ]
  },
  {
   "cell_type": "code",
   "execution_count": 26,
   "metadata": {},
   "outputs": [
    {
     "data": {
      "image/png": "[encoded data removed]",
      "text/plain": [
       "<Figure size 720x576 with 1 Axes>"
      ]
     },
     "metadata": {
      "needs_background": "light"
     },
     "output_type": "display_data"
    }
   ],
   "source": [
    "fig, ax3 = plt.subplots(figsize=(10,8))\n",
    "\n",
    "ax3 = sns.set_color_codes(\"pastel\")\n",
    "sns.set_context(\"notebook\", font_scale=1.5)\n",
    "ax3 = sns.barplot(x=\"dep_delay\", y=\"Airline\", data=delays_airline.sort_values('dep_delay', ascending=False),\n",
    "            label=\"Depature\", color=\"g\")\n",
    "ax3 = sns.barplot(x=\"arr_delay\", y=\"Airline\", data=delays_airline.sort_values('dep_delay', ascending=False),\n",
    "            label=\"Arrival\", color=\"b\")\n",
    "ax3.set(title='Average Delay Time by Airline',xlabel=\"Average Delay Time\")\n",
    "\n",
    "ax3.axvline(delays_airline['dep_delay'].mean(), label='Depature Delay',ls='-.', color='green')\n",
    "ax3.axvline(delays_airline['arr_delay'].mean(), label='Arrival Delay', ls='-.', color='blue')\n",
    "plt.legend();"
   ]
  },
  {
   "cell_type": "code",
   "execution_count": 90,
   "metadata": {},
   "outputs": [],
   "source": [
    "# Frontier and Jetblue have longest mean delay times\n",
    "# Alaska and Hawiian Airlines among the lowest delat times\n",
    "# Departure delays are longer then Arrival\n",
    "# We can greatly reduce Delays by addressing Departure"
   ]
  },
  {
   "cell_type": "markdown",
   "metadata": {},
   "source": [
    "#### Cancelled Rates per airline"
   ]
  },
  {
   "cell_type": "code",
   "execution_count": 17,
   "metadata": {},
   "outputs": [],
   "source": [
    "cancelled_flights = flights_df.loc[(flights_df['cancelled'] == 1)].groupby('mkt_carrier')['fl_date'].count().reset_index().rename({'fl_date': 'cancelled_count'},axis=1)"
   ]
  },
  {
   "cell_type": "code",
   "execution_count": 21,
   "metadata": {},
   "outputs": [
    {
     "data": {
      "text/html": [
       "<div>\n",
       "<style scoped>\n",
       "    .dataframe tbody tr th:only-of-type {\n",
       "        vertical-align: middle;\n",
       "    }\n",
       "\n",
       "    .dataframe tbody tr th {\n",
       "        vertical-align: top;\n",
       "    }\n",
       "\n",
       "    .dataframe thead th {\n",
       "        text-align: right;\n",
       "    }\n",
       "</style>\n",
       "<table border=\"1\" class=\"dataframe\">\n",
       "  <thead>\n",
       "    <tr style=\"text-align: right;\">\n",
       "      <th></th>\n",
       "      <th>mkt_carrier</th>\n",
       "      <th>cancelled_count</th>\n",
       "      <th>total_flights</th>\n",
       "      <th>cancelled_frac</th>\n",
       "      <th>Airline</th>\n",
       "    </tr>\n",
       "  </thead>\n",
       "  <tbody>\n",
       "    <tr>\n",
       "      <th>0</th>\n",
       "      <td>AA</td>\n",
       "      <td>103455</td>\n",
       "      <td>4138991</td>\n",
       "      <td>0.024995</td>\n",
       "      <td>American Airlines Inc.</td>\n",
       "    </tr>\n",
       "    <tr>\n",
       "      <th>1</th>\n",
       "      <td>AS</td>\n",
       "      <td>10503</td>\n",
       "      <td>853796</td>\n",
       "      <td>0.012302</td>\n",
       "      <td>Alaska Airlines Inc.</td>\n",
       "    </tr>\n",
       "    <tr>\n",
       "      <th>2</th>\n",
       "      <td>B6</td>\n",
       "      <td>8712</td>\n",
       "      <td>600928</td>\n",
       "      <td>0.014498</td>\n",
       "      <td>JetBlue Airways</td>\n",
       "    </tr>\n",
       "    <tr>\n",
       "      <th>3</th>\n",
       "      <td>DL</td>\n",
       "      <td>24165</td>\n",
       "      <td>3487118</td>\n",
       "      <td>0.006930</td>\n",
       "      <td>Delta Air Lines Inc.</td>\n",
       "    </tr>\n",
       "    <tr>\n",
       "      <th>4</th>\n",
       "      <td>F9</td>\n",
       "      <td>4421</td>\n",
       "      <td>255388</td>\n",
       "      <td>0.017311</td>\n",
       "      <td>Frontier Airlines Inc.</td>\n",
       "    </tr>\n",
       "    <tr>\n",
       "      <th>5</th>\n",
       "      <td>G4</td>\n",
       "      <td>1335</td>\n",
       "      <td>201464</td>\n",
       "      <td>0.006626</td>\n",
       "      <td>Allegiant Air</td>\n",
       "    </tr>\n",
       "    <tr>\n",
       "      <th>6</th>\n",
       "      <td>HA</td>\n",
       "      <td>1313</td>\n",
       "      <td>184622</td>\n",
       "      <td>0.007112</td>\n",
       "      <td>Hawaiian Airlines Inc.</td>\n",
       "    </tr>\n",
       "    <tr>\n",
       "      <th>7</th>\n",
       "      <td>NK</td>\n",
       "      <td>4958</td>\n",
       "      <td>380654</td>\n",
       "      <td>0.013025</td>\n",
       "      <td>Spirit Air Lines</td>\n",
       "    </tr>\n",
       "    <tr>\n",
       "      <th>8</th>\n",
       "      <td>UA</td>\n",
       "      <td>60586</td>\n",
       "      <td>3092995</td>\n",
       "      <td>0.019588</td>\n",
       "      <td>United Air Lines Inc.</td>\n",
       "    </tr>\n",
       "    <tr>\n",
       "      <th>9</th>\n",
       "      <td>VX</td>\n",
       "      <td>330</td>\n",
       "      <td>17566</td>\n",
       "      <td>0.018786</td>\n",
       "      <td>Virgin America</td>\n",
       "    </tr>\n",
       "    <tr>\n",
       "      <th>10</th>\n",
       "      <td>WN</td>\n",
       "      <td>49430</td>\n",
       "      <td>2713963</td>\n",
       "      <td>0.018213</td>\n",
       "      <td>Southwest Airlines Co.</td>\n",
       "    </tr>\n",
       "  </tbody>\n",
       "</table>\n",
       "</div>"
      ],
      "text/plain": [
       "   mkt_carrier  cancelled_count  total_flights  cancelled_frac  \\\n",
       "0           AA           103455        4138991        0.024995   \n",
       "1           AS            10503         853796        0.012302   \n",
       "2           B6             8712         600928        0.014498   \n",
       "3           DL            24165        3487118        0.006930   \n",
       "4           F9             4421         255388        0.017311   \n",
       "5           G4             1335         201464        0.006626   \n",
       "6           HA             1313         184622        0.007112   \n",
       "7           NK             4958         380654        0.013025   \n",
       "8           UA            60586        3092995        0.019588   \n",
       "9           VX              330          17566        0.018786   \n",
       "10          WN            49430        2713963        0.018213   \n",
       "\n",
       "                   Airline  \n",
       "0   American Airlines Inc.  \n",
       "1     Alaska Airlines Inc.  \n",
       "2          JetBlue Airways  \n",
       "3     Delta Air Lines Inc.  \n",
       "4   Frontier Airlines Inc.  \n",
       "5            Allegiant Air  \n",
       "6   Hawaiian Airlines Inc.  \n",
       "7         Spirit Air Lines  \n",
       "8    United Air Lines Inc.  \n",
       "9           Virgin America  \n",
       "10  Southwest Airlines Co.  "
      ]
     },
     "execution_count": 21,
     "metadata": {},
     "output_type": "execute_result"
    }
   ],
   "source": [
    "# Create new dataframe merging total flights and cancelled flights\n",
    "# Get fractions\n",
    "cancelled_frac = pd.merge(left=cancelled_flights, right=total_flights, on='mkt_carrier')\n",
    "cancelled_frac['cancelled_frac'] = cancelled_frac['cancelled_count']/cancelled_frac['total_flights']\n",
    "cancelled_frac['Airline'] = cancelled_frac['mkt_carrier'].replace(codes)\n",
    "cancelled_frac"
   ]
  },
  {
   "cell_type": "code",
   "execution_count": null,
   "metadata": {},
   "outputs": [],
   "source": []
  },
  {
   "cell_type": "code",
   "execution_count": 30,
   "metadata": {},
   "outputs": [
    {
     "data": {
      "text/plain": [
       "<matplotlib.legend.Legend at 0x2388b3bfdc8>"
      ]
     },
     "execution_count": 30,
     "metadata": {},
     "output_type": "execute_result"
    },
    {
     "data": {
      "image/png": "[encoded data removed]",
      "text/plain": [
       "<Figure size 720x576 with 1 Axes>"
      ]
     },
     "metadata": {
      "needs_background": "light"
     },
     "output_type": "display_data"
    }
   ],
   "source": [
    "fig, ax6 = plt.subplots(figsize=(10,8))\n",
    "\n",
    "ax6 = sns.barplot(x='cancelled_frac', \n",
    "                  y='Airline', \n",
    "                  data=cancelled_frac.sort_values('cancelled_frac', ascending=False), \n",
    "                  palette='Reds_r')\n",
    "\n",
    "ax6.axvline(cancelled_frac['cancelled_frac'].mean(), label='Mean Cancellation Rate',color='black', ls='--')\n",
    "                        \n",
    "ax6.set(title='Cancel Rate by Airline', xlabel='Cancelled Rate')\n",
    "\n",
    "plt.legend()"
   ]
  },
  {
   "cell_type": "code",
   "execution_count": 29,
   "metadata": {},
   "outputs": [],
   "source": [
    "# Delta, Alaska, Hawaiian Airlines amongst the lowest cancellation rates\n",
    "# American Airlines worst 2.4% of all flights wll be cancelled\n",
    "# Following United Air and Virgin Air amongst the highest cancellation rates"
   ]
  },
  {
   "cell_type": "code",
   "execution_count": null,
   "metadata": {},
   "outputs": [],
   "source": []
  },
  {
   "cell_type": "code",
   "execution_count": null,
   "metadata": {},
   "outputs": [],
   "source": []
  },
  {
   "cell_type": "markdown",
   "metadata": {},
   "source": [
    "#### Airline on time percentage (most on time airline)"
   ]
  },
  {
   "cell_type": "code",
   "execution_count": null,
   "metadata": {},
   "outputs": [],
   "source": []
  },
  {
   "cell_type": "code",
   "execution_count": 27,
   "metadata": {},
   "outputs": [
    {
     "data": {
      "text/html": [
       "<div>\n",
       "<style scoped>\n",
       "    .dataframe tbody tr th:only-of-type {\n",
       "        vertical-align: middle;\n",
       "    }\n",
       "\n",
       "    .dataframe tbody tr th {\n",
       "        vertical-align: top;\n",
       "    }\n",
       "\n",
       "    .dataframe thead th {\n",
       "        text-align: right;\n",
       "    }\n",
       "</style>\n",
       "<table border=\"1\" class=\"dataframe\">\n",
       "  <thead>\n",
       "    <tr style=\"text-align: right;\">\n",
       "      <th></th>\n",
       "      <th>mkt_carrier</th>\n",
       "      <th>total_flights</th>\n",
       "    </tr>\n",
       "  </thead>\n",
       "  <tbody>\n",
       "    <tr>\n",
       "      <th>0</th>\n",
       "      <td>AA</td>\n",
       "      <td>4138991</td>\n",
       "    </tr>\n",
       "    <tr>\n",
       "      <th>1</th>\n",
       "      <td>AS</td>\n",
       "      <td>853796</td>\n",
       "    </tr>\n",
       "    <tr>\n",
       "      <th>2</th>\n",
       "      <td>B6</td>\n",
       "      <td>600928</td>\n",
       "    </tr>\n",
       "    <tr>\n",
       "      <th>3</th>\n",
       "      <td>DL</td>\n",
       "      <td>3487118</td>\n",
       "    </tr>\n",
       "    <tr>\n",
       "      <th>4</th>\n",
       "      <td>F9</td>\n",
       "      <td>255388</td>\n",
       "    </tr>\n",
       "    <tr>\n",
       "      <th>5</th>\n",
       "      <td>G4</td>\n",
       "      <td>201464</td>\n",
       "    </tr>\n",
       "    <tr>\n",
       "      <th>6</th>\n",
       "      <td>HA</td>\n",
       "      <td>184622</td>\n",
       "    </tr>\n",
       "    <tr>\n",
       "      <th>7</th>\n",
       "      <td>NK</td>\n",
       "      <td>380654</td>\n",
       "    </tr>\n",
       "    <tr>\n",
       "      <th>8</th>\n",
       "      <td>UA</td>\n",
       "      <td>3092995</td>\n",
       "    </tr>\n",
       "    <tr>\n",
       "      <th>9</th>\n",
       "      <td>VX</td>\n",
       "      <td>17566</td>\n",
       "    </tr>\n",
       "    <tr>\n",
       "      <th>10</th>\n",
       "      <td>WN</td>\n",
       "      <td>2713963</td>\n",
       "    </tr>\n",
       "  </tbody>\n",
       "</table>\n",
       "</div>"
      ],
      "text/plain": [
       "   mkt_carrier  total_flights\n",
       "0           AA        4138991\n",
       "1           AS         853796\n",
       "2           B6         600928\n",
       "3           DL        3487118\n",
       "4           F9         255388\n",
       "5           G4         201464\n",
       "6           HA         184622\n",
       "7           NK         380654\n",
       "8           UA        3092995\n",
       "9           VX          17566\n",
       "10          WN        2713963"
      ]
     },
     "execution_count": 27,
     "metadata": {},
     "output_type": "execute_result"
    }
   ],
   "source": [
    "total_flights"
   ]
  },
  {
   "cell_type": "code",
   "execution_count": 28,
   "metadata": {},
   "outputs": [
    {
     "data": {
      "text/html": [
       "<div>\n",
       "<style scoped>\n",
       "    .dataframe tbody tr th:only-of-type {\n",
       "        vertical-align: middle;\n",
       "    }\n",
       "\n",
       "    .dataframe tbody tr th {\n",
       "        vertical-align: top;\n",
       "    }\n",
       "\n",
       "    .dataframe thead th {\n",
       "        text-align: right;\n",
       "    }\n",
       "</style>\n",
       "<table border=\"1\" class=\"dataframe\">\n",
       "  <thead>\n",
       "    <tr style=\"text-align: right;\">\n",
       "      <th></th>\n",
       "      <th>mkt_carrier</th>\n",
       "      <th>total_flights</th>\n",
       "    </tr>\n",
       "  </thead>\n",
       "  <tbody>\n",
       "    <tr>\n",
       "      <th>0</th>\n",
       "      <td>AA</td>\n",
       "      <td>2714477</td>\n",
       "    </tr>\n",
       "    <tr>\n",
       "      <th>3</th>\n",
       "      <td>DL</td>\n",
       "      <td>2455798</td>\n",
       "    </tr>\n",
       "    <tr>\n",
       "      <th>8</th>\n",
       "      <td>UA</td>\n",
       "      <td>2129648</td>\n",
       "    </tr>\n",
       "    <tr>\n",
       "      <th>10</th>\n",
       "      <td>WN</td>\n",
       "      <td>1380864</td>\n",
       "    </tr>\n",
       "    <tr>\n",
       "      <th>1</th>\n",
       "      <td>AS</td>\n",
       "      <td>605429</td>\n",
       "    </tr>\n",
       "    <tr>\n",
       "      <th>2</th>\n",
       "      <td>B6</td>\n",
       "      <td>352461</td>\n",
       "    </tr>\n",
       "    <tr>\n",
       "      <th>7</th>\n",
       "      <td>NK</td>\n",
       "      <td>259696</td>\n",
       "    </tr>\n",
       "    <tr>\n",
       "      <th>4</th>\n",
       "      <td>F9</td>\n",
       "      <td>145161</td>\n",
       "    </tr>\n",
       "    <tr>\n",
       "      <th>5</th>\n",
       "      <td>G4</td>\n",
       "      <td>133924</td>\n",
       "    </tr>\n",
       "    <tr>\n",
       "      <th>6</th>\n",
       "      <td>HA</td>\n",
       "      <td>131776</td>\n",
       "    </tr>\n",
       "    <tr>\n",
       "      <th>9</th>\n",
       "      <td>VX</td>\n",
       "      <td>11859</td>\n",
       "    </tr>\n",
       "  </tbody>\n",
       "</table>\n",
       "</div>"
      ],
      "text/plain": [
       "   mkt_carrier  total_flights\n",
       "0           AA        2714477\n",
       "3           DL        2455798\n",
       "8           UA        2129648\n",
       "10          WN        1380864\n",
       "1           AS         605429\n",
       "2           B6         352461\n",
       "7           NK         259696\n",
       "4           F9         145161\n",
       "5           G4         133924\n",
       "6           HA         131776\n",
       "9           VX          11859"
      ]
     },
     "execution_count": 28,
     "metadata": {},
     "output_type": "execute_result"
    }
   ],
   "source": [
    "ontime_departure_airlines = flights_df.loc[flights_df['dep_delay'] <= 0].groupby('mkt_carrier')['fl_date'].count().reset_index().rename({'fl_date': 'total_flights'}, axis=1)\n",
    "ontime_departure_airlines.sort_values(by='total_flights', ascending=False)"
   ]
  },
  {
   "cell_type": "code",
   "execution_count": 29,
   "metadata": {},
   "outputs": [
    {
     "data": {
      "text/html": [
       "<div>\n",
       "<style scoped>\n",
       "    .dataframe tbody tr th:only-of-type {\n",
       "        vertical-align: middle;\n",
       "    }\n",
       "\n",
       "    .dataframe tbody tr th {\n",
       "        vertical-align: top;\n",
       "    }\n",
       "\n",
       "    .dataframe thead th {\n",
       "        text-align: right;\n",
       "    }\n",
       "</style>\n",
       "<table border=\"1\" class=\"dataframe\">\n",
       "  <thead>\n",
       "    <tr style=\"text-align: right;\">\n",
       "      <th></th>\n",
       "      <th>mkt_carrier</th>\n",
       "      <th>total_flights_x</th>\n",
       "      <th>total_flights_y</th>\n",
       "      <th>ontime_frac</th>\n",
       "      <th>Airline</th>\n",
       "    </tr>\n",
       "  </thead>\n",
       "  <tbody>\n",
       "    <tr>\n",
       "      <th>0</th>\n",
       "      <td>AA</td>\n",
       "      <td>2714477</td>\n",
       "      <td>4138991</td>\n",
       "      <td>0.655831</td>\n",
       "      <td>American Airlines Inc.</td>\n",
       "    </tr>\n",
       "    <tr>\n",
       "      <th>1</th>\n",
       "      <td>AS</td>\n",
       "      <td>605429</td>\n",
       "      <td>853796</td>\n",
       "      <td>0.709103</td>\n",
       "      <td>Alaska Airlines Inc.</td>\n",
       "    </tr>\n",
       "    <tr>\n",
       "      <th>2</th>\n",
       "      <td>B6</td>\n",
       "      <td>352461</td>\n",
       "      <td>600928</td>\n",
       "      <td>0.586528</td>\n",
       "      <td>JetBlue Airways</td>\n",
       "    </tr>\n",
       "    <tr>\n",
       "      <th>3</th>\n",
       "      <td>DL</td>\n",
       "      <td>2455798</td>\n",
       "      <td>3487118</td>\n",
       "      <td>0.704249</td>\n",
       "      <td>Delta Air Lines Inc.</td>\n",
       "    </tr>\n",
       "    <tr>\n",
       "      <th>4</th>\n",
       "      <td>F9</td>\n",
       "      <td>145161</td>\n",
       "      <td>255388</td>\n",
       "      <td>0.568394</td>\n",
       "      <td>Frontier Airlines Inc.</td>\n",
       "    </tr>\n",
       "    <tr>\n",
       "      <th>5</th>\n",
       "      <td>G4</td>\n",
       "      <td>133924</td>\n",
       "      <td>201464</td>\n",
       "      <td>0.664754</td>\n",
       "      <td>Allegiant Air</td>\n",
       "    </tr>\n",
       "    <tr>\n",
       "      <th>6</th>\n",
       "      <td>HA</td>\n",
       "      <td>131776</td>\n",
       "      <td>184622</td>\n",
       "      <td>0.713761</td>\n",
       "      <td>Hawaiian Airlines Inc.</td>\n",
       "    </tr>\n",
       "    <tr>\n",
       "      <th>7</th>\n",
       "      <td>NK</td>\n",
       "      <td>259696</td>\n",
       "      <td>380654</td>\n",
       "      <td>0.682236</td>\n",
       "      <td>Spirit Air Lines</td>\n",
       "    </tr>\n",
       "    <tr>\n",
       "      <th>8</th>\n",
       "      <td>UA</td>\n",
       "      <td>2129648</td>\n",
       "      <td>3092995</td>\n",
       "      <td>0.688539</td>\n",
       "      <td>United Air Lines Inc.</td>\n",
       "    </tr>\n",
       "    <tr>\n",
       "      <th>9</th>\n",
       "      <td>VX</td>\n",
       "      <td>11859</td>\n",
       "      <td>17566</td>\n",
       "      <td>0.675111</td>\n",
       "      <td>Virgin America</td>\n",
       "    </tr>\n",
       "    <tr>\n",
       "      <th>10</th>\n",
       "      <td>WN</td>\n",
       "      <td>1380864</td>\n",
       "      <td>2713963</td>\n",
       "      <td>0.508800</td>\n",
       "      <td>Southwest Airlines Co.</td>\n",
       "    </tr>\n",
       "  </tbody>\n",
       "</table>\n",
       "</div>"
      ],
      "text/plain": [
       "   mkt_carrier  total_flights_x  total_flights_y  ontime_frac  \\\n",
       "0           AA          2714477          4138991     0.655831   \n",
       "1           AS           605429           853796     0.709103   \n",
       "2           B6           352461           600928     0.586528   \n",
       "3           DL          2455798          3487118     0.704249   \n",
       "4           F9           145161           255388     0.568394   \n",
       "5           G4           133924           201464     0.664754   \n",
       "6           HA           131776           184622     0.713761   \n",
       "7           NK           259696           380654     0.682236   \n",
       "8           UA          2129648          3092995     0.688539   \n",
       "9           VX            11859            17566     0.675111   \n",
       "10          WN          1380864          2713963     0.508800   \n",
       "\n",
       "                   Airline  \n",
       "0   American Airlines Inc.  \n",
       "1     Alaska Airlines Inc.  \n",
       "2          JetBlue Airways  \n",
       "3     Delta Air Lines Inc.  \n",
       "4   Frontier Airlines Inc.  \n",
       "5            Allegiant Air  \n",
       "6   Hawaiian Airlines Inc.  \n",
       "7         Spirit Air Lines  \n",
       "8    United Air Lines Inc.  \n",
       "9           Virgin America  \n",
       "10  Southwest Airlines Co.  "
      ]
     },
     "execution_count": 29,
     "metadata": {},
     "output_type": "execute_result"
    }
   ],
   "source": [
    "merged_ontime = pd.merge(left=ontime_departure_airlines, right=total_flights, on='mkt_carrier')\n",
    "merged_ontime['ontime_frac'] = merged_ontime['total_flights_x']/merged_ontime['total_flights_y']\n",
    "merged_ontime['Airline'] = merged_ontime['mkt_carrier'].replace(codes)\n",
    "merged_ontime"
   ]
  },
  {
   "cell_type": "code",
   "execution_count": 30,
   "metadata": {},
   "outputs": [
    {
     "data": {
      "text/html": [
       "<div>\n",
       "<style scoped>\n",
       "    .dataframe tbody tr th:only-of-type {\n",
       "        vertical-align: middle;\n",
       "    }\n",
       "\n",
       "    .dataframe tbody tr th {\n",
       "        vertical-align: top;\n",
       "    }\n",
       "\n",
       "    .dataframe thead th {\n",
       "        text-align: right;\n",
       "    }\n",
       "</style>\n",
       "<table border=\"1\" class=\"dataframe\">\n",
       "  <thead>\n",
       "    <tr style=\"text-align: right;\">\n",
       "      <th></th>\n",
       "      <th>mkt_carrier</th>\n",
       "      <th>total_flights_x</th>\n",
       "      <th>total_flights_y</th>\n",
       "      <th>ontime_frac</th>\n",
       "      <th>Airline</th>\n",
       "    </tr>\n",
       "  </thead>\n",
       "  <tbody>\n",
       "    <tr>\n",
       "      <th>0</th>\n",
       "      <td>AA</td>\n",
       "      <td>2539052</td>\n",
       "      <td>4138991</td>\n",
       "      <td>0.613447</td>\n",
       "      <td>American Airlines Inc.</td>\n",
       "    </tr>\n",
       "    <tr>\n",
       "      <th>1</th>\n",
       "      <td>AS</td>\n",
       "      <td>545952</td>\n",
       "      <td>853796</td>\n",
       "      <td>0.639441</td>\n",
       "      <td>Alaska Airlines Inc.</td>\n",
       "    </tr>\n",
       "    <tr>\n",
       "      <th>2</th>\n",
       "      <td>B6</td>\n",
       "      <td>352547</td>\n",
       "      <td>600928</td>\n",
       "      <td>0.586671</td>\n",
       "      <td>JetBlue Airways</td>\n",
       "    </tr>\n",
       "    <tr>\n",
       "      <th>3</th>\n",
       "      <td>DL</td>\n",
       "      <td>2438717</td>\n",
       "      <td>3487118</td>\n",
       "      <td>0.699350</td>\n",
       "      <td>Delta Air Lines Inc.</td>\n",
       "    </tr>\n",
       "    <tr>\n",
       "      <th>4</th>\n",
       "      <td>F9</td>\n",
       "      <td>145389</td>\n",
       "      <td>255388</td>\n",
       "      <td>0.569287</td>\n",
       "      <td>Frontier Airlines Inc.</td>\n",
       "    </tr>\n",
       "    <tr>\n",
       "      <th>5</th>\n",
       "      <td>G4</td>\n",
       "      <td>122930</td>\n",
       "      <td>201464</td>\n",
       "      <td>0.610183</td>\n",
       "      <td>Allegiant Air</td>\n",
       "    </tr>\n",
       "    <tr>\n",
       "      <th>6</th>\n",
       "      <td>HA</td>\n",
       "      <td>120782</td>\n",
       "      <td>184622</td>\n",
       "      <td>0.654212</td>\n",
       "      <td>Hawaiian Airlines Inc.</td>\n",
       "    </tr>\n",
       "    <tr>\n",
       "      <th>7</th>\n",
       "      <td>NK</td>\n",
       "      <td>252238</td>\n",
       "      <td>380654</td>\n",
       "      <td>0.662644</td>\n",
       "      <td>Spirit Air Lines</td>\n",
       "    </tr>\n",
       "    <tr>\n",
       "      <th>8</th>\n",
       "      <td>UA</td>\n",
       "      <td>1922754</td>\n",
       "      <td>3092995</td>\n",
       "      <td>0.621648</td>\n",
       "      <td>United Air Lines Inc.</td>\n",
       "    </tr>\n",
       "    <tr>\n",
       "      <th>9</th>\n",
       "      <td>VX</td>\n",
       "      <td>10815</td>\n",
       "      <td>17566</td>\n",
       "      <td>0.615678</td>\n",
       "      <td>Virgin America</td>\n",
       "    </tr>\n",
       "    <tr>\n",
       "      <th>10</th>\n",
       "      <td>WN</td>\n",
       "      <td>1688956</td>\n",
       "      <td>2713963</td>\n",
       "      <td>0.622321</td>\n",
       "      <td>Southwest Airlines Co.</td>\n",
       "    </tr>\n",
       "  </tbody>\n",
       "</table>\n",
       "</div>"
      ],
      "text/plain": [
       "   mkt_carrier  total_flights_x  total_flights_y  ontime_frac  \\\n",
       "0           AA          2539052          4138991     0.613447   \n",
       "1           AS           545952           853796     0.639441   \n",
       "2           B6           352547           600928     0.586671   \n",
       "3           DL          2438717          3487118     0.699350   \n",
       "4           F9           145389           255388     0.569287   \n",
       "5           G4           122930           201464     0.610183   \n",
       "6           HA           120782           184622     0.654212   \n",
       "7           NK           252238           380654     0.662644   \n",
       "8           UA          1922754          3092995     0.621648   \n",
       "9           VX            10815            17566     0.615678   \n",
       "10          WN          1688956          2713963     0.622321   \n",
       "\n",
       "                   Airline  \n",
       "0   American Airlines Inc.  \n",
       "1     Alaska Airlines Inc.  \n",
       "2          JetBlue Airways  \n",
       "3     Delta Air Lines Inc.  \n",
       "4   Frontier Airlines Inc.  \n",
       "5            Allegiant Air  \n",
       "6   Hawaiian Airlines Inc.  \n",
       "7         Spirit Air Lines  \n",
       "8    United Air Lines Inc.  \n",
       "9           Virgin America  \n",
       "10  Southwest Airlines Co.  "
      ]
     },
     "execution_count": 30,
     "metadata": {},
     "output_type": "execute_result"
    }
   ],
   "source": [
    "ontime_arrival_airlines = flights_df.loc[flights_df['arr_delay'] <= 0].groupby('mkt_carrier')['fl_date'].count().reset_index().rename({'fl_date': 'total_flights'}, axis=1)\n",
    "merged_ontime_arr = pd.merge(left=ontime_arrival_airlines, right=total_flights, on='mkt_carrier')\n",
    "merged_ontime_arr['ontime_frac'] = merged_ontime_arr['total_flights_x']/merged_ontime['total_flights_y']\n",
    "merged_ontime_arr['Airline'] = merged_ontime_arr['mkt_carrier'].replace(codes)\n",
    "merged_ontime_arr"
   ]
  },
  {
   "cell_type": "code",
   "execution_count": 31,
   "metadata": {},
   "outputs": [
    {
     "data": {
      "text/plain": [
       "<matplotlib.legend.Legend at 0x219f89abc08>"
      ]
     },
     "execution_count": 31,
     "metadata": {},
     "output_type": "execute_result"
    },
    {
     "data": {
      "image/png": "[encoded data removed]",
      "text/plain": [
       "<Figure size 720x576 with 1 Axes>"
      ]
     },
     "metadata": {
      "needs_background": "light"
     },
     "output_type": "display_data"
    }
   ],
   "source": [
    "fig, ax5 = plt.subplots(figsize=(10,8))\n",
    "\n",
    "ax5 = sns.barplot(x='ontime_frac', y='Airline', data=merged_ontime.sort_values('ontime_frac', ascending=False), palette=(\"Greens_r\"))\n",
    "ax5.set(title='On Time Rate by Departure', xlabel='On Time Rate (Departure)');\n",
    "\n",
    "ax5.axvline(merged_ontime['ontime_frac'].mean(), ls='-.', label='Mean On Time Rate')\n",
    "\n",
    "ax5.legend()"
   ]
  },
  {
   "cell_type": "code",
   "execution_count": 32,
   "metadata": {},
   "outputs": [
    {
     "data": {
      "text/plain": [
       "<matplotlib.legend.Legend at 0x219f8a9f748>"
      ]
     },
     "execution_count": 32,
     "metadata": {},
     "output_type": "execute_result"
    },
    {
     "data": {
      "image/png": "[encoded data removed]",
      "text/plain": [
       "<Figure size 720x576 with 1 Axes>"
      ]
     },
     "metadata": {
      "needs_background": "light"
     },
     "output_type": "display_data"
    }
   ],
   "source": [
    "fig, ax4 = plt.subplots(figsize=(10,8))\n",
    "\n",
    "ax4 = sns.barplot(x='ontime_frac', y='Airline', data=merged_ontime_arr.sort_values('ontime_frac', ascending=False), palette=(\"Blues_d\"))\n",
    "ax4.set(title='On Time Rate by Arrival', xlabel='On Time Rate (Arrival)');\n",
    "\n",
    "ax4.axvline(merged_ontime_arr['ontime_frac'].mean(), ls='-.', label='Mean On Time Rate')\n",
    "\n",
    "ax4.legend()"
   ]
  },
  {
   "cell_type": "code",
   "execution_count": null,
   "metadata": {},
   "outputs": [],
   "source": [
    "# Hawain airlines, Alaska Airlines, Delta Airlines have highest on time departure rate\n",
    "# Delta Airlines, Alaska Airlines, Sprit Airlines, Hawaiian Airlines have highest on time arrival rate"
   ]
  },
  {
   "cell_type": "code",
   "execution_count": 115,
   "metadata": {},
   "outputs": [],
   "source": [
    "# Check flight speeds\n",
    "# Frontier and Jet Blue Among the Worst on time rates for both Arrival and Departure ontime rates"
   ]
  },
  {
   "cell_type": "markdown",
   "metadata": {},
   "source": [
    "#### Flightspeeds for each airline "
   ]
  },
  {
   "cell_type": "code",
   "execution_count": 4,
   "metadata": {},
   "outputs": [],
   "source": [
    "# Get all rows where distances and airtime are not NaN values\n",
    "flightspeeds = flights_df.loc[(flights_df['distance'].notna()) & (flights_df['air_time'])]\n",
    "flightspeeds['flight_speed'] = (flightspeeds['distance']/flightspeeds['air_time'])*96.56\n",
    "\n",
    "# getting rid of outliers\n",
    "flightspeeds = flightspeeds.loc[(flightspeeds['flight_speed'] < 2000) & (flightspeeds['flight_speed'] > 300)]\n",
    "flightspeeds['Airline'] = flightspeeds['mkt_carrier'].replace(codes)"
   ]
  },
  {
   "cell_type": "code",
   "execution_count": 9,
   "metadata": {},
   "outputs": [
    {
     "data": {
      "image/png": "[encoded data removed]",
      "text/plain": [
       "<Figure size 720x576 with 1 Axes>"
      ]
     },
     "metadata": {
      "needs_background": "light"
     },
     "output_type": "display_data"
    }
   ],
   "source": [
    "fig, ax5 = plt.subplots(figsize=(10,8))\n",
    "\n",
    "ax5 = sns.boxplot(x='flight_speed', \n",
    "                  y='Airline', \n",
    "                  data=flightspeeds[['Airline', 'flight_speed']].sort_values('flight_speed', ascending=False), \n",
    "                  showfliers = False)\n",
    "\n",
    "ax5.set(xlabel='Flight Speed (Km/hr)', title='Flight Speeds by Airline');"
   ]
  },
  {
   "cell_type": "code",
   "execution_count": 10,
   "metadata": {},
   "outputs": [
    {
     "data": {
      "text/html": [
       "<div>\n",
       "<style scoped>\n",
       "    .dataframe tbody tr th:only-of-type {\n",
       "        vertical-align: middle;\n",
       "    }\n",
       "\n",
       "    .dataframe tbody tr th {\n",
       "        vertical-align: top;\n",
       "    }\n",
       "\n",
       "    .dataframe thead th {\n",
       "        text-align: right;\n",
       "    }\n",
       "</style>\n",
       "<table border=\"1\" class=\"dataframe\">\n",
       "  <thead>\n",
       "    <tr style=\"text-align: right;\">\n",
       "      <th></th>\n",
       "      <th>Airline</th>\n",
       "      <th>flight_speed</th>\n",
       "    </tr>\n",
       "  </thead>\n",
       "  <tbody>\n",
       "    <tr>\n",
       "      <th>0</th>\n",
       "      <td>Frontier Airlines Inc.</td>\n",
       "      <td>715.454481</td>\n",
       "    </tr>\n",
       "    <tr>\n",
       "      <th>1</th>\n",
       "      <td>Allegiant Air</td>\n",
       "      <td>713.557928</td>\n",
       "    </tr>\n",
       "    <tr>\n",
       "      <th>2</th>\n",
       "      <td>Spirit Air Lines</td>\n",
       "      <td>704.627912</td>\n",
       "    </tr>\n",
       "    <tr>\n",
       "      <th>3</th>\n",
       "      <td>Virgin America</td>\n",
       "      <td>703.203998</td>\n",
       "    </tr>\n",
       "    <tr>\n",
       "      <th>4</th>\n",
       "      <td>JetBlue Airways</td>\n",
       "      <td>676.891772</td>\n",
       "    </tr>\n",
       "    <tr>\n",
       "      <th>5</th>\n",
       "      <td>Southwest Airlines Co.</td>\n",
       "      <td>667.708900</td>\n",
       "    </tr>\n",
       "    <tr>\n",
       "      <th>6</th>\n",
       "      <td>Alaska Airlines Inc.</td>\n",
       "      <td>642.655259</td>\n",
       "    </tr>\n",
       "    <tr>\n",
       "      <th>7</th>\n",
       "      <td>United Air Lines Inc.</td>\n",
       "      <td>639.478632</td>\n",
       "    </tr>\n",
       "    <tr>\n",
       "      <th>8</th>\n",
       "      <td>Delta Air Lines Inc.</td>\n",
       "      <td>636.346009</td>\n",
       "    </tr>\n",
       "    <tr>\n",
       "      <th>9</th>\n",
       "      <td>American Airlines Inc.</td>\n",
       "      <td>623.918591</td>\n",
       "    </tr>\n",
       "    <tr>\n",
       "      <th>10</th>\n",
       "      <td>Hawaiian Airlines Inc.</td>\n",
       "      <td>550.201585</td>\n",
       "    </tr>\n",
       "  </tbody>\n",
       "</table>\n",
       "</div>"
      ],
      "text/plain": [
       "                   Airline  flight_speed\n",
       "0   Frontier Airlines Inc.    715.454481\n",
       "1            Allegiant Air    713.557928\n",
       "2         Spirit Air Lines    704.627912\n",
       "3           Virgin America    703.203998\n",
       "4          JetBlue Airways    676.891772\n",
       "5   Southwest Airlines Co.    667.708900\n",
       "6     Alaska Airlines Inc.    642.655259\n",
       "7    United Air Lines Inc.    639.478632\n",
       "8     Delta Air Lines Inc.    636.346009\n",
       "9   American Airlines Inc.    623.918591\n",
       "10  Hawaiian Airlines Inc.    550.201585"
      ]
     },
     "execution_count": 10,
     "metadata": {},
     "output_type": "execute_result"
    }
   ],
   "source": [
    "flightspeeds.groupby('Airline')['flight_speed'].mean().sort_values(ascending=False).reset_index()"
   ]
  },
  {
   "cell_type": "code",
   "execution_count": 59,
   "metadata": {},
   "outputs": [],
   "source": [
    "# While Delta Airlines and Haiwiian the among the slowest mean speeds but had a lower ontime arrival rate"
   ]
  },
  {
   "cell_type": "code",
   "execution_count": null,
   "metadata": {},
   "outputs": [],
   "source": []
  }
 ],
 "metadata": {
  "kernelspec": {
   "display_name": "Python 3",
   "language": "python",
   "name": "python3"
  },
  "language_info": {
   "codemirror_mode": {
    "name": "ipython",
    "version": 3
   },
   "file_extension": ".py",
   "mimetype": "text/x-python",
   "name": "python",
   "nbconvert_exporter": "python",
   "pygments_lexer": "ipython3",
   "version": "3.7.4"
  }
 },
 "nbformat": 4,
 "nbformat_minor": 2
}
