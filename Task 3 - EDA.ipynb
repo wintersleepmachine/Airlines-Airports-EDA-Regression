{
 "cells": [
  {
   "cell_type": "code",
   "execution_count": 1,
   "metadata": {},
   "outputs": [
    {
     "name": "stderr",
     "output_type": "stream",
     "text": [
      "C:\\Users\\Jesse\\Anaconda3\\lib\\site-packages\\ipykernel_launcher.py:3: FutureWarning: pandas.util.testing is deprecated. Use the functions in the public API at pandas.testing instead.\n",
      "  This is separate from the ipykernel package so we can avoid doing imports until\n"
     ]
    }
   ],
   "source": [
    "import numpy as np \n",
    "import pandas as pd\n",
    "import pandas.util.testing as tm\n",
    "import matplotlib.pyplot as plt\n",
    "import seaborn as sns\n",
    "import datetime\n",
    "import calendar\n",
    "import requests as re\n",
    "import time\n",
    "import os\n",
    "from pprint import pprint\n",
    "import time\n",
    "from scipy.stats import f_oneway\n",
    "\n",
    "\n",
    "\n",
    "plt.style.use('seaborn')\n",
    "sns.set_style(\"darkgrid\", {\"axes.facecolor\": \".9\"})\n",
    "\n",
    "%matplotlib inline"
   ]
  },
  {
   "cell_type": "markdown",
   "metadata": {},
   "source": [
    "#### **Task 3**: Does the weather affect the delay? \n",
    "Use the API to pull the weather information for flights. There is no need to get weather for ALL flights. We can choose the right representative sample. Let's focus on four weather types:\n",
    "- sunny\n",
    "- cloudy\n",
    "- rainy\n",
    "- snow.\n",
    "Test the hypothesis that these 4 delays are from the same distribution. If they are not, which ones are significantly different?\n",
    "\n",
    "\n",
    "Using dark sky: https://darksky.net/"
   ]
  },
  {
   "cell_type": "code",
   "execution_count": 31,
   "metadata": {},
   "outputs": [],
   "source": [
    "api_key='80c6c754465a0a3a359356dbb9be865c'"
   ]
  },
  {
   "cell_type": "code",
   "execution_count": 3,
   "metadata": {},
   "outputs": [
    {
     "data": {
      "text/plain": [
       "(322, 7)"
      ]
     },
     "execution_count": 3,
     "metadata": {},
     "output_type": "execute_result"
    }
   ],
   "source": [
    "airports = pd.read_csv(\"C:/Users/Jesse/Downloads/datasets_810_1496_airports.csv\")\n",
    "airports.shape"
   ]
  },
  {
   "cell_type": "code",
   "execution_count": 32,
   "metadata": {},
   "outputs": [
    {
     "name": "stderr",
     "output_type": "stream",
     "text": [
      "C:\\Users\\Jesse\\Anaconda3\\lib\\site-packages\\IPython\\core\\interactiveshell.py:3058: DtypeWarning: Columns (25) have mixed types.Specify dtype option on import or set low_memory=False.\n",
      "  interactivity=interactivity, compiler=compiler, result=result)\n"
     ]
    }
   ],
   "source": [
    "data_path = 'C:/Users/Jesse/Desktop/midterm_data/data/'\n",
    "flights_df = pd.read_csv(data_path + 'flights.csv')"
   ]
  },
  {
   "cell_type": "code",
   "execution_count": 5,
   "metadata": {},
   "outputs": [
    {
     "data": {
      "text/html": [
       "<img src=\"https://www.qualtrics.com/m/assets/wp-content/uploads/2020/04/Sample-size-formula-graphic-1.png\" width=\"700\"/>"
      ],
      "text/plain": [
       "<IPython.core.display.Image object>"
      ]
     },
     "execution_count": 5,
     "metadata": {},
     "output_type": "execute_result"
    }
   ],
   "source": [
    "from IPython.display import Image\n",
    "from IPython.core.display import HTML \n",
    "Image(url= \"https://www.qualtrics.com/m/assets/wp-content/uploads/2020/04/Sample-size-formula-graphic-1.png\", \n",
    "     width=700)"
   ]
  },
  {
   "cell_type": "markdown",
   "metadata": {},
   "source": [
    "https://www.qualtrics.com/experience-management/research/determine-sample-size/\n",
    "\n",
    "\n",
    "A low standard deviation means that all the values will be clustered around the mean number, whereas a high standard deviation means they are spread out across a much wider range with very small and very large outlying figures. Since you haven’t yet run your survey, a safe choice is a standard deviation of .5 which will help make sure your sample size is large enough."
   ]
  },
  {
   "cell_type": "code",
   "execution_count": 33,
   "metadata": {},
   "outputs": [
    {
     "data": {
      "text/plain": [
       "384.1599999999999"
      ]
     },
     "execution_count": 33,
     "metadata": {},
     "output_type": "execute_result"
    }
   ],
   "source": [
    "zscore = 1.96\n",
    "stddev = 0.5\n",
    "error = 0.05\n",
    "\n",
    "def get_sample_size(zscore, stddev, error):\n",
    "    return ((zscore**2)*stddev*(1-stddev))/(error**2)\n",
    "    \n",
    "sample_size = get_sample_size(zscore, stddev, error)\n",
    "## 385 samples size keeps 95% interval and 5% standard error\n",
    "\n",
    "sample_size"
   ]
  },
  {
   "cell_type": "code",
   "execution_count": 34,
   "metadata": {},
   "outputs": [],
   "source": [
    "flights_df['fl_date'] = pd.to_datetime(flights_df['fl_date'], format ='%Y-%m-%d')"
   ]
  },
  {
   "cell_type": "code",
   "execution_count": 35,
   "metadata": {},
   "outputs": [],
   "source": [
    "sample=flights_df.loc[(flights_df['fl_date'].dt.month.isin([12,1,2]))]\n"
   ]
  },
  {
   "cell_type": "code",
   "execution_count": 36,
   "metadata": {},
   "outputs": [
    {
     "name": "stderr",
     "output_type": "stream",
     "text": [
      "C:\\Users\\Jesse\\Anaconda3\\lib\\site-packages\\ipykernel_launcher.py:5: SettingWithCopyWarning: \n",
      "A value is trying to be set on a copy of a slice from a DataFrame.\n",
      "Try using .loc[row_indexer,col_indexer] = value instead\n",
      "\n",
      "See the caveats in the documentation: https://pandas.pydata.org/pandas-docs/stable/user_guide/indexing.html#returning-a-view-versus-a-copy\n",
      "  \"\"\"\n"
     ]
    }
   ],
   "source": [
    "# Get all the unique cities\n",
    "cities=sample['origin_city_name'].unique()\n",
    "\n",
    "# Create new column just for cityname\n",
    "sample['city'] = sample['origin_city_name'].apply(lambda x: x.split(', ')[0])\n",
    "\n",
    "\n",
    "# Create new dataframe with city, lat and lon\n",
    "x = airports.loc[airports['CITY'].isin(sample['city']), ['CITY', 'LATITUDE', 'LONGITUDE']]\n",
    "x.rename({'CITY': 'city'},axis=1, inplace=True)"
   ]
  },
  {
   "cell_type": "code",
   "execution_count": 37,
   "metadata": {},
   "outputs": [],
   "source": [
    "snowiest_cities = ['Rochester', 'Lakewood', 'Anchorage', 'Syracuse', 'Fort Collins', 'Buffalo', 'Green Bay', 'Erie', 'Grand Rapids', ]\n",
    "\n",
    "\n",
    "sample = sample.loc[sample['city'].isin(snowiest_cities)].sample(500)"
   ]
  },
  {
   "cell_type": "code",
   "execution_count": 38,
   "metadata": {},
   "outputs": [],
   "source": [
    "df = pd.merge(right=x, left=sample, on='city')"
   ]
  },
  {
   "cell_type": "code",
   "execution_count": 39,
   "metadata": {},
   "outputs": [],
   "source": [
    "df['fl_date'] = (df['fl_date'] - pd.Timestamp(\"1970-01-01\")) // pd.Timedelta('1s')  "
   ]
  },
  {
   "cell_type": "code",
   "execution_count": 40,
   "metadata": {},
   "outputs": [
    {
     "data": {
      "text/plain": [
       "(593, 45)"
      ]
     },
     "execution_count": 40,
     "metadata": {},
     "output_type": "execute_result"
    }
   ],
   "source": [
    "df.shape"
   ]
  },
  {
   "cell_type": "code",
   "execution_count": 41,
   "metadata": {},
   "outputs": [],
   "source": [
    "def get_weather(row):\n",
    "    time.sleep(3)\n",
    "    response = re.get(f'https://api.darksky.net/forecast/{api_key}/{row[\"LATITUDE\"]},{row[\"LONGITUDE\"]},{row[\"fl_date\"]}').json()\n",
    "    try:\n",
    "        return response['currently']['icon']       \n",
    "    except:\n",
    "        return 'cloudy'"
   ]
  },
  {
   "cell_type": "code",
   "execution_count": 42,
   "metadata": {},
   "outputs": [],
   "source": [
    "df['weather'] = df.apply(lambda row:get_weather(row),axis=1)"
   ]
  },
  {
   "cell_type": "code",
   "execution_count": 43,
   "metadata": {},
   "outputs": [
    {
     "data": {
      "text/plain": [
       "cloudy                 269\n",
       "clear-night            130\n",
       "partly-cloudy-night     77\n",
       "snow                    47\n",
       "rain                    25\n",
       "fog                     16\n",
       "partly-cloudy-day       15\n",
       "clear-day               10\n",
       "wind                     4\n",
       "Name: weather, dtype: int64"
      ]
     },
     "execution_count": 43,
     "metadata": {},
     "output_type": "execute_result"
    }
   ],
   "source": [
    "df['weather'].value_counts()"
   ]
  },
  {
   "cell_type": "code",
   "execution_count": 56,
   "metadata": {},
   "outputs": [],
   "source": [
    "# # df.to_csv('./flights_weather.csv')\n",
    "\n",
    "# df = pd.read_csv('./flights_weather.csv')"
   ]
  },
  {
   "cell_type": "code",
   "execution_count": 57,
   "metadata": {},
   "outputs": [],
   "source": [
    "def change_weather(weather):\n",
    "    if weather in ['partly-cloudy-day', 'clear-day']:\n",
    "        return 'sunny'\n",
    "    else:\n",
    "        return weather\n",
    "    \n",
    "df['weather'] = df['weather'].apply(lambda x: change_weather(x))"
   ]
  },
  {
   "cell_type": "code",
   "execution_count": 59,
   "metadata": {},
   "outputs": [],
   "source": [
    "indexdrop = df.loc[df['weather'].isin(['clear-night', 'partly-cloudy-night', 'fog', 'wind'])].index\n",
    "\n",
    "df.drop(indexdrop, axis=0, inplace=True)"
   ]
  },
  {
   "cell_type": "code",
   "execution_count": 60,
   "metadata": {},
   "outputs": [
    {
     "data": {
      "text/plain": [
       "cloudy    269\n",
       "snow       47\n",
       "sunny      25\n",
       "rain       25\n",
       "Name: weather, dtype: int64"
      ]
     },
     "execution_count": 60,
     "metadata": {},
     "output_type": "execute_result"
    }
   ],
   "source": [
    "df['weather'].value_counts()"
   ]
  },
  {
   "cell_type": "code",
   "execution_count": 76,
   "metadata": {},
   "outputs": [],
   "source": [
    "df.to_csv('./flights_weather_cleaned.csv')"
   ]
  },
  {
   "cell_type": "code",
   "execution_count": 119,
   "metadata": {},
   "outputs": [],
   "source": [
    "df = pd.read_csv('./flights_weather_cleaned.csv')"
   ]
  },
  {
   "cell_type": "code",
   "execution_count": 120,
   "metadata": {},
   "outputs": [],
   "source": [
    "cloudy = df.loc[df['weather'] == 'cloudy', 'dep_delay'].dropna().values\n",
    "snow = df.loc[df['weather'] == 'snow', 'dep_delay'].dropna().values\n",
    "sunny = df.loc[df['weather'] == 'sunny', 'dep_delay'].dropna().values\n",
    "rain = df.loc[df['weather'] == 'rain', 'dep_delay'].dropna().values"
   ]
  },
  {
   "cell_type": "code",
   "execution_count": 121,
   "metadata": {},
   "outputs": [
    {
     "data": {
      "text/plain": [
       "(0.7599279173334405, 0.5172053097339369)"
      ]
     },
     "execution_count": 121,
     "metadata": {},
     "output_type": "execute_result"
    }
   ],
   "source": [
    "F, p = f_oneway(cloudy, snow, sunny, rain)\n",
    "\n",
    "F, p"
   ]
  },
  {
   "cell_type": "code",
   "execution_count": 122,
   "metadata": {},
   "outputs": [],
   "source": [
    "# Getting rid of outliers and retesting"
   ]
  },
  {
   "cell_type": "code",
   "execution_count": 123,
   "metadata": {},
   "outputs": [],
   "source": [
    "def reject_outliers(data, m=3):\n",
    "    return data[abs(data - np.mean(data)) < m * np.std(data)]"
   ]
  },
  {
   "cell_type": "code",
   "execution_count": 124,
   "metadata": {},
   "outputs": [
    {
     "name": "stdout",
     "output_type": "stream",
     "text": [
      "p-value 0.07529835703573715\n",
      "we accept null hypothesis\n"
     ]
    }
   ],
   "source": [
    "cloudy = reject_outliers(cloudy)\n",
    "snow = reject_outliers(snow)\n",
    "sunny = reject_outliers(sunny)\n",
    "rain = reject_outliers(rain)\n",
    "\n",
    "\n",
    "\n",
    "F, p = f_oneway(cloudy, snow, sunny, rain)\n",
    "\n",
    "print(\"p-value\",p)\n",
    "if p <0.05:\n",
    "  print(\"we reject null hypothesis\")\n",
    "else:\n",
    "  print(\"we accept null hypothesis\")"
   ]
  },
  {
   "cell_type": "code",
   "execution_count": null,
   "metadata": {},
   "outputs": [],
   "source": []
  }
 ],
 "metadata": {
  "kernelspec": {
   "display_name": "Python 3",
   "language": "python",
   "name": "python3"
  },
  "language_info": {
   "codemirror_mode": {
    "name": "ipython",
    "version": 3
   },
   "file_extension": ".py",
   "mimetype": "text/x-python",
   "name": "python",
   "nbconvert_exporter": "python",
   "pygments_lexer": "ipython3",
   "version": "3.7.4"
  }
 },
 "nbformat": 4,
 "nbformat_minor": 2
}
