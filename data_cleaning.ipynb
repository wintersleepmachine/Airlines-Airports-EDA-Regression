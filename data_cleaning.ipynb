{
 "cells": [
  {
   "cell_type": "code",
   "execution_count": 21,
   "metadata": {},
   "outputs": [],
   "source": [
    "import numpy as np \n",
    "import pandas as pd\n",
    "import pandas.util.testing as tm\n",
    "import matplotlib.pyplot as plt\n",
    "import seaborn as sns\n",
    "\n",
    "%matplotlib inline"
   ]
  },
  {
   "cell_type": "code",
   "execution_count": 22,
   "metadata": {},
   "outputs": [
    {
     "name": "stderr",
     "output_type": "stream",
     "text": [
      "C:\\Users\\Jesse\\Anaconda3\\lib\\site-packages\\IPython\\core\\interactiveshell.py:3058: DtypeWarning: Columns (25) have mixed types.Specify dtype option on import or set low_memory=False.\n",
      "  interactivity=interactivity, compiler=compiler, result=result)\n"
     ]
    }
   ],
   "source": [
    "flights_df = pd.read_csv('./data/flights.csv')"
   ]
  },
  {
   "cell_type": "markdown",
   "metadata": {},
   "source": [
    " CARRIER_DELAY, WEATHER_DELAY, NAS_DELAY, SECURITY_DELAY, LATE_AIRCRAFT_DELAY"
   ]
  },
  {
   "cell_type": "code",
   "execution_count": 8,
   "metadata": {},
   "outputs": [
    {
     "data": {
      "text/plain": [
       "269208"
      ]
     },
     "execution_count": 8,
     "metadata": {},
     "output_type": "execute_result"
    }
   ],
   "source": [
    "flights_df['cancellation_code'].notna().sum()"
   ]
  },
  {
   "cell_type": "code",
   "execution_count": 9,
   "metadata": {},
   "outputs": [
    {
     "data": {
      "text/plain": [
       "array([nan, 'B', 'C', 'A', 'D', 'X'], dtype=object)"
      ]
     },
     "execution_count": 9,
     "metadata": {},
     "output_type": "execute_result"
    }
   ],
   "source": [
    "flights_df['cancellation_code'].unique()"
   ]
  },
  {
   "cell_type": "code",
   "execution_count": 17,
   "metadata": {},
   "outputs": [
    {
     "data": {
      "text/html": [
       "<div>\n",
       "<style scoped>\n",
       "    .dataframe tbody tr th:only-of-type {\n",
       "        vertical-align: middle;\n",
       "    }\n",
       "\n",
       "    .dataframe tbody tr th {\n",
       "        vertical-align: top;\n",
       "    }\n",
       "\n",
       "    .dataframe thead th {\n",
       "        text-align: right;\n",
       "    }\n",
       "</style>\n",
       "<table border=\"1\" class=\"dataframe\">\n",
       "  <thead>\n",
       "    <tr style=\"text-align: right;\">\n",
       "      <th></th>\n",
       "      <th>carrier_delay</th>\n",
       "      <th>weather_delay</th>\n",
       "      <th>nas_delay</th>\n",
       "      <th>security_delay</th>\n",
       "      <th>late_aircraft_delay</th>\n",
       "      <th>dep_delay</th>\n",
       "      <th>arr_delay</th>\n",
       "    </tr>\n",
       "  </thead>\n",
       "  <tbody>\n",
       "    <tr>\n",
       "      <th>1</th>\n",
       "      <td>39.0</td>\n",
       "      <td>0.0</td>\n",
       "      <td>0.0</td>\n",
       "      <td>0.0</td>\n",
       "      <td>0.0</td>\n",
       "      <td>53.0</td>\n",
       "      <td>39.0</td>\n",
       "    </tr>\n",
       "    <tr>\n",
       "      <th>3</th>\n",
       "      <td>18.0</td>\n",
       "      <td>0.0</td>\n",
       "      <td>0.0</td>\n",
       "      <td>0.0</td>\n",
       "      <td>0.0</td>\n",
       "      <td>19.0</td>\n",
       "      <td>18.0</td>\n",
       "    </tr>\n",
       "    <tr>\n",
       "      <th>6</th>\n",
       "      <td>3.0</td>\n",
       "      <td>0.0</td>\n",
       "      <td>28.0</td>\n",
       "      <td>0.0</td>\n",
       "      <td>0.0</td>\n",
       "      <td>3.0</td>\n",
       "      <td>31.0</td>\n",
       "    </tr>\n",
       "    <tr>\n",
       "      <th>7</th>\n",
       "      <td>0.0</td>\n",
       "      <td>0.0</td>\n",
       "      <td>0.0</td>\n",
       "      <td>0.0</td>\n",
       "      <td>15.0</td>\n",
       "      <td>15.0</td>\n",
       "      <td>15.0</td>\n",
       "    </tr>\n",
       "    <tr>\n",
       "      <th>9</th>\n",
       "      <td>11.0</td>\n",
       "      <td>0.0</td>\n",
       "      <td>4.0</td>\n",
       "      <td>0.0</td>\n",
       "      <td>4.0</td>\n",
       "      <td>15.0</td>\n",
       "      <td>19.0</td>\n",
       "    </tr>\n",
       "    <tr>\n",
       "      <th>...</th>\n",
       "      <td>...</td>\n",
       "      <td>...</td>\n",
       "      <td>...</td>\n",
       "      <td>...</td>\n",
       "      <td>...</td>\n",
       "      <td>...</td>\n",
       "      <td>...</td>\n",
       "    </tr>\n",
       "    <tr>\n",
       "      <th>15927470</th>\n",
       "      <td>0.0</td>\n",
       "      <td>0.0</td>\n",
       "      <td>15.0</td>\n",
       "      <td>0.0</td>\n",
       "      <td>0.0</td>\n",
       "      <td>-1.0</td>\n",
       "      <td>15.0</td>\n",
       "    </tr>\n",
       "    <tr>\n",
       "      <th>15927472</th>\n",
       "      <td>298.0</td>\n",
       "      <td>0.0</td>\n",
       "      <td>0.0</td>\n",
       "      <td>0.0</td>\n",
       "      <td>0.0</td>\n",
       "      <td>330.0</td>\n",
       "      <td>298.0</td>\n",
       "    </tr>\n",
       "    <tr>\n",
       "      <th>15927474</th>\n",
       "      <td>0.0</td>\n",
       "      <td>0.0</td>\n",
       "      <td>70.0</td>\n",
       "      <td>0.0</td>\n",
       "      <td>0.0</td>\n",
       "      <td>81.0</td>\n",
       "      <td>70.0</td>\n",
       "    </tr>\n",
       "    <tr>\n",
       "      <th>15927481</th>\n",
       "      <td>9.0</td>\n",
       "      <td>0.0</td>\n",
       "      <td>15.0</td>\n",
       "      <td>0.0</td>\n",
       "      <td>0.0</td>\n",
       "      <td>9.0</td>\n",
       "      <td>24.0</td>\n",
       "    </tr>\n",
       "    <tr>\n",
       "      <th>15927484</th>\n",
       "      <td>185.0</td>\n",
       "      <td>0.0</td>\n",
       "      <td>0.0</td>\n",
       "      <td>0.0</td>\n",
       "      <td>0.0</td>\n",
       "      <td>217.0</td>\n",
       "      <td>185.0</td>\n",
       "    </tr>\n",
       "  </tbody>\n",
       "</table>\n",
       "<p>3009484 rows × 7 columns</p>\n",
       "</div>"
      ],
      "text/plain": [
       "          carrier_delay  weather_delay  nas_delay  security_delay  \\\n",
       "1                  39.0            0.0        0.0             0.0   \n",
       "3                  18.0            0.0        0.0             0.0   \n",
       "6                   3.0            0.0       28.0             0.0   \n",
       "7                   0.0            0.0        0.0             0.0   \n",
       "9                  11.0            0.0        4.0             0.0   \n",
       "...                 ...            ...        ...             ...   \n",
       "15927470            0.0            0.0       15.0             0.0   \n",
       "15927472          298.0            0.0        0.0             0.0   \n",
       "15927474            0.0            0.0       70.0             0.0   \n",
       "15927481            9.0            0.0       15.0             0.0   \n",
       "15927484          185.0            0.0        0.0             0.0   \n",
       "\n",
       "          late_aircraft_delay  dep_delay  arr_delay  \n",
       "1                         0.0       53.0       39.0  \n",
       "3                         0.0       19.0       18.0  \n",
       "6                         0.0        3.0       31.0  \n",
       "7                        15.0       15.0       15.0  \n",
       "9                         4.0       15.0       19.0  \n",
       "...                       ...        ...        ...  \n",
       "15927470                  0.0       -1.0       15.0  \n",
       "15927472                  0.0      330.0      298.0  \n",
       "15927474                  0.0       81.0       70.0  \n",
       "15927481                  0.0        9.0       24.0  \n",
       "15927484                  0.0      217.0      185.0  \n",
       "\n",
       "[3009484 rows x 7 columns]"
      ]
     },
     "execution_count": 17,
     "metadata": {},
     "output_type": "execute_result"
    }
   ],
   "source": [
    "flights_df.loc[(flights_df['carrier_delay'].notna()), ['carrier_delay', 'weather_delay', 'nas_delay', 'security_delay', 'late_aircraft_delay', 'dep_delay', 'arr_delay', ]]"
   ]
  },
  {
   "cell_type": "code",
   "execution_count": 18,
   "metadata": {},
   "outputs": [
    {
     "data": {
      "text/html": [
       "<div>\n",
       "<style scoped>\n",
       "    .dataframe tbody tr th:only-of-type {\n",
       "        vertical-align: middle;\n",
       "    }\n",
       "\n",
       "    .dataframe tbody tr th {\n",
       "        vertical-align: top;\n",
       "    }\n",
       "\n",
       "    .dataframe thead th {\n",
       "        text-align: right;\n",
       "    }\n",
       "</style>\n",
       "<table border=\"1\" class=\"dataframe\">\n",
       "  <thead>\n",
       "    <tr style=\"text-align: right;\">\n",
       "      <th></th>\n",
       "      <th>arr_delay</th>\n",
       "      <th>dep_delay</th>\n",
       "    </tr>\n",
       "  </thead>\n",
       "  <tbody>\n",
       "    <tr>\n",
       "      <th>0</th>\n",
       "      <td>6.0</td>\n",
       "      <td>0.0</td>\n",
       "    </tr>\n",
       "    <tr>\n",
       "      <th>1</th>\n",
       "      <td>39.0</td>\n",
       "      <td>53.0</td>\n",
       "    </tr>\n",
       "    <tr>\n",
       "      <th>2</th>\n",
       "      <td>-17.0</td>\n",
       "      <td>-9.0</td>\n",
       "    </tr>\n",
       "    <tr>\n",
       "      <th>3</th>\n",
       "      <td>18.0</td>\n",
       "      <td>19.0</td>\n",
       "    </tr>\n",
       "    <tr>\n",
       "      <th>4</th>\n",
       "      <td>-10.0</td>\n",
       "      <td>-3.0</td>\n",
       "    </tr>\n",
       "    <tr>\n",
       "      <th>...</th>\n",
       "      <td>...</td>\n",
       "      <td>...</td>\n",
       "    </tr>\n",
       "    <tr>\n",
       "      <th>15927480</th>\n",
       "      <td>-16.0</td>\n",
       "      <td>-1.0</td>\n",
       "    </tr>\n",
       "    <tr>\n",
       "      <th>15927481</th>\n",
       "      <td>24.0</td>\n",
       "      <td>9.0</td>\n",
       "    </tr>\n",
       "    <tr>\n",
       "      <th>15927482</th>\n",
       "      <td>-26.0</td>\n",
       "      <td>-11.0</td>\n",
       "    </tr>\n",
       "    <tr>\n",
       "      <th>15927483</th>\n",
       "      <td>-13.0</td>\n",
       "      <td>11.0</td>\n",
       "    </tr>\n",
       "    <tr>\n",
       "      <th>15927484</th>\n",
       "      <td>185.0</td>\n",
       "      <td>217.0</td>\n",
       "    </tr>\n",
       "  </tbody>\n",
       "</table>\n",
       "<p>15927485 rows × 2 columns</p>\n",
       "</div>"
      ],
      "text/plain": [
       "          arr_delay  dep_delay\n",
       "0               6.0        0.0\n",
       "1              39.0       53.0\n",
       "2             -17.0       -9.0\n",
       "3              18.0       19.0\n",
       "4             -10.0       -3.0\n",
       "...             ...        ...\n",
       "15927480      -16.0       -1.0\n",
       "15927481       24.0        9.0\n",
       "15927482      -26.0      -11.0\n",
       "15927483      -13.0       11.0\n",
       "15927484      185.0      217.0\n",
       "\n",
       "[15927485 rows x 2 columns]"
      ]
     },
     "execution_count": 18,
     "metadata": {},
     "output_type": "execute_result"
    }
   ],
   "source": [
    "flights_df.loc[:,['arr_delay', 'dep_delay']]"
   ]
  },
  {
   "cell_type": "code",
   "execution_count": null,
   "metadata": {},
   "outputs": [],
   "source": []
  },
  {
   "cell_type": "code",
   "execution_count": null,
   "metadata": {},
   "outputs": [],
   "source": []
  },
  {
   "cell_type": "code",
   "execution_count": null,
   "metadata": {},
   "outputs": [],
   "source": []
  },
  {
   "cell_type": "code",
   "execution_count": null,
   "metadata": {},
   "outputs": [],
   "source": []
  },
  {
   "cell_type": "code",
   "execution_count": null,
   "metadata": {},
   "outputs": [],
   "source": []
  },
  {
   "cell_type": "code",
   "execution_count": null,
   "metadata": {},
   "outputs": [],
   "source": []
  },
  {
   "cell_type": "markdown",
   "metadata": {},
   "source": [
    "### Things to note:\n",
    "\n",
    "Assignment\n",
    "\n",
    "=================================================================================\n",
    "\n",
    "\n",
    "\"We are going to work on three different types of Machine Learning problem:\n",
    "\n",
    "1. Regression Problem: The goal is to predict delay of flights.\n",
    "2. Multiclass Classification: If the plane was delayed, we will predict what type of delay it is (will be).\n",
    "3. Binary Classification: The goal is to predict if the flight will be cancelled.\"\n",
    "\n",
    "\n",
    "\n",
    "==================================================================================\n",
    "\n",
    "\n",
    "- flights_test CSV contain all the columns that we can use for our machine learning model\n",
    "- Dont drop Cancelled column as that will be used in binary classification. Update: Has no missing values\n",
    "- tail_num column is used in our test set but has missing values, but not >40%, fill with -1\n",
    "- crs_elapsed_time column has 20 missing values but is used in ML dataset, drop all rows with missing values.\n",
    "- Feature engineer distances between cities. Use Geomap API?\n",
    "- Using flight_date we can create new column for season?\n",
    "- Create a new column with the weather for that departing city\n",
    "- Create column with weather for cities for sample data\n",
    "- dept_delay (minutes): Difference in minutes between scheduled and actual departure time. Early departures show negative numbers.This is our assignment prediction and regression label, drop all rows with NaN values. There are 263754 missing values, therefore those rows to be dropped\n",
    "- arr_delay: Difference in minutes between scheduled and actual arrival time. Early arrivals show negative numbers. Predicting arr_delay is not part of the regression task (assignment), but we can make a model for that too. There are 311744 missig values therefore those rows to be dropped.\n",
    "\n"
   ]
  },
  {
   "cell_type": "code",
   "execution_count": null,
   "metadata": {},
   "outputs": [],
   "source": [
    "cols_ML = ['fl_date', \n",
    "           'mkt_unique_carrier', \n",
    "           'branded_code_share', \n",
    "           'mkt_carrier', \n",
    "           'mkt_carrier_fl_num', \n",
    "           'op_unique_carrier', \n",
    "           'tail_num', \n",
    "           'op_carrier_fl_num', \n",
    "           'origin_airport_id', \n",
    "           'origin', \n",
    "           'origin_city_name', \n",
    "           'dest_airport_id', \n",
    "           'dest', \n",
    "           'dest_city_name', \n",
    "           'crs_dep_time', \n",
    "           'crs_arr_time', \n",
    "           'dup', \n",
    "           'crs_elapsed_time', \n",
    "           'flights', \n",
    "           'distance']"
   ]
  },
  {
   "cell_type": "markdown",
   "metadata": {},
   "source": [
    "### Things do to:\n",
    "\n",
    "- <s>check for missing values drop columns with greater then 40% missing values </s>\n",
    "- <s>drop mkt_unique_carrier because mkt_carrier contains the exact same value</s>\n",
    "- <s>drop cancellation_code (>40% missing) and dup (same value) </s> Update: No missing values for 'Cancelled', but dropped dup because only 1 unique value\n",
    "- <s>crs_dep_time, dep_time, crs_arr_time, arr_time, wheels_off, wheels_on, crs_arr_time, arr_time convert to datetime (hhmm)</s> Update: Missing values were filled with '00:00' \n",
    "- <s>fl_date parse to datetime (yyyy-mm-dd)</s>\n",
    "- <s>Fill tail_num column with 0</s>\n",
    "- arr_delay is the regression label, drop all rows with empty arr_delay\n",
    "- Create new column for Multiclassification Whether it is a departal delay or a arrival delay\n",
    "- Create month and year column using fl_date"
   ]
  },
  {
   "cell_type": "code",
   "execution_count": 15,
   "metadata": {},
   "outputs": [
    {
     "data": {
      "text/plain": [
       "(15927485, 42)"
      ]
     },
     "execution_count": 15,
     "metadata": {},
     "output_type": "execute_result"
    }
   ],
   "source": [
    "flights_df.shape"
   ]
  },
  {
   "cell_type": "code",
   "execution_count": 16,
   "metadata": {},
   "outputs": [
    {
     "data": {
      "text/html": [
       "<div>\n",
       "<style scoped>\n",
       "    .dataframe tbody tr th:only-of-type {\n",
       "        vertical-align: middle;\n",
       "    }\n",
       "\n",
       "    .dataframe tbody tr th {\n",
       "        vertical-align: top;\n",
       "    }\n",
       "\n",
       "    .dataframe thead th {\n",
       "        text-align: right;\n",
       "    }\n",
       "</style>\n",
       "<table border=\"1\" class=\"dataframe\">\n",
       "  <thead>\n",
       "    <tr style=\"text-align: right;\">\n",
       "      <th></th>\n",
       "      <th>fl_date</th>\n",
       "      <th>mkt_unique_carrier</th>\n",
       "      <th>branded_code_share</th>\n",
       "      <th>mkt_carrier</th>\n",
       "      <th>mkt_carrier_fl_num</th>\n",
       "      <th>op_unique_carrier</th>\n",
       "      <th>tail_num</th>\n",
       "      <th>op_carrier_fl_num</th>\n",
       "      <th>origin_airport_id</th>\n",
       "      <th>origin</th>\n",
       "      <th>...</th>\n",
       "      <th>distance</th>\n",
       "      <th>carrier_delay</th>\n",
       "      <th>weather_delay</th>\n",
       "      <th>nas_delay</th>\n",
       "      <th>security_delay</th>\n",
       "      <th>late_aircraft_delay</th>\n",
       "      <th>first_dep_time</th>\n",
       "      <th>total_add_gtime</th>\n",
       "      <th>longest_add_gtime</th>\n",
       "      <th>no_name</th>\n",
       "    </tr>\n",
       "  </thead>\n",
       "  <tbody>\n",
       "    <tr>\n",
       "      <th>0</th>\n",
       "      <td>2019-08-22</td>\n",
       "      <td>B6</td>\n",
       "      <td>B6</td>\n",
       "      <td>B6</td>\n",
       "      <td>984</td>\n",
       "      <td>B6</td>\n",
       "      <td>N281JB</td>\n",
       "      <td>984</td>\n",
       "      <td>14492</td>\n",
       "      <td>RDU</td>\n",
       "      <td>...</td>\n",
       "      <td>612</td>\n",
       "      <td>NaN</td>\n",
       "      <td>NaN</td>\n",
       "      <td>NaN</td>\n",
       "      <td>NaN</td>\n",
       "      <td>NaN</td>\n",
       "      <td>NaN</td>\n",
       "      <td>NaN</td>\n",
       "      <td>NaN</td>\n",
       "      <td>NaN</td>\n",
       "    </tr>\n",
       "    <tr>\n",
       "      <th>1</th>\n",
       "      <td>2019-08-22</td>\n",
       "      <td>B6</td>\n",
       "      <td>B6</td>\n",
       "      <td>B6</td>\n",
       "      <td>987</td>\n",
       "      <td>B6</td>\n",
       "      <td>N978JB</td>\n",
       "      <td>987</td>\n",
       "      <td>10721</td>\n",
       "      <td>BOS</td>\n",
       "      <td>...</td>\n",
       "      <td>2611</td>\n",
       "      <td>39.0</td>\n",
       "      <td>0.0</td>\n",
       "      <td>0.0</td>\n",
       "      <td>0.0</td>\n",
       "      <td>0.0</td>\n",
       "      <td>NaN</td>\n",
       "      <td>NaN</td>\n",
       "      <td>NaN</td>\n",
       "      <td>NaN</td>\n",
       "    </tr>\n",
       "    <tr>\n",
       "      <th>2</th>\n",
       "      <td>2019-08-22</td>\n",
       "      <td>B6</td>\n",
       "      <td>B6</td>\n",
       "      <td>B6</td>\n",
       "      <td>988</td>\n",
       "      <td>B6</td>\n",
       "      <td>N983JT</td>\n",
       "      <td>988</td>\n",
       "      <td>12892</td>\n",
       "      <td>LAX</td>\n",
       "      <td>...</td>\n",
       "      <td>2611</td>\n",
       "      <td>NaN</td>\n",
       "      <td>NaN</td>\n",
       "      <td>NaN</td>\n",
       "      <td>NaN</td>\n",
       "      <td>NaN</td>\n",
       "      <td>NaN</td>\n",
       "      <td>NaN</td>\n",
       "      <td>NaN</td>\n",
       "      <td>NaN</td>\n",
       "    </tr>\n",
       "    <tr>\n",
       "      <th>3</th>\n",
       "      <td>2019-08-22</td>\n",
       "      <td>B6</td>\n",
       "      <td>B6</td>\n",
       "      <td>B6</td>\n",
       "      <td>989</td>\n",
       "      <td>B6</td>\n",
       "      <td>N339JB</td>\n",
       "      <td>989</td>\n",
       "      <td>10721</td>\n",
       "      <td>BOS</td>\n",
       "      <td>...</td>\n",
       "      <td>399</td>\n",
       "      <td>18.0</td>\n",
       "      <td>0.0</td>\n",
       "      <td>0.0</td>\n",
       "      <td>0.0</td>\n",
       "      <td>0.0</td>\n",
       "      <td>NaN</td>\n",
       "      <td>NaN</td>\n",
       "      <td>NaN</td>\n",
       "      <td>NaN</td>\n",
       "    </tr>\n",
       "    <tr>\n",
       "      <th>4</th>\n",
       "      <td>2019-08-22</td>\n",
       "      <td>B6</td>\n",
       "      <td>B6</td>\n",
       "      <td>B6</td>\n",
       "      <td>990</td>\n",
       "      <td>B6</td>\n",
       "      <td>N583JB</td>\n",
       "      <td>990</td>\n",
       "      <td>13204</td>\n",
       "      <td>MCO</td>\n",
       "      <td>...</td>\n",
       "      <td>944</td>\n",
       "      <td>NaN</td>\n",
       "      <td>NaN</td>\n",
       "      <td>NaN</td>\n",
       "      <td>NaN</td>\n",
       "      <td>NaN</td>\n",
       "      <td>NaN</td>\n",
       "      <td>NaN</td>\n",
       "      <td>NaN</td>\n",
       "      <td>NaN</td>\n",
       "    </tr>\n",
       "  </tbody>\n",
       "</table>\n",
       "<p>5 rows × 42 columns</p>\n",
       "</div>"
      ],
      "text/plain": [
       "      fl_date mkt_unique_carrier branded_code_share mkt_carrier  \\\n",
       "0  2019-08-22                 B6                 B6          B6   \n",
       "1  2019-08-22                 B6                 B6          B6   \n",
       "2  2019-08-22                 B6                 B6          B6   \n",
       "3  2019-08-22                 B6                 B6          B6   \n",
       "4  2019-08-22                 B6                 B6          B6   \n",
       "\n",
       "   mkt_carrier_fl_num op_unique_carrier tail_num  op_carrier_fl_num  \\\n",
       "0                 984                B6   N281JB                984   \n",
       "1                 987                B6   N978JB                987   \n",
       "2                 988                B6   N983JT                988   \n",
       "3                 989                B6   N339JB                989   \n",
       "4                 990                B6   N583JB                990   \n",
       "\n",
       "   origin_airport_id origin  ... distance  carrier_delay weather_delay  \\\n",
       "0              14492    RDU  ...      612            NaN           NaN   \n",
       "1              10721    BOS  ...     2611           39.0           0.0   \n",
       "2              12892    LAX  ...     2611            NaN           NaN   \n",
       "3              10721    BOS  ...      399           18.0           0.0   \n",
       "4              13204    MCO  ...      944            NaN           NaN   \n",
       "\n",
       "  nas_delay  security_delay  late_aircraft_delay  first_dep_time  \\\n",
       "0       NaN             NaN                  NaN             NaN   \n",
       "1       0.0             0.0                  0.0             NaN   \n",
       "2       NaN             NaN                  NaN             NaN   \n",
       "3       0.0             0.0                  0.0             NaN   \n",
       "4       NaN             NaN                  NaN             NaN   \n",
       "\n",
       "   total_add_gtime  longest_add_gtime  no_name  \n",
       "0              NaN                NaN      NaN  \n",
       "1              NaN                NaN      NaN  \n",
       "2              NaN                NaN      NaN  \n",
       "3              NaN                NaN      NaN  \n",
       "4              NaN                NaN      NaN  \n",
       "\n",
       "[5 rows x 42 columns]"
      ]
     },
     "execution_count": 16,
     "metadata": {},
     "output_type": "execute_result"
    }
   ],
   "source": [
    "flights_df.head()"
   ]
  },
  {
   "cell_type": "code",
   "execution_count": 19,
   "metadata": {
    "scrolled": true
   },
   "outputs": [
    {
     "data": {
      "text/plain": [
       "fl_date                       0\n",
       "mkt_unique_carrier            0\n",
       "branded_code_share            0\n",
       "mkt_carrier                   0\n",
       "mkt_carrier_fl_num            0\n",
       "op_unique_carrier             0\n",
       "tail_num                  49269\n",
       "op_carrier_fl_num             0\n",
       "origin_airport_id             0\n",
       "origin                        0\n",
       "origin_city_name              0\n",
       "dest_airport_id               0\n",
       "dest                          0\n",
       "dest_city_name                0\n",
       "crs_dep_time                  0\n",
       "dep_time                 258814\n",
       "dep_delay                263754\n",
       "taxi_out                 273274\n",
       "wheels_off               273264\n",
       "wheels_on                281162\n",
       "taxi_in                  281172\n",
       "crs_arr_time                  0\n",
       "arr_time                 275079\n",
       "arr_delay                311744\n",
       "cancelled                     0\n",
       "cancellation_code      15658277\n",
       "diverted                      0\n",
       "dup                           0\n",
       "crs_elapsed_time             20\n",
       "actual_elapsed_time      309157\n",
       "air_time                 315221\n",
       "flights                       0\n",
       "distance                      0\n",
       "carrier_delay          12918001\n",
       "weather_delay          12918001\n",
       "nas_delay              12918001\n",
       "security_delay         12918001\n",
       "late_aircraft_delay    12918001\n",
       "first_dep_time         15818547\n",
       "total_add_gtime        15818552\n",
       "longest_add_gtime      15818549\n",
       "no_name                15927485\n",
       "dtype: int64"
      ]
     },
     "execution_count": 19,
     "metadata": {},
     "output_type": "execute_result"
    }
   ],
   "source": [
    "flights_df.isna().sum()"
   ]
  },
  {
   "cell_type": "code",
   "execution_count": null,
   "metadata": {},
   "outputs": [],
   "source": [
    "cols_ML = ['fl_date', \n",
    "           'mkt_unique_carrier', \n",
    "           'branded_code_share', \n",
    "           'mkt_carrier', \n",
    "           'mkt_carrier_fl_num', \n",
    "           'op_unique_carrier', \n",
    "           'tail_num', \n",
    "           'op_carrier_fl_num', \n",
    "           'origin_airport_id', \n",
    "           'origin', \n",
    "           'origin_city_name', \n",
    "           'dest_airport_id', \n",
    "           'dest', \n",
    "           'dest_city_name', \n",
    "           'crs_dep_time', \n",
    "           'crs_arr_time', \n",
    "           'dup', \n",
    "           'crs_elapsed_time', \n",
    "           'flights', \n",
    "           'distance']"
   ]
  },
  {
   "cell_type": "code",
   "execution_count": 22,
   "metadata": {},
   "outputs": [
    {
     "data": {
      "text/plain": [
       "6370994.0"
      ]
     },
     "execution_count": 22,
     "metadata": {},
     "output_type": "execute_result"
    }
   ],
   "source": [
    "0.4*flights_df.shape[0]"
   ]
  },
  {
   "cell_type": "code",
   "execution_count": 24,
   "metadata": {},
   "outputs": [],
   "source": [
    "object_columns = flights_df.select_dtypes('object')"
   ]
  },
  {
   "cell_type": "code",
   "execution_count": 26,
   "metadata": {},
   "outputs": [
    {
     "data": {
      "text/html": [
       "<div>\n",
       "<style scoped>\n",
       "    .dataframe tbody tr th:only-of-type {\n",
       "        vertical-align: middle;\n",
       "    }\n",
       "\n",
       "    .dataframe tbody tr th {\n",
       "        vertical-align: top;\n",
       "    }\n",
       "\n",
       "    .dataframe thead th {\n",
       "        text-align: right;\n",
       "    }\n",
       "</style>\n",
       "<table border=\"1\" class=\"dataframe\">\n",
       "  <thead>\n",
       "    <tr style=\"text-align: right;\">\n",
       "      <th></th>\n",
       "      <th>fl_date</th>\n",
       "      <th>mkt_unique_carrier</th>\n",
       "      <th>branded_code_share</th>\n",
       "      <th>mkt_carrier</th>\n",
       "      <th>op_unique_carrier</th>\n",
       "      <th>tail_num</th>\n",
       "      <th>origin</th>\n",
       "      <th>origin_city_name</th>\n",
       "      <th>dest</th>\n",
       "      <th>dest_city_name</th>\n",
       "      <th>cancellation_code</th>\n",
       "      <th>dup</th>\n",
       "    </tr>\n",
       "  </thead>\n",
       "  <tbody>\n",
       "    <tr>\n",
       "      <th>0</th>\n",
       "      <td>2019-08-22</td>\n",
       "      <td>B6</td>\n",
       "      <td>B6</td>\n",
       "      <td>B6</td>\n",
       "      <td>B6</td>\n",
       "      <td>N281JB</td>\n",
       "      <td>RDU</td>\n",
       "      <td>Raleigh/Durham, NC</td>\n",
       "      <td>BOS</td>\n",
       "      <td>Boston, MA</td>\n",
       "      <td>NaN</td>\n",
       "      <td>N</td>\n",
       "    </tr>\n",
       "    <tr>\n",
       "      <th>1</th>\n",
       "      <td>2019-08-22</td>\n",
       "      <td>B6</td>\n",
       "      <td>B6</td>\n",
       "      <td>B6</td>\n",
       "      <td>B6</td>\n",
       "      <td>N978JB</td>\n",
       "      <td>BOS</td>\n",
       "      <td>Boston, MA</td>\n",
       "      <td>LAX</td>\n",
       "      <td>Los Angeles, CA</td>\n",
       "      <td>NaN</td>\n",
       "      <td>N</td>\n",
       "    </tr>\n",
       "    <tr>\n",
       "      <th>2</th>\n",
       "      <td>2019-08-22</td>\n",
       "      <td>B6</td>\n",
       "      <td>B6</td>\n",
       "      <td>B6</td>\n",
       "      <td>B6</td>\n",
       "      <td>N983JT</td>\n",
       "      <td>LAX</td>\n",
       "      <td>Los Angeles, CA</td>\n",
       "      <td>BOS</td>\n",
       "      <td>Boston, MA</td>\n",
       "      <td>NaN</td>\n",
       "      <td>N</td>\n",
       "    </tr>\n",
       "  </tbody>\n",
       "</table>\n",
       "</div>"
      ],
      "text/plain": [
       "      fl_date mkt_unique_carrier branded_code_share mkt_carrier  \\\n",
       "0  2019-08-22                 B6                 B6          B6   \n",
       "1  2019-08-22                 B6                 B6          B6   \n",
       "2  2019-08-22                 B6                 B6          B6   \n",
       "\n",
       "  op_unique_carrier tail_num origin    origin_city_name dest   dest_city_name  \\\n",
       "0                B6   N281JB    RDU  Raleigh/Durham, NC  BOS       Boston, MA   \n",
       "1                B6   N978JB    BOS          Boston, MA  LAX  Los Angeles, CA   \n",
       "2                B6   N983JT    LAX     Los Angeles, CA  BOS       Boston, MA   \n",
       "\n",
       "  cancellation_code dup  \n",
       "0               NaN   N  \n",
       "1               NaN   N  \n",
       "2               NaN   N  "
      ]
     },
     "execution_count": 26,
     "metadata": {},
     "output_type": "execute_result"
    }
   ],
   "source": [
    "object_columns.head(3)"
   ]
  },
  {
   "cell_type": "code",
   "execution_count": 27,
   "metadata": {},
   "outputs": [
    {
     "data": {
      "text/plain": [
       "array(['B6', 'DL', 'AA', 'UA', 'NK', 'WN', 'G4', 'HA', 'F9', 'AS', 'VX'],\n",
       "      dtype=object)"
      ]
     },
     "execution_count": 27,
     "metadata": {},
     "output_type": "execute_result"
    }
   ],
   "source": [
    "# mkt_unique_carrier unique values\n",
    "# 11 items\n",
    "\n",
    "flights_df['mkt_unique_carrier'].unique()"
   ]
  },
  {
   "cell_type": "code",
   "execution_count": 28,
   "metadata": {},
   "outputs": [
    {
     "data": {
      "text/plain": [
       "array(['B6', 'DL_CODESHARE', 'AA', 'DL', 'UA_CODESHARE', 'NK',\n",
       "       'AA_CODESHARE', 'WN', 'G4', 'HA', 'HA_CODESHARE', 'F9', 'AS',\n",
       "       'AS_CODESHARE', 'UA', 'VX'], dtype=object)"
      ]
     },
     "execution_count": 28,
     "metadata": {},
     "output_type": "execute_result"
    }
   ],
   "source": [
    "# branded_code_share unique values\n",
    "\n",
    "flights_df['branded_code_share'].unique()"
   ]
  },
  {
   "cell_type": "code",
   "execution_count": 38,
   "metadata": {},
   "outputs": [
    {
     "data": {
      "text/plain": [
       "array(['B6', 'DL', 'AA', 'UA', 'NK', 'WN', 'G4', 'HA', 'F9', 'AS', 'VX'],\n",
       "      dtype=object)"
      ]
     },
     "execution_count": 38,
     "metadata": {},
     "output_type": "execute_result"
    }
   ],
   "source": [
    "# mkt_carrier unique values\n",
    "# 11 items\n",
    "\n",
    "\n",
    "flights_df['mkt_carrier'].unique()\n",
    "\n",
    "# We see that its same values as mkt_unique_carrier unique values"
   ]
  },
  {
   "cell_type": "code",
   "execution_count": 60,
   "metadata": {},
   "outputs": [
    {
     "data": {
      "text/html": [
       "<div>\n",
       "<style scoped>\n",
       "    .dataframe tbody tr th:only-of-type {\n",
       "        vertical-align: middle;\n",
       "    }\n",
       "\n",
       "    .dataframe tbody tr th {\n",
       "        vertical-align: top;\n",
       "    }\n",
       "\n",
       "    .dataframe thead th {\n",
       "        text-align: right;\n",
       "    }\n",
       "</style>\n",
       "<table border=\"1\" class=\"dataframe\">\n",
       "  <thead>\n",
       "    <tr style=\"text-align: right;\">\n",
       "      <th></th>\n",
       "      <th>fl_date</th>\n",
       "      <th>mkt_unique_carrier</th>\n",
       "      <th>branded_code_share</th>\n",
       "      <th>mkt_carrier</th>\n",
       "      <th>mkt_carrier_fl_num</th>\n",
       "      <th>op_unique_carrier</th>\n",
       "      <th>tail_num</th>\n",
       "      <th>op_carrier_fl_num</th>\n",
       "      <th>origin_airport_id</th>\n",
       "      <th>origin</th>\n",
       "      <th>...</th>\n",
       "      <th>distance</th>\n",
       "      <th>carrier_delay</th>\n",
       "      <th>weather_delay</th>\n",
       "      <th>nas_delay</th>\n",
       "      <th>security_delay</th>\n",
       "      <th>late_aircraft_delay</th>\n",
       "      <th>first_dep_time</th>\n",
       "      <th>total_add_gtime</th>\n",
       "      <th>longest_add_gtime</th>\n",
       "      <th>no_name</th>\n",
       "    </tr>\n",
       "  </thead>\n",
       "  <tbody>\n",
       "  </tbody>\n",
       "</table>\n",
       "<p>0 rows × 42 columns</p>\n",
       "</div>"
      ],
      "text/plain": [
       "Empty DataFrame\n",
       "Columns: [fl_date, mkt_unique_carrier, branded_code_share, mkt_carrier, mkt_carrier_fl_num, op_unique_carrier, tail_num, op_carrier_fl_num, origin_airport_id, origin, origin_city_name, dest_airport_id, dest, dest_city_name, crs_dep_time, dep_time, dep_delay, taxi_out, wheels_off, wheels_on, taxi_in, crs_arr_time, arr_time, arr_delay, cancelled, cancellation_code, diverted, dup, crs_elapsed_time, actual_elapsed_time, air_time, flights, distance, carrier_delay, weather_delay, nas_delay, security_delay, late_aircraft_delay, first_dep_time, total_add_gtime, longest_add_gtime, no_name]\n",
       "Index: []\n",
       "\n",
       "[0 rows x 42 columns]"
      ]
     },
     "execution_count": 60,
     "metadata": {},
     "output_type": "execute_result"
    }
   ],
   "source": [
    "# mkt_carrier and mkt_unique_carrier match for every row therefore we can drop one or the other\n",
    "\n",
    "flights_df.loc[flights_df['mkt_carrier'] != flights_df['mkt_unique_carrier']]"
   ]
  },
  {
   "cell_type": "code",
   "execution_count": 39,
   "metadata": {},
   "outputs": [
    {
     "data": {
      "text/plain": [
       "array(['B6', '9E', 'AA', 'DL', 'YV', 'NK', 'MQ', 'OH', 'WN', 'G4', 'YX',\n",
       "       'C5', 'ZW', 'AX', 'EV', 'PT', 'HA', 'CP', 'EM', 'F9', 'AS', 'QX',\n",
       "       'OO', 'UA', 'G7', 'KS', '9K', 'VX'], dtype=object)"
      ]
     },
     "execution_count": 39,
     "metadata": {},
     "output_type": "execute_result"
    }
   ],
   "source": [
    "# 28 items\n",
    "flights_df['op_unique_carrier'].unique()"
   ]
  },
  {
   "cell_type": "code",
   "execution_count": 40,
   "metadata": {},
   "outputs": [
    {
     "data": {
      "text/plain": [
       "{'9E',\n",
       " '9K',\n",
       " 'AX',\n",
       " 'C5',\n",
       " 'CP',\n",
       " 'EM',\n",
       " 'EV',\n",
       " 'G7',\n",
       " 'KS',\n",
       " 'MQ',\n",
       " 'OH',\n",
       " 'OO',\n",
       " 'PT',\n",
       " 'QX',\n",
       " 'YV',\n",
       " 'YX',\n",
       " 'ZW'}"
      ]
     },
     "execution_count": 40,
     "metadata": {},
     "output_type": "execute_result"
    }
   ],
   "source": [
    "# 'op_unique_carrier' contains everything in 'mkt_carrier'/'mkt_unique_carrier' plus 17 extra items\n",
    "\n",
    "# The extra items in 'op_unique_carrier'\n",
    "set(flights_df['op_unique_carrier'].unique()).difference(flights_df['mkt_carrier'].unique())"
   ]
  },
  {
   "cell_type": "code",
   "execution_count": 50,
   "metadata": {},
   "outputs": [
    {
     "data": {
      "text/plain": [
       "(6488,)"
      ]
     },
     "execution_count": 50,
     "metadata": {},
     "output_type": "execute_result"
    }
   ],
   "source": [
    "# 6488 unique items (Represents unique plane?)\n",
    "# Has alot of missing values?\n",
    "\n",
    "flights_df['tail_num'].unique().shape"
   ]
  },
  {
   "cell_type": "code",
   "execution_count": 62,
   "metadata": {},
   "outputs": [
    {
     "name": "stdout",
     "output_type": "stream",
     "text": [
      "Equal length of unique values for \"origin\" and \"dest\":  True\n",
      "Checking for different codes between \"origin\" and \"dest\" columns:  0\n"
     ]
    }
   ],
   "source": [
    "# Origin and destination codes equal\n",
    "\n",
    "print('Equal length of unique values for \"origin\" and \"dest\": ',flights_df['origin'].unique().shape[0] == flights_df['dest'].unique().shape[0])\n",
    "\n",
    "\n",
    "# Both origin and desitnation contain the same codes\n",
    "\n",
    "print('Checking for different codes between \"origin\" and \"dest\" columns: ', len(set(flights_df['origin'].unique()) - set(flights_df['dest'].unique())))"
   ]
  },
  {
   "cell_type": "code",
   "execution_count": 63,
   "metadata": {},
   "outputs": [
    {
     "data": {
      "text/plain": [
       "array(['Raleigh/Durham, NC', 'Boston, MA', 'Los Angeles, CA',\n",
       "       'Orlando, FL', 'Tampa, FL', 'Denver, CO', 'Atlanta, GA',\n",
       "       'Anchorage, AK', 'Buffalo, NY', 'Long Beach, CA', 'Seattle, WA',\n",
       "       'Chicago, IL', 'New York, NY', 'Jacksonville, FL',\n",
       "       'Fort Lauderdale, FL', 'Washington, DC', 'San Juan, PR',\n",
       "       'Charlotte Amalie, VI', 'Austin, TX', 'Savannah, GA',\n",
       "       'West Palm Beach/Palm Beach, FL', 'Fort Myers, FL',\n",
       "       'Providence, RI', 'Las Vegas, NV', 'Portland, OR',\n",
       "       'Charleston, SC', 'Hartford, CT', 'Richmond, VA', 'Phoenix, AZ',\n",
       "       'Nantucket, MA', 'Dallas/Fort Worth, TX', \"Martha's Vineyard, MA\",\n",
       "       'Baltimore, MD', 'San Francisco, CA', 'Charlotte, NC',\n",
       "       'White Plains, NY', 'Newark, NJ', 'Pittsburgh, PA', 'Detroit, MI',\n",
       "       'New Orleans, LA', 'Burlington, VT', 'Minneapolis, MN',\n",
       "       'Philadelphia, PA', 'Nashville, TN', 'Syracuse, NY',\n",
       "       'Cleveland, OH', 'Worcester, MA', 'San Jose, CA', 'Burbank, CA',\n",
       "       'Portland, ME', 'Mosinee, WI', 'Cincinnati, OH', 'St. Louis, MO',\n",
       "       'Memphis, TN', 'Des Moines, IA', 'Houston, TX',\n",
       "       'Bloomington/Normal, IL', 'Rochester, NY', 'Roanoke, VA',\n",
       "       'Knoxville, TN', 'Fort Wayne, IN', 'Miami, FL', 'Spokane, WA',\n",
       "       'Albuquerque, NM', 'San Antonio, TX', 'Reno, NV', 'San Diego, CA',\n",
       "       'Tulsa, OK', 'Salt Lake City, UT', 'Little Rock, AR',\n",
       "       'Ontario, CA', 'Midland/Odessa, TX', 'Kansas City, MO',\n",
       "       'Santa Ana, CA', 'Tucson, AZ', 'Grand Rapids, MI',\n",
       "       'Louisville, KY', 'Honolulu, HI', 'Jackson, WY', 'Sacramento, CA',\n",
       "       'Columbus, OH', 'Colorado Springs, CO', 'Boise, ID',\n",
       "       'Amarillo, TX', 'Lubbock, TX', 'Mission/McAllen/Edinburg, TX',\n",
       "       'Oklahoma City, OK', 'Greensboro/High Point, NC', 'Valparaiso, FL',\n",
       "       'Wichita, KS', 'Wilmington, NC', 'Bozeman, MT', 'Kona, HI',\n",
       "       'Birmingham, AL', 'Greer, SC', 'Pensacola, FL', 'Kahului, HI',\n",
       "       'Huntsville, AL', 'Madison, WI', 'Indianapolis, IN',\n",
       "       'Cedar Rapids/Iowa City, IA', 'Allentown/Bethlehem/Easton, PA',\n",
       "       'Fairbanks, AK', 'Sarasota/Bradenton, FL', 'Norfolk, VA',\n",
       "       'Milwaukee, WI', 'Jackson/Vicksburg, MS', 'Key West, FL',\n",
       "       'Melbourne, FL', 'Charlottesville, VA', 'El Paso, TX',\n",
       "       'Columbia, SC', 'Lexington, KY', 'Tallahassee, FL', 'Juneau, AK',\n",
       "       'Gulfport/Biloxi, MS', 'Albany, NY', 'Akron, OH',\n",
       "       'Daytona Beach, FL', 'Omaha, NE', 'Chattanooga, TN',\n",
       "       'Harlingen/San Benito, TX', 'Dayton, OH', 'Baton Rouge, LA',\n",
       "       'Moline, IL', 'Santa Barbara, CA', 'Durango, CO',\n",
       "       'Montrose/Delta, CO', 'Corpus Christi, TX', 'Monterey, CA',\n",
       "       'Brownsville, TX', 'Mobile, AL', 'Fort Smith, AR',\n",
       "       'Bismarck/Mandan, ND', 'Montgomery, AL', 'Tyler, TX',\n",
       "       'Lansing, MI', 'Green Bay, WI', 'Columbia, MO', 'Fargo, ND',\n",
       "       'Flint, MI', 'Waco, TX', 'Springfield, MO', 'Champaign/Urbana, IL',\n",
       "       'Manhattan/Ft. Riley, KS', 'Joplin, MO', 'Fayetteville, AR',\n",
       "       'Abilene, TX', 'Scranton/Wilkes-Barre, PA', 'Killeen, TX',\n",
       "       'Lake Charles, LA', 'Beaumont/Port Arthur, TX', 'Shreveport, LA',\n",
       "       'Garden City, KS', 'Alexandria, LA', 'Evansville, IN',\n",
       "       'Marquette, MI', 'College Station/Bryan, TX', 'Toledo, OH',\n",
       "       'Manchester, NH', 'Newport News/Williamsburg, VA',\n",
       "       'Bristol/Johnson City/Kingsport, TN', 'Augusta, GA',\n",
       "       'South Bend, IN', 'Jacksonville/Camp Lejeune, NC',\n",
       "       'Charleston/Dunbar, WV', 'Lynchburg, VA', 'Gainesville, FL',\n",
       "       'Harrisburg, PA', 'Peoria, IL', 'Myrtle Beach, SC',\n",
       "       'Lawton/Fort Sill, OK', 'Springfield, IL', 'Dubuque, IA',\n",
       "       'Grand Junction, CO', 'Monroe, LA', 'Waterloo, IA',\n",
       "       'Texarkana, AR', 'Erie, PA', 'Sioux Falls, SD', 'Bangor, ME',\n",
       "       'San Angelo, TX', 'Kalispell, MT', 'Appleton, WI',\n",
       "       'Fayetteville, NC', 'Aguadilla, PR', 'Oakland, CA', 'Latrobe, PA',\n",
       "       'Asheville, NC', 'New Bern/Morehead/Beaufort, NC', 'Sanford, FL',\n",
       "       'Belleville, IL', 'St. Petersburg, FL', 'Bellingham, WA',\n",
       "       'Concord, NC', 'Provo, UT', 'Grand Island, NE', 'Stockton, CA',\n",
       "       'Punta Gorda, FL', 'Laredo, TX', 'Niagara Falls, NY',\n",
       "       'Grand Forks, ND', 'Idaho Falls, ID', 'Portsmouth, NH',\n",
       "       'Ashland, WV', 'Minot, ND', 'Hilton Head, SC', 'Dallas, TX',\n",
       "       'Panama City, FL', 'Rochester, MN', 'Columbus, GA',\n",
       "       'Saginaw/Bay City/Midland, MI', 'Lafayette, LA',\n",
       "       'Newburgh/Poughkeepsie, NY', 'Ponce, PR', 'Hyannis, MA',\n",
       "       'Ithaca/Cortland, NY', 'Presque Isle/Houlton, ME',\n",
       "       'Elmira/Corning, NY', 'Traverse City, MI', 'Lincoln, NE',\n",
       "       'Williston, ND', 'Casper, WY', 'Santa Fe, NM', 'Flagstaff, AZ',\n",
       "       'Cody, WY', 'Medford, OR', 'Great Falls, MT', 'Rapid City, SD',\n",
       "       'Hayden, CO', 'Dickinson, ND', 'Gunnison, CO', 'Helena, MT',\n",
       "       'Lihue, HI', 'Billings, MT', 'Missoula, MT',\n",
       "       'Pasco/Kennewick/Richland, WA', 'Plattsburgh, NY', 'Fresno, CA',\n",
       "       'Eugene, OR', 'Santa Maria, CA', 'Rockford, IL',\n",
       "       'Palm Springs, CA', 'Florence, SC', 'Salisbury, MD',\n",
       "       'Watertown, NY', 'Islip, NY', 'Williamsport, PA', 'Greenville, NC',\n",
       "       'Hilo, HI', 'Hoolehua, HI', 'Kapalua, HI', 'Lanai, HI',\n",
       "       'Trenton, NJ', 'Hobbs, NM', 'Santa Rosa, CA', 'State College, PA',\n",
       "       'Yakima, WA', 'Bend/Redmond, OR', 'Walla Walla, WA', 'Pullman, WA',\n",
       "       'Wenatchee, WA', 'Stillwater, OK', 'Duluth, MN',\n",
       "       'San Luis Obispo, CA', 'Wichita Falls, TX', 'Atlantic City, NJ',\n",
       "       'Aspen, CO', 'Sun Valley/Hailey/Ketchum, ID', 'Kalamazoo, MI',\n",
       "       'Brunswick, GA', 'Bakersfield, CA', 'New Haven, CT', 'Guam, TT',\n",
       "       'Saipan, TT', 'Christiansted, VI', 'Eagle, CO', 'Everett, WA',\n",
       "       'Unalaska, AK', 'Del Rio, TX', 'Valdosta, GA', 'Dothan, AL',\n",
       "       'Columbus, MS', 'Albany, GA', 'Elko, NV', 'Pocatello, ID',\n",
       "       'La Crosse, WI', 'Binghamton, NY', 'International Falls, MN',\n",
       "       'Sault Ste. Marie, MI', 'Brainerd, MN', 'Cedar City, UT',\n",
       "       'Twin Falls, ID', 'Hibbing, MN', 'Aberdeen, SD', 'Pellston, MI',\n",
       "       'Lewiston, ID', 'Alpena, MI', 'Escanaba, MI', 'Rhinelander, WI',\n",
       "       'Iron Mountain/Kingsfd, MI', 'Butte, MT', 'Bemidji, MN',\n",
       "       'West Yellowstone, MT', 'Kearney, NE', 'Vernal, UT',\n",
       "       'Devils Lake, ND', 'Jamestown, ND', 'Moab, UT', 'Eau Claire, WI',\n",
       "       'Gillette, WY', 'Staunton, VA', 'Muskegon, MI',\n",
       "       'Clarksburg/Fairmont, WV', 'Rock Springs, WY', 'Pueblo, CO',\n",
       "       'Hancock/Houghton, MI', 'Cape Girardeau, MO', 'Paducah, KY',\n",
       "       'Liberal, KS', 'Quincy, IL', 'North Platte, NE', 'Lewisburg, WV',\n",
       "       'Scottsbluff, NE', 'Laramie, WY', 'Hays, KS', 'Salina, KS',\n",
       "       'Ogdensburg, NY', 'Pierre, SD', 'Watertown, SD', 'Prescott, AZ',\n",
       "       'Arcata/Eureka, CA', 'Redding, CA', 'North Bend/Coos Bay, OR',\n",
       "       'Hagerstown, MD', 'Ogden, UT', 'Yuma, AZ', 'Roswell, NM',\n",
       "       'Meridian, MS', 'Hattiesburg/Laurel, MS', 'Cheyenne, WY',\n",
       "       'Ketchikan, AK', 'Sitka, AK', 'Longview, TX', 'Sioux City, IA',\n",
       "       'Mammoth Lakes, CA', 'Kodiak, AK', 'Bethel, AK', 'Barrow, AK',\n",
       "       'Deadhorse, AK', 'Yakutat, AK', 'Cordova, AK', 'Wrangell, AK',\n",
       "       'Petersburg, AK', 'Gustavus, AK', 'Nome, AK', 'Kotzebue, AK',\n",
       "       'Dillingham, AK', 'Adak Island, AK', 'Branson, MO',\n",
       "       'Pago Pago, TT', 'St. George, UT', 'Owensboro, KY',\n",
       "       'St. Cloud, MN', 'King Salmon, AK', 'Rota, TT',\n",
       "       'Bullhead City, AZ', 'Youngstown/Warren, OH'], dtype=object)"
      ]
     },
     "execution_count": 63,
     "metadata": {},
     "output_type": "execute_result"
    }
   ],
   "source": [
    "# Keep 'origin_city_name' and 'dest_city_name' for later use, may drop them for machine learning model\n",
    "flights_df['origin_city_name'].unique()"
   ]
  },
  {
   "cell_type": "code",
   "execution_count": 66,
   "metadata": {},
   "outputs": [
    {
     "data": {
      "text/plain": [
       "B    142089\n",
       "A     70569\n",
       "C     56484\n",
       "D        64\n",
       "X         2\n",
       "Name: cancellation_code, dtype: int64"
      ]
     },
     "execution_count": 66,
     "metadata": {},
     "output_type": "execute_result"
    }
   ],
   "source": [
    "flights_df['cancellation_code'].value_counts()"
   ]
  },
  {
   "cell_type": "code",
   "execution_count": 70,
   "metadata": {},
   "outputs": [
    {
     "data": {
      "text/plain": [
       "15658277"
      ]
     },
     "execution_count": 70,
     "metadata": {},
     "output_type": "execute_result"
    }
   ],
   "source": [
    "# Will drop, this column contains more then 40% missing values\n",
    "\n",
    "flights_df['cancellation_code'].isna().sum()"
   ]
  },
  {
   "cell_type": "code",
   "execution_count": 67,
   "metadata": {},
   "outputs": [
    {
     "data": {
      "text/html": [
       "<div>\n",
       "<style scoped>\n",
       "    .dataframe tbody tr th:only-of-type {\n",
       "        vertical-align: middle;\n",
       "    }\n",
       "\n",
       "    .dataframe tbody tr th {\n",
       "        vertical-align: top;\n",
       "    }\n",
       "\n",
       "    .dataframe thead th {\n",
       "        text-align: right;\n",
       "    }\n",
       "</style>\n",
       "<table border=\"1\" class=\"dataframe\">\n",
       "  <thead>\n",
       "    <tr style=\"text-align: right;\">\n",
       "      <th></th>\n",
       "      <th>fl_date</th>\n",
       "      <th>mkt_unique_carrier</th>\n",
       "      <th>branded_code_share</th>\n",
       "      <th>mkt_carrier</th>\n",
       "      <th>op_unique_carrier</th>\n",
       "      <th>tail_num</th>\n",
       "      <th>origin</th>\n",
       "      <th>origin_city_name</th>\n",
       "      <th>dest</th>\n",
       "      <th>dest_city_name</th>\n",
       "      <th>cancellation_code</th>\n",
       "      <th>dup</th>\n",
       "    </tr>\n",
       "  </thead>\n",
       "  <tbody>\n",
       "    <tr>\n",
       "      <th>0</th>\n",
       "      <td>2019-08-22</td>\n",
       "      <td>B6</td>\n",
       "      <td>B6</td>\n",
       "      <td>B6</td>\n",
       "      <td>B6</td>\n",
       "      <td>N281JB</td>\n",
       "      <td>RDU</td>\n",
       "      <td>Raleigh/Durham, NC</td>\n",
       "      <td>BOS</td>\n",
       "      <td>Boston, MA</td>\n",
       "      <td>NaN</td>\n",
       "      <td>N</td>\n",
       "    </tr>\n",
       "    <tr>\n",
       "      <th>1</th>\n",
       "      <td>2019-08-22</td>\n",
       "      <td>B6</td>\n",
       "      <td>B6</td>\n",
       "      <td>B6</td>\n",
       "      <td>B6</td>\n",
       "      <td>N978JB</td>\n",
       "      <td>BOS</td>\n",
       "      <td>Boston, MA</td>\n",
       "      <td>LAX</td>\n",
       "      <td>Los Angeles, CA</td>\n",
       "      <td>NaN</td>\n",
       "      <td>N</td>\n",
       "    </tr>\n",
       "    <tr>\n",
       "      <th>2</th>\n",
       "      <td>2019-08-22</td>\n",
       "      <td>B6</td>\n",
       "      <td>B6</td>\n",
       "      <td>B6</td>\n",
       "      <td>B6</td>\n",
       "      <td>N983JT</td>\n",
       "      <td>LAX</td>\n",
       "      <td>Los Angeles, CA</td>\n",
       "      <td>BOS</td>\n",
       "      <td>Boston, MA</td>\n",
       "      <td>NaN</td>\n",
       "      <td>N</td>\n",
       "    </tr>\n",
       "    <tr>\n",
       "      <th>3</th>\n",
       "      <td>2019-08-22</td>\n",
       "      <td>B6</td>\n",
       "      <td>B6</td>\n",
       "      <td>B6</td>\n",
       "      <td>B6</td>\n",
       "      <td>N339JB</td>\n",
       "      <td>BOS</td>\n",
       "      <td>Boston, MA</td>\n",
       "      <td>DCA</td>\n",
       "      <td>Washington, DC</td>\n",
       "      <td>NaN</td>\n",
       "      <td>N</td>\n",
       "    </tr>\n",
       "    <tr>\n",
       "      <th>4</th>\n",
       "      <td>2019-08-22</td>\n",
       "      <td>B6</td>\n",
       "      <td>B6</td>\n",
       "      <td>B6</td>\n",
       "      <td>B6</td>\n",
       "      <td>N583JB</td>\n",
       "      <td>MCO</td>\n",
       "      <td>Orlando, FL</td>\n",
       "      <td>JFK</td>\n",
       "      <td>New York, NY</td>\n",
       "      <td>NaN</td>\n",
       "      <td>N</td>\n",
       "    </tr>\n",
       "  </tbody>\n",
       "</table>\n",
       "</div>"
      ],
      "text/plain": [
       "      fl_date mkt_unique_carrier branded_code_share mkt_carrier  \\\n",
       "0  2019-08-22                 B6                 B6          B6   \n",
       "1  2019-08-22                 B6                 B6          B6   \n",
       "2  2019-08-22                 B6                 B6          B6   \n",
       "3  2019-08-22                 B6                 B6          B6   \n",
       "4  2019-08-22                 B6                 B6          B6   \n",
       "\n",
       "  op_unique_carrier tail_num origin    origin_city_name dest   dest_city_name  \\\n",
       "0                B6   N281JB    RDU  Raleigh/Durham, NC  BOS       Boston, MA   \n",
       "1                B6   N978JB    BOS          Boston, MA  LAX  Los Angeles, CA   \n",
       "2                B6   N983JT    LAX     Los Angeles, CA  BOS       Boston, MA   \n",
       "3                B6   N339JB    BOS          Boston, MA  DCA   Washington, DC   \n",
       "4                B6   N583JB    MCO         Orlando, FL  JFK     New York, NY   \n",
       "\n",
       "  cancellation_code dup  \n",
       "0               NaN   N  \n",
       "1               NaN   N  \n",
       "2               NaN   N  \n",
       "3               NaN   N  \n",
       "4               NaN   N  "
      ]
     },
     "execution_count": 67,
     "metadata": {},
     "output_type": "execute_result"
    }
   ],
   "source": [
    "object_columns.head()"
   ]
  },
  {
   "cell_type": "code",
   "execution_count": 71,
   "metadata": {},
   "outputs": [
    {
     "data": {
      "text/plain": [
       "array(['N'], dtype=object)"
      ]
     },
     "execution_count": 71,
     "metadata": {},
     "output_type": "execute_result"
    }
   ],
   "source": [
    "# contains 1 value, will drop \n",
    "flights_df['dup'].unique()"
   ]
  },
  {
   "cell_type": "markdown",
   "metadata": {},
   "source": [
    "#### Numeric Columns"
   ]
  },
  {
   "cell_type": "code",
   "execution_count": 80,
   "metadata": {},
   "outputs": [
    {
     "data": {
      "text/plain": [
       "array([dtype('O'), dtype('int64'), dtype('float64')], dtype=object)"
      ]
     },
     "execution_count": 80,
     "metadata": {},
     "output_type": "execute_result"
    }
   ],
   "source": [
    "flights_df.dtypes.unique()"
   ]
  },
  {
   "cell_type": "code",
   "execution_count": 83,
   "metadata": {},
   "outputs": [
    {
     "data": {
      "text/html": [
       "<div>\n",
       "<style scoped>\n",
       "    .dataframe tbody tr th:only-of-type {\n",
       "        vertical-align: middle;\n",
       "    }\n",
       "\n",
       "    .dataframe tbody tr th {\n",
       "        vertical-align: top;\n",
       "    }\n",
       "\n",
       "    .dataframe thead th {\n",
       "        text-align: right;\n",
       "    }\n",
       "</style>\n",
       "<table border=\"1\" class=\"dataframe\">\n",
       "  <thead>\n",
       "    <tr style=\"text-align: right;\">\n",
       "      <th></th>\n",
       "      <th>mkt_carrier_fl_num</th>\n",
       "      <th>op_carrier_fl_num</th>\n",
       "      <th>origin_airport_id</th>\n",
       "      <th>dest_airport_id</th>\n",
       "      <th>crs_dep_time</th>\n",
       "      <th>dep_time</th>\n",
       "      <th>dep_delay</th>\n",
       "      <th>taxi_out</th>\n",
       "      <th>wheels_off</th>\n",
       "      <th>wheels_on</th>\n",
       "      <th>...</th>\n",
       "      <th>distance</th>\n",
       "      <th>carrier_delay</th>\n",
       "      <th>weather_delay</th>\n",
       "      <th>nas_delay</th>\n",
       "      <th>security_delay</th>\n",
       "      <th>late_aircraft_delay</th>\n",
       "      <th>first_dep_time</th>\n",
       "      <th>total_add_gtime</th>\n",
       "      <th>longest_add_gtime</th>\n",
       "      <th>no_name</th>\n",
       "    </tr>\n",
       "  </thead>\n",
       "  <tbody>\n",
       "    <tr>\n",
       "      <th>0</th>\n",
       "      <td>984</td>\n",
       "      <td>984</td>\n",
       "      <td>14492</td>\n",
       "      <td>10721</td>\n",
       "      <td>1501</td>\n",
       "      <td>1501.0</td>\n",
       "      <td>0.0</td>\n",
       "      <td>25.0</td>\n",
       "      <td>1526.0</td>\n",
       "      <td>1656.0</td>\n",
       "      <td>...</td>\n",
       "      <td>612</td>\n",
       "      <td>NaN</td>\n",
       "      <td>NaN</td>\n",
       "      <td>NaN</td>\n",
       "      <td>NaN</td>\n",
       "      <td>NaN</td>\n",
       "      <td>NaN</td>\n",
       "      <td>NaN</td>\n",
       "      <td>NaN</td>\n",
       "      <td>NaN</td>\n",
       "    </tr>\n",
       "    <tr>\n",
       "      <th>1</th>\n",
       "      <td>987</td>\n",
       "      <td>987</td>\n",
       "      <td>10721</td>\n",
       "      <td>12892</td>\n",
       "      <td>2150</td>\n",
       "      <td>2243.0</td>\n",
       "      <td>53.0</td>\n",
       "      <td>14.0</td>\n",
       "      <td>2257.0</td>\n",
       "      <td>140.0</td>\n",
       "      <td>...</td>\n",
       "      <td>2611</td>\n",
       "      <td>39.0</td>\n",
       "      <td>0.0</td>\n",
       "      <td>0.0</td>\n",
       "      <td>0.0</td>\n",
       "      <td>0.0</td>\n",
       "      <td>NaN</td>\n",
       "      <td>NaN</td>\n",
       "      <td>NaN</td>\n",
       "      <td>NaN</td>\n",
       "    </tr>\n",
       "    <tr>\n",
       "      <th>2</th>\n",
       "      <td>988</td>\n",
       "      <td>988</td>\n",
       "      <td>12892</td>\n",
       "      <td>10721</td>\n",
       "      <td>2350</td>\n",
       "      <td>2341.0</td>\n",
       "      <td>-9.0</td>\n",
       "      <td>24.0</td>\n",
       "      <td>5.0</td>\n",
       "      <td>802.0</td>\n",
       "      <td>...</td>\n",
       "      <td>2611</td>\n",
       "      <td>NaN</td>\n",
       "      <td>NaN</td>\n",
       "      <td>NaN</td>\n",
       "      <td>NaN</td>\n",
       "      <td>NaN</td>\n",
       "      <td>NaN</td>\n",
       "      <td>NaN</td>\n",
       "      <td>NaN</td>\n",
       "      <td>NaN</td>\n",
       "    </tr>\n",
       "    <tr>\n",
       "      <th>3</th>\n",
       "      <td>989</td>\n",
       "      <td>989</td>\n",
       "      <td>10721</td>\n",
       "      <td>11278</td>\n",
       "      <td>1814</td>\n",
       "      <td>1833.0</td>\n",
       "      <td>19.0</td>\n",
       "      <td>25.0</td>\n",
       "      <td>1858.0</td>\n",
       "      <td>2011.0</td>\n",
       "      <td>...</td>\n",
       "      <td>399</td>\n",
       "      <td>18.0</td>\n",
       "      <td>0.0</td>\n",
       "      <td>0.0</td>\n",
       "      <td>0.0</td>\n",
       "      <td>0.0</td>\n",
       "      <td>NaN</td>\n",
       "      <td>NaN</td>\n",
       "      <td>NaN</td>\n",
       "      <td>NaN</td>\n",
       "    </tr>\n",
       "    <tr>\n",
       "      <th>4</th>\n",
       "      <td>990</td>\n",
       "      <td>990</td>\n",
       "      <td>13204</td>\n",
       "      <td>12478</td>\n",
       "      <td>618</td>\n",
       "      <td>615.0</td>\n",
       "      <td>-3.0</td>\n",
       "      <td>15.0</td>\n",
       "      <td>630.0</td>\n",
       "      <td>841.0</td>\n",
       "      <td>...</td>\n",
       "      <td>944</td>\n",
       "      <td>NaN</td>\n",
       "      <td>NaN</td>\n",
       "      <td>NaN</td>\n",
       "      <td>NaN</td>\n",
       "      <td>NaN</td>\n",
       "      <td>NaN</td>\n",
       "      <td>NaN</td>\n",
       "      <td>NaN</td>\n",
       "      <td>NaN</td>\n",
       "    </tr>\n",
       "  </tbody>\n",
       "</table>\n",
       "<p>5 rows × 30 columns</p>\n",
       "</div>"
      ],
      "text/plain": [
       "   mkt_carrier_fl_num  op_carrier_fl_num  origin_airport_id  dest_airport_id  \\\n",
       "0                 984                984              14492            10721   \n",
       "1                 987                987              10721            12892   \n",
       "2                 988                988              12892            10721   \n",
       "3                 989                989              10721            11278   \n",
       "4                 990                990              13204            12478   \n",
       "\n",
       "   crs_dep_time  dep_time  dep_delay  taxi_out  wheels_off  wheels_on  ...  \\\n",
       "0          1501    1501.0        0.0      25.0      1526.0     1656.0  ...   \n",
       "1          2150    2243.0       53.0      14.0      2257.0      140.0  ...   \n",
       "2          2350    2341.0       -9.0      24.0         5.0      802.0  ...   \n",
       "3          1814    1833.0       19.0      25.0      1858.0     2011.0  ...   \n",
       "4           618     615.0       -3.0      15.0       630.0      841.0  ...   \n",
       "\n",
       "   distance  carrier_delay  weather_delay  nas_delay  security_delay  \\\n",
       "0       612            NaN            NaN        NaN             NaN   \n",
       "1      2611           39.0            0.0        0.0             0.0   \n",
       "2      2611            NaN            NaN        NaN             NaN   \n",
       "3       399           18.0            0.0        0.0             0.0   \n",
       "4       944            NaN            NaN        NaN             NaN   \n",
       "\n",
       "   late_aircraft_delay  first_dep_time  total_add_gtime  longest_add_gtime  \\\n",
       "0                  NaN             NaN              NaN                NaN   \n",
       "1                  0.0             NaN              NaN                NaN   \n",
       "2                  NaN             NaN              NaN                NaN   \n",
       "3                  0.0             NaN              NaN                NaN   \n",
       "4                  NaN             NaN              NaN                NaN   \n",
       "\n",
       "   no_name  \n",
       "0      NaN  \n",
       "1      NaN  \n",
       "2      NaN  \n",
       "3      NaN  \n",
       "4      NaN  \n",
       "\n",
       "[5 rows x 30 columns]"
      ]
     },
     "execution_count": 83,
     "metadata": {},
     "output_type": "execute_result"
    }
   ],
   "source": [
    "numerical_columns = flights_df.select_dtypes(['int64', 'float64'])\n",
    "numerical_columns.head()"
   ]
  },
  {
   "cell_type": "code",
   "execution_count": 84,
   "metadata": {},
   "outputs": [
    {
     "data": {
      "text/plain": [
       "(7226,)"
      ]
     },
     "execution_count": 84,
     "metadata": {},
     "output_type": "execute_result"
    }
   ],
   "source": [
    "flights_df['mkt_carrier_fl_num'].unique().shape"
   ]
  },
  {
   "cell_type": "code",
   "execution_count": 85,
   "metadata": {},
   "outputs": [
    {
     "data": {
      "text/plain": [
       "(7252,)"
      ]
     },
     "execution_count": 85,
     "metadata": {},
     "output_type": "execute_result"
    }
   ],
   "source": [
    "flights_df['op_carrier_fl_num'].unique().shape"
   ]
  },
  {
   "cell_type": "code",
   "execution_count": 88,
   "metadata": {},
   "outputs": [
    {
     "name": "stdout",
     "output_type": "stream",
     "text": [
      "Equal length of unique values for \"origin_airport_id\" and \"dest_airport_id\":  True\n",
      "Checking for different codes between \"origin_airport_id\" and \"dest_airport_id\" columns:  0\n"
     ]
    }
   ],
   "source": [
    "print('Equal length of unique values for \"origin_airport_id\" and \"dest_airport_id\": ',flights_df['origin_airport_id'].unique().shape[0] == flights_df['dest_airport_id'].unique().shape[0])\n",
    "print('Checking for different codes between \"origin_airport_id\" and \"dest_airport_id\" columns: ', len(set(flights_df['origin_airport_id'].unique()) - set(flights_df['dest_airport_id'].unique())))"
   ]
  },
  {
   "cell_type": "code",
   "execution_count": 91,
   "metadata": {},
   "outputs": [
    {
     "data": {
      "text/plain": [
       "0"
      ]
     },
     "execution_count": 91,
     "metadata": {},
     "output_type": "execute_result"
    }
   ],
   "source": [
    "# CRS Departure Time (local time: hhmm) \n",
    "# Convert to datetime format\n",
    "\n",
    "flights_df['crs_dep_time'].isna().sum()"
   ]
  },
  {
   "cell_type": "code",
   "execution_count": 94,
   "metadata": {},
   "outputs": [
    {
     "data": {
      "text/plain": [
       "258814"
      ]
     },
     "execution_count": 94,
     "metadata": {},
     "output_type": "execute_result"
    }
   ],
   "source": [
    "#  Actual Departure Time (local time: hhmm)\n",
    "# Convert to datetime format\n",
    "\n",
    "flights_df['dep_time'].isna().sum()"
   ]
  },
  {
   "cell_type": "code",
   "execution_count": 98,
   "metadata": {},
   "outputs": [
    {
     "data": {
      "text/plain": [
       "0             0.0\n",
       "1            53.0\n",
       "2            -9.0\n",
       "3            19.0\n",
       "4            -3.0\n",
       "            ...  \n",
       "15927480     -1.0\n",
       "15927481      9.0\n",
       "15927482    -11.0\n",
       "15927483     11.0\n",
       "15927484    217.0\n",
       "Name: dep_delay, Length: 15927485, dtype: float64"
      ]
     },
     "execution_count": 98,
     "metadata": {},
     "output_type": "execute_result"
    }
   ],
   "source": [
    "# Difference in MINUTES between scheduled and actual departure time. Early departures show negative numbers.\n",
    "\n",
    "flights_df['dep_delay']"
   ]
  },
  {
   "cell_type": "code",
   "execution_count": 95,
   "metadata": {},
   "outputs": [
    {
     "data": {
      "text/plain": [
       "0           25.0\n",
       "1           14.0\n",
       "2           24.0\n",
       "3           25.0\n",
       "4           15.0\n",
       "            ... \n",
       "15927480    12.0\n",
       "15927481    36.0\n",
       "15927482    29.0\n",
       "15927483    17.0\n",
       "15927484    10.0\n",
       "Name: taxi_out, Length: 15927485, dtype: float64"
      ]
     },
     "execution_count": 95,
     "metadata": {},
     "output_type": "execute_result"
    }
   ],
   "source": [
    "# Taxi Out Time, in Minutes\n",
    "\n",
    "flights_df['taxi_out']"
   ]
  },
  {
   "cell_type": "code",
   "execution_count": 100,
   "metadata": {},
   "outputs": [
    {
     "data": {
      "text/plain": [
       "0             6.0\n",
       "1            39.0\n",
       "2           -17.0\n",
       "3            18.0\n",
       "4           -10.0\n",
       "            ...  \n",
       "15927480    -16.0\n",
       "15927481     24.0\n",
       "15927482    -26.0\n",
       "15927483    -13.0\n",
       "15927484    185.0\n",
       "Name: arr_delay, Length: 15927485, dtype: float64"
      ]
     },
     "execution_count": 100,
     "metadata": {},
     "output_type": "execute_result"
    }
   ],
   "source": [
    "# Difference in MINUTES between scheduled and actual arrival time. Early arrivals show negative numbers.\n",
    "\n",
    "flights_df['arr_delay']"
   ]
  },
  {
   "cell_type": "code",
   "execution_count": 103,
   "metadata": {},
   "outputs": [
    {
     "data": {
      "text/plain": [
       "0    15658277\n",
       "1      269208\n",
       "Name: cancelled, dtype: int64"
      ]
     },
     "execution_count": 103,
     "metadata": {},
     "output_type": "execute_result"
    }
   ],
   "source": [
    "# Imbalence in the data, Can use SMOTE to rebalance and test\n",
    "\n",
    "flights_df['cancelled'].value_counts()"
   ]
  },
  {
   "cell_type": "code",
   "execution_count": 106,
   "metadata": {},
   "outputs": [
    {
     "data": {
      "text/plain": [
       "0    15887546\n",
       "1       39939\n",
       "Name: diverted, dtype: int64"
      ]
     },
     "execution_count": 106,
     "metadata": {},
     "output_type": "execute_result"
    }
   ],
   "source": [
    "# Diverted Flight Indicator (1=Yes)\n",
    "\n",
    "flights_df['diverted'].value_counts()"
   ]
  },
  {
   "cell_type": "code",
   "execution_count": 108,
   "metadata": {},
   "outputs": [
    {
     "data": {
      "text/plain": [
       "0            90.0\n",
       "1           343.0\n",
       "2           297.0\n",
       "3            73.0\n",
       "4           131.0\n",
       "            ...  \n",
       "15927480    143.0\n",
       "15927481    162.0\n",
       "15927482    149.0\n",
       "15927483     91.0\n",
       "15927484    122.0\n",
       "Name: air_time, Length: 15927485, dtype: float64"
      ]
     },
     "execution_count": 108,
     "metadata": {},
     "output_type": "execute_result"
    }
   ],
   "source": [
    "#  Flight Time, in Minutes\n",
    "\n",
    "flights_df['air_time']"
   ]
  },
  {
   "cell_type": "code",
   "execution_count": 109,
   "metadata": {},
   "outputs": [
    {
     "data": {
      "text/plain": [
       "0           121.0\n",
       "1           365.0\n",
       "2           335.0\n",
       "3           105.0\n",
       "4           155.0\n",
       "            ...  \n",
       "15927480    166.0\n",
       "15927481    205.0\n",
       "15927482    182.0\n",
       "15927483    112.0\n",
       "15927484    137.0\n",
       "Name: actual_elapsed_time, Length: 15927485, dtype: float64"
      ]
     },
     "execution_count": 109,
     "metadata": {},
     "output_type": "execute_result"
    }
   ],
   "source": [
    "flights_df['actual_elapsed_time']"
   ]
  },
  {
   "cell_type": "code",
   "execution_count": 110,
   "metadata": {},
   "outputs": [
    {
     "data": {
      "text/plain": [
       "0           115.0\n",
       "1           379.0\n",
       "2           343.0\n",
       "3           106.0\n",
       "4           162.0\n",
       "            ...  \n",
       "15927480    181.0\n",
       "15927481    190.0\n",
       "15927482    197.0\n",
       "15927483    136.0\n",
       "15927484    169.0\n",
       "Name: crs_elapsed_time, Length: 15927485, dtype: float64"
      ]
     },
     "execution_count": 110,
     "metadata": {},
     "output_type": "execute_result"
    }
   ],
   "source": [
    "flights_df['crs_elapsed_time']"
   ]
  },
  {
   "cell_type": "markdown",
   "metadata": {},
   "source": [
    "# Actual Data Cleaning"
   ]
  },
  {
   "cell_type": "markdown",
   "metadata": {},
   "source": [
    "#### Check if any rows contains ALL NaN values"
   ]
  },
  {
   "cell_type": "code",
   "execution_count": 23,
   "metadata": {},
   "outputs": [
    {
     "data": {
      "text/html": [
       "<div>\n",
       "<style scoped>\n",
       "    .dataframe tbody tr th:only-of-type {\n",
       "        vertical-align: middle;\n",
       "    }\n",
       "\n",
       "    .dataframe tbody tr th {\n",
       "        vertical-align: top;\n",
       "    }\n",
       "\n",
       "    .dataframe thead th {\n",
       "        text-align: right;\n",
       "    }\n",
       "</style>\n",
       "<table border=\"1\" class=\"dataframe\">\n",
       "  <thead>\n",
       "    <tr style=\"text-align: right;\">\n",
       "      <th></th>\n",
       "      <th>fl_date</th>\n",
       "      <th>mkt_unique_carrier</th>\n",
       "      <th>branded_code_share</th>\n",
       "      <th>mkt_carrier</th>\n",
       "      <th>mkt_carrier_fl_num</th>\n",
       "      <th>op_unique_carrier</th>\n",
       "      <th>tail_num</th>\n",
       "      <th>op_carrier_fl_num</th>\n",
       "      <th>origin_airport_id</th>\n",
       "      <th>origin</th>\n",
       "      <th>...</th>\n",
       "      <th>distance</th>\n",
       "      <th>carrier_delay</th>\n",
       "      <th>weather_delay</th>\n",
       "      <th>nas_delay</th>\n",
       "      <th>security_delay</th>\n",
       "      <th>late_aircraft_delay</th>\n",
       "      <th>first_dep_time</th>\n",
       "      <th>total_add_gtime</th>\n",
       "      <th>longest_add_gtime</th>\n",
       "      <th>no_name</th>\n",
       "    </tr>\n",
       "  </thead>\n",
       "  <tbody>\n",
       "  </tbody>\n",
       "</table>\n",
       "<p>0 rows × 42 columns</p>\n",
       "</div>"
      ],
      "text/plain": [
       "Empty DataFrame\n",
       "Columns: [fl_date, mkt_unique_carrier, branded_code_share, mkt_carrier, mkt_carrier_fl_num, op_unique_carrier, tail_num, op_carrier_fl_num, origin_airport_id, origin, origin_city_name, dest_airport_id, dest, dest_city_name, crs_dep_time, dep_time, dep_delay, taxi_out, wheels_off, wheels_on, taxi_in, crs_arr_time, arr_time, arr_delay, cancelled, cancellation_code, diverted, dup, crs_elapsed_time, actual_elapsed_time, air_time, flights, distance, carrier_delay, weather_delay, nas_delay, security_delay, late_aircraft_delay, first_dep_time, total_add_gtime, longest_add_gtime, no_name]\n",
       "Index: []\n",
       "\n",
       "[0 rows x 42 columns]"
      ]
     },
     "execution_count": 23,
     "metadata": {},
     "output_type": "execute_result"
    }
   ],
   "source": [
    "flights_df.loc[flights_df.isna().all(1)]"
   ]
  },
  {
   "cell_type": "markdown",
   "metadata": {},
   "source": [
    "#### Check if column contains >40% missing values, drop that column \n",
    "\n",
    "Also checking to ensure the column to be dropped is NOT within our flights_test evaluation dataframe"
   ]
  },
  {
   "cell_type": "code",
   "execution_count": 25,
   "metadata": {},
   "outputs": [],
   "source": [
    "flights_test = pd.read_csv('./data/flights_test.csv')\n",
    "\n",
    "flights_test_cols = flights_test.columns"
   ]
  },
  {
   "cell_type": "code",
   "execution_count": 26,
   "metadata": {},
   "outputs": [
    {
     "data": {
      "text/plain": [
       "(15927485, 42)"
      ]
     },
     "execution_count": 26,
     "metadata": {},
     "output_type": "execute_result"
    }
   ],
   "source": [
    "flights_df.shape"
   ]
  },
  {
   "cell_type": "code",
   "execution_count": 27,
   "metadata": {},
   "outputs": [
    {
     "name": "stdout",
     "output_type": "stream",
     "text": [
      "Column dropped:  cancellation_code\n",
      "Column dropped:  carrier_delay\n",
      "Column dropped:  weather_delay\n",
      "Column dropped:  nas_delay\n",
      "Column dropped:  security_delay\n",
      "Column dropped:  late_aircraft_delay\n",
      "Column dropped:  first_dep_time\n",
      "Column dropped:  total_add_gtime\n",
      "Column dropped:  longest_add_gtime\n",
      "Column dropped:  no_name\n",
      "Number of columns dropped:  10\n"
     ]
    }
   ],
   "source": [
    "# Dropping all columns if they have >40% missing values and those columns are in flights_test_cols (we need them for ML)\n",
    "\n",
    "total_rows = flights_df.shape[0] # 15927485\n",
    "threshold_col_num = total_rows*0.4 # 6370994\n",
    "\n",
    "# Therefore if a columns NaN values are >6370994 then DROP that column\n",
    "\n",
    "# From counting should drop 10 columns, therefore end with 32 columns at the end\n",
    "count = 0\n",
    "for col in flights_df.columns:\n",
    "    if col not in flights_test_cols:\n",
    "        total_na = flights_df[col].isna().sum()\n",
    "        if total_na > threshold_col_num:\n",
    "            flights_df.drop(col, axis=1, inplace=True)\n",
    "            print('Column dropped: ', col)\n",
    "            count += 1\n",
    "            \n",
    "            \n",
    "print('Number of columns dropped: ', count)"
   ]
  },
  {
   "cell_type": "code",
   "execution_count": 28,
   "metadata": {},
   "outputs": [
    {
     "data": {
      "text/plain": [
       "(15927485, 32)"
      ]
     },
     "execution_count": 28,
     "metadata": {},
     "output_type": "execute_result"
    }
   ],
   "source": [
    "# Should have 32 columns\n",
    "flights_df.shape"
   ]
  },
  {
   "cell_type": "markdown",
   "metadata": {},
   "source": [
    "#### Dropping mkt_unique_code_carrier columns because mkt_carrier contains exact same value within same row"
   ]
  },
  {
   "cell_type": "code",
   "execution_count": 29,
   "metadata": {},
   "outputs": [
    {
     "data": {
      "text/plain": [
       "(15927485, 31)"
      ]
     },
     "execution_count": 29,
     "metadata": {},
     "output_type": "execute_result"
    }
   ],
   "source": [
    "# Should have 31 columns afterwards \n",
    "flights_df.drop('mkt_unique_carrier', axis=1, inplace=True)\n",
    "\n",
    "flights_df.shape"
   ]
  },
  {
   "cell_type": "markdown",
   "metadata": {},
   "source": [
    "#### Dropping 'dup' column, only contains 1 value across entire column"
   ]
  },
  {
   "cell_type": "code",
   "execution_count": 30,
   "metadata": {},
   "outputs": [
    {
     "data": {
      "text/plain": [
       "(15927485, 30)"
      ]
     },
     "execution_count": 30,
     "metadata": {},
     "output_type": "execute_result"
    }
   ],
   "source": [
    "# Should only have 30 columnes afterwards\n",
    "\n",
    "flights_df.drop('dup', axis=1, inplace=True)\n",
    "\n",
    "flights_df.shape"
   ]
  },
  {
   "cell_type": "code",
   "execution_count": 4,
   "metadata": {
    "collapsed": true
   },
   "outputs": [
    {
     "ename": "NameError",
     "evalue": "name 'flights_df' is not defined",
     "output_type": "error",
     "traceback": [
      "\u001b[1;31m---------------------------------------------------------------------------\u001b[0m",
      "\u001b[1;31mNameError\u001b[0m                                 Traceback (most recent call last)",
      "\u001b[1;32m<ipython-input-4-1b0ad369557e>\u001b[0m in \u001b[0;36m<module>\u001b[1;34m\u001b[0m\n\u001b[0;32m      1\u001b[0m \u001b[1;31m# Save csv file\u001b[0m\u001b[1;33m\u001b[0m\u001b[1;33m\u001b[0m\u001b[1;33m\u001b[0m\u001b[0m\n\u001b[0;32m      2\u001b[0m \u001b[1;33m\u001b[0m\u001b[0m\n\u001b[1;32m----> 3\u001b[1;33m \u001b[0mflights_df\u001b[0m\u001b[1;33m.\u001b[0m\u001b[0mto_csv\u001b[0m\u001b[1;33m(\u001b[0m\u001b[1;34m'./data/flights_df_cleaned.csv'\u001b[0m\u001b[1;33m)\u001b[0m\u001b[1;33m\u001b[0m\u001b[1;33m\u001b[0m\u001b[0m\n\u001b[0m",
      "\u001b[1;31mNameError\u001b[0m: name 'flights_df' is not defined"
     ]
    }
   ],
   "source": [
    "# Save csv file \n",
    "\n",
    "# flights_df.to_csv('./data/flights_df_cleaned.csv', index=False)"
   ]
  },
  {
   "cell_type": "code",
   "execution_count": 63,
   "metadata": {},
   "outputs": [
    {
     "name": "stderr",
     "output_type": "stream",
     "text": [
      "C:\\Users\\Jesse\\Anaconda3\\lib\\site-packages\\numpy\\lib\\arraysetops.py:569: FutureWarning: elementwise comparison failed; returning scalar instead, but in the future will perform elementwise comparison\n",
      "  mask |= (ar1 == a)\n"
     ]
    },
    {
     "data": {
      "text/html": [
       "<div>\n",
       "<style scoped>\n",
       "    .dataframe tbody tr th:only-of-type {\n",
       "        vertical-align: middle;\n",
       "    }\n",
       "\n",
       "    .dataframe tbody tr th {\n",
       "        vertical-align: top;\n",
       "    }\n",
       "\n",
       "    .dataframe thead th {\n",
       "        text-align: right;\n",
       "    }\n",
       "</style>\n",
       "<table border=\"1\" class=\"dataframe\">\n",
       "  <thead>\n",
       "    <tr style=\"text-align: right;\">\n",
       "      <th></th>\n",
       "      <th>fl_date</th>\n",
       "      <th>branded_code_share</th>\n",
       "      <th>mkt_carrier</th>\n",
       "      <th>mkt_carrier_fl_num</th>\n",
       "      <th>op_unique_carrier</th>\n",
       "      <th>tail_num</th>\n",
       "      <th>op_carrier_fl_num</th>\n",
       "      <th>origin_airport_id</th>\n",
       "      <th>origin</th>\n",
       "      <th>origin_city_name</th>\n",
       "      <th>...</th>\n",
       "      <th>crs_arr_time</th>\n",
       "      <th>arr_time</th>\n",
       "      <th>arr_delay</th>\n",
       "      <th>cancelled</th>\n",
       "      <th>diverted</th>\n",
       "      <th>crs_elapsed_time</th>\n",
       "      <th>actual_elapsed_time</th>\n",
       "      <th>air_time</th>\n",
       "      <th>flights</th>\n",
       "      <th>distance</th>\n",
       "    </tr>\n",
       "  </thead>\n",
       "  <tbody>\n",
       "    <tr>\n",
       "      <th>0</th>\n",
       "      <td>2019-08-22</td>\n",
       "      <td>B6</td>\n",
       "      <td>B6</td>\n",
       "      <td>984</td>\n",
       "      <td>B6</td>\n",
       "      <td>N281JB</td>\n",
       "      <td>984</td>\n",
       "      <td>14492</td>\n",
       "      <td>RDU</td>\n",
       "      <td>Raleigh/Durham, NC</td>\n",
       "      <td>...</td>\n",
       "      <td>1656</td>\n",
       "      <td>1702.0</td>\n",
       "      <td>6.0</td>\n",
       "      <td>0</td>\n",
       "      <td>0</td>\n",
       "      <td>115.0</td>\n",
       "      <td>121.0</td>\n",
       "      <td>90.0</td>\n",
       "      <td>1</td>\n",
       "      <td>612</td>\n",
       "    </tr>\n",
       "    <tr>\n",
       "      <th>1</th>\n",
       "      <td>2019-08-22</td>\n",
       "      <td>B6</td>\n",
       "      <td>B6</td>\n",
       "      <td>987</td>\n",
       "      <td>B6</td>\n",
       "      <td>N978JB</td>\n",
       "      <td>987</td>\n",
       "      <td>10721</td>\n",
       "      <td>BOS</td>\n",
       "      <td>Boston, MA</td>\n",
       "      <td>...</td>\n",
       "      <td>109</td>\n",
       "      <td>148.0</td>\n",
       "      <td>39.0</td>\n",
       "      <td>0</td>\n",
       "      <td>0</td>\n",
       "      <td>379.0</td>\n",
       "      <td>365.0</td>\n",
       "      <td>343.0</td>\n",
       "      <td>1</td>\n",
       "      <td>2611</td>\n",
       "    </tr>\n",
       "    <tr>\n",
       "      <th>2</th>\n",
       "      <td>2019-08-22</td>\n",
       "      <td>B6</td>\n",
       "      <td>B6</td>\n",
       "      <td>988</td>\n",
       "      <td>B6</td>\n",
       "      <td>N983JT</td>\n",
       "      <td>988</td>\n",
       "      <td>12892</td>\n",
       "      <td>LAX</td>\n",
       "      <td>Los Angeles, CA</td>\n",
       "      <td>...</td>\n",
       "      <td>833</td>\n",
       "      <td>816.0</td>\n",
       "      <td>-17.0</td>\n",
       "      <td>0</td>\n",
       "      <td>0</td>\n",
       "      <td>343.0</td>\n",
       "      <td>335.0</td>\n",
       "      <td>297.0</td>\n",
       "      <td>1</td>\n",
       "      <td>2611</td>\n",
       "    </tr>\n",
       "    <tr>\n",
       "      <th>3</th>\n",
       "      <td>2019-08-22</td>\n",
       "      <td>B6</td>\n",
       "      <td>B6</td>\n",
       "      <td>989</td>\n",
       "      <td>B6</td>\n",
       "      <td>N339JB</td>\n",
       "      <td>989</td>\n",
       "      <td>10721</td>\n",
       "      <td>BOS</td>\n",
       "      <td>Boston, MA</td>\n",
       "      <td>...</td>\n",
       "      <td>2000</td>\n",
       "      <td>2018.0</td>\n",
       "      <td>18.0</td>\n",
       "      <td>0</td>\n",
       "      <td>0</td>\n",
       "      <td>106.0</td>\n",
       "      <td>105.0</td>\n",
       "      <td>73.0</td>\n",
       "      <td>1</td>\n",
       "      <td>399</td>\n",
       "    </tr>\n",
       "    <tr>\n",
       "      <th>4</th>\n",
       "      <td>2019-08-22</td>\n",
       "      <td>B6</td>\n",
       "      <td>B6</td>\n",
       "      <td>990</td>\n",
       "      <td>B6</td>\n",
       "      <td>N583JB</td>\n",
       "      <td>990</td>\n",
       "      <td>13204</td>\n",
       "      <td>MCO</td>\n",
       "      <td>Orlando, FL</td>\n",
       "      <td>...</td>\n",
       "      <td>900</td>\n",
       "      <td>850.0</td>\n",
       "      <td>-10.0</td>\n",
       "      <td>0</td>\n",
       "      <td>0</td>\n",
       "      <td>162.0</td>\n",
       "      <td>155.0</td>\n",
       "      <td>131.0</td>\n",
       "      <td>1</td>\n",
       "      <td>944</td>\n",
       "    </tr>\n",
       "  </tbody>\n",
       "</table>\n",
       "<p>5 rows × 30 columns</p>\n",
       "</div>"
      ],
      "text/plain": [
       "      fl_date branded_code_share mkt_carrier  mkt_carrier_fl_num  \\\n",
       "0  2019-08-22                 B6          B6                 984   \n",
       "1  2019-08-22                 B6          B6                 987   \n",
       "2  2019-08-22                 B6          B6                 988   \n",
       "3  2019-08-22                 B6          B6                 989   \n",
       "4  2019-08-22                 B6          B6                 990   \n",
       "\n",
       "  op_unique_carrier tail_num  op_carrier_fl_num  origin_airport_id origin  \\\n",
       "0                B6   N281JB                984              14492    RDU   \n",
       "1                B6   N978JB                987              10721    BOS   \n",
       "2                B6   N983JT                988              12892    LAX   \n",
       "3                B6   N339JB                989              10721    BOS   \n",
       "4                B6   N583JB                990              13204    MCO   \n",
       "\n",
       "     origin_city_name  ...  crs_arr_time arr_time arr_delay  cancelled  \\\n",
       "0  Raleigh/Durham, NC  ...          1656   1702.0       6.0          0   \n",
       "1          Boston, MA  ...           109    148.0      39.0          0   \n",
       "2     Los Angeles, CA  ...           833    816.0     -17.0          0   \n",
       "3          Boston, MA  ...          2000   2018.0      18.0          0   \n",
       "4         Orlando, FL  ...           900    850.0     -10.0          0   \n",
       "\n",
       "   diverted  crs_elapsed_time  actual_elapsed_time  air_time  flights  \\\n",
       "0         0             115.0                121.0      90.0        1   \n",
       "1         0             379.0                365.0     343.0        1   \n",
       "2         0             343.0                335.0     297.0        1   \n",
       "3         0             106.0                105.0      73.0        1   \n",
       "4         0             162.0                155.0     131.0        1   \n",
       "\n",
       "   distance  \n",
       "0       612  \n",
       "1      2611  \n",
       "2      2611  \n",
       "3       399  \n",
       "4       944  \n",
       "\n",
       "[5 rows x 30 columns]"
      ]
     },
     "execution_count": 63,
     "metadata": {},
     "output_type": "execute_result"
    }
   ],
   "source": [
    "flights_df = pd.read_csv('./data/flights_df_cleaned.csv', index_col=0)\n",
    "\n",
    "flights_df.head()"
   ]
  },
  {
   "cell_type": "markdown",
   "metadata": {},
   "source": [
    "#### Converting certain columns to datetime"
   ]
  },
  {
   "cell_type": "markdown",
   "metadata": {},
   "source": [
    "convert to datetime (hhmm)\n",
    "\n",
    "- crs_dep_time \n",
    "- dep_time\n",
    "- crs_arr_time \n",
    "- arr_time \n",
    "- wheels_off \n",
    "- wheels_on"
   ]
  },
  {
   "cell_type": "code",
   "execution_count": 31,
   "metadata": {},
   "outputs": [
    {
     "data": {
      "text/plain": [
       "crs_dep_time      int64\n",
       "dep_time        float64\n",
       "crs_arr_time      int64\n",
       "arr_time        float64\n",
       "wheels_off      float64\n",
       "wheels_on       float64\n",
       "dtype: object"
      ]
     },
     "execution_count": 31,
     "metadata": {},
     "output_type": "execute_result"
    }
   ],
   "source": [
    "cols = ['crs_dep_time', 'dep_time', 'crs_arr_time', 'arr_time', 'wheels_off', 'wheels_on']\n",
    "\n",
    "flights_df.loc[:, cols].dtypes"
   ]
  },
  {
   "cell_type": "code",
   "execution_count": 33,
   "metadata": {},
   "outputs": [],
   "source": [
    "def convert_time_to_string(x):\n",
    "    if np.isnan(x):\n",
    "        return '00:00'\n",
    "    \n",
    "    if x == 2400:\n",
    "        return '23:59'\n",
    "    \n",
    "    string = str(int(x))\n",
    "    \n",
    "    if len(string) < 4:\n",
    "        for _ in range(4-len(string)):\n",
    "            string = '0' + string\n",
    "    \n",
    "    return string[:2] + ':' + string[2:]"
   ]
  },
  {
   "cell_type": "code",
   "execution_count": 34,
   "metadata": {},
   "outputs": [
    {
     "data": {
      "text/plain": [
       "'00:01'"
      ]
     },
     "execution_count": 34,
     "metadata": {},
     "output_type": "execute_result"
    }
   ],
   "source": [
    "# example\n",
    "convert_time_to_string(1)"
   ]
  },
  {
   "cell_type": "code",
   "execution_count": 35,
   "metadata": {},
   "outputs": [],
   "source": [
    "# Filling NaN values with '00:00' and converting ints/floats (hhmm) with datetime objects\n",
    "\n",
    "flights_df['crs_dep_time'] = flights_df['crs_dep_time'].apply(lambda x: convert_time_to_string(x))\n",
    "flights_df['crs_dep_time'] = pd.to_datetime(flights_df['crs_dep_time'], format = '%H:%M')\n",
    "\n",
    "flights_df['dep_time'] = flights_df['dep_time'].apply(lambda x: convert_time_to_string(x))\n",
    "flights_df['dep_time'] = pd.to_datetime(flights_df['dep_time'], format = '%H:%M')\n",
    "\n",
    "flights_df['crs_arr_time'] = flights_df['crs_arr_time'].apply(lambda x: convert_time_to_string(x))\n",
    "flights_df['crs_arr_time'] = pd.to_datetime(flights_df['crs_arr_time'], format = '%H:%M')\n",
    "\n",
    "flights_df['arr_time'] = flights_df['arr_time'].apply(lambda x: convert_time_to_string(x))\n",
    "flights_df['arr_time'] = pd.to_datetime(flights_df['arr_time'], format = '%H:%M')\n",
    "\n",
    "flights_df['wheels_off'] = flights_df['wheels_off'].apply(lambda x: convert_time_to_string(x))\n",
    "flights_df['wheels_off'] = pd.to_datetime(flights_df['wheels_off'], format = '%H:%M')\n",
    "\n",
    "flights_df['wheels_on'] = flights_df['wheels_on'].apply(lambda x: convert_time_to_string(x))\n",
    "flights_df['wheels_on'] = pd.to_datetime(flights_df['wheels_on'], format = '%H:%M')"
   ]
  },
  {
   "cell_type": "code",
   "execution_count": 36,
   "metadata": {},
   "outputs": [
    {
     "data": {
      "text/plain": [
       "crs_dep_time    0\n",
       "dep_time        0\n",
       "crs_arr_time    0\n",
       "arr_time        0\n",
       "wheels_off      0\n",
       "wheels_on       0\n",
       "dtype: int64"
      ]
     },
     "execution_count": 36,
     "metadata": {},
     "output_type": "execute_result"
    }
   ],
   "source": [
    "flights_df.loc[:, cols].isna().sum()"
   ]
  },
  {
   "cell_type": "code",
   "execution_count": 37,
   "metadata": {},
   "outputs": [
    {
     "data": {
      "text/plain": [
       "crs_dep_time    datetime64[ns]\n",
       "dep_time        datetime64[ns]\n",
       "crs_arr_time    datetime64[ns]\n",
       "arr_time        datetime64[ns]\n",
       "wheels_off      datetime64[ns]\n",
       "wheels_on       datetime64[ns]\n",
       "dtype: object"
      ]
     },
     "execution_count": 37,
     "metadata": {},
     "output_type": "execute_result"
    }
   ],
   "source": [
    "flights_df[cols].dtypes"
   ]
  },
  {
   "cell_type": "code",
   "execution_count": 38,
   "metadata": {},
   "outputs": [],
   "source": [
    "# Save csv file \n",
    "\n",
    "# flights_df.to_csv('./data/flights_df_cleaned.csv', index=False)"
   ]
  },
  {
   "cell_type": "code",
   "execution_count": null,
   "metadata": {},
   "outputs": [],
   "source": [
    "# flights_df = pd.read_csv('./data/flights_df_cleaned.csv')"
   ]
  },
  {
   "cell_type": "markdown",
   "metadata": {},
   "source": [
    "### Things do to:\n",
    "\n",
    "- <s>check for missing values drop columns with greater then 40% missing values </s>\n",
    "- <s>drop mkt_unique_carrier because mkt_carrier contains the exact same value</s>\n",
    "- <s>drop cancellation_code (>40% missing) and dup (same value) </s> Update: No missing values for 'Cancelled', but dropped dup because only 1 unique value\n",
    "- <s>crs_dep_time, dep_time, crs_arr_time, arr_time, wheels_off, wheels_on, crs_arr_time, arr_time convert to datetime (hhmm)</s> Update: Missing values were filled with '00:00' \n",
    "- fl_date parse to datetime (yyyy-mm-dd)\n",
    "- Fill tail_num column with -1\n",
    "- Drop all rows with missing values in crs_elapsed_time (Regression label)\n",
    "- Create new column for Multiclassification Whether it is a departal delay or a arrival delay"
   ]
  },
  {
   "cell_type": "code",
   "execution_count": 46,
   "metadata": {},
   "outputs": [],
   "source": [
    "flights_df = pd.read_csv('./data/flights_df_cleaned.csv')"
   ]
  },
  {
   "cell_type": "markdown",
   "metadata": {},
   "source": [
    "#### Convert fl_date column to datetime"
   ]
  },
  {
   "cell_type": "code",
   "execution_count": 47,
   "metadata": {},
   "outputs": [
    {
     "data": {
      "text/plain": [
       "'2019-08-22'"
      ]
     },
     "execution_count": 47,
     "metadata": {},
     "output_type": "execute_result"
    }
   ],
   "source": [
    "flights_df['fl_date'][0]"
   ]
  },
  {
   "cell_type": "code",
   "execution_count": 48,
   "metadata": {},
   "outputs": [],
   "source": [
    "flights_df['fl_date'] = pd.to_datetime(flights_df['fl_date'], format='%Y-%m-%d')"
   ]
  },
  {
   "cell_type": "code",
   "execution_count": 49,
   "metadata": {},
   "outputs": [
    {
     "data": {
      "text/plain": [
       "dtype('<M8[ns]')"
      ]
     },
     "execution_count": 49,
     "metadata": {},
     "output_type": "execute_result"
    }
   ],
   "source": [
    "flights_df['fl_date'].dtype"
   ]
  },
  {
   "cell_type": "markdown",
   "metadata": {},
   "source": [
    "#### Fill missing tail_num with 0"
   ]
  },
  {
   "cell_type": "code",
   "execution_count": 53,
   "metadata": {},
   "outputs": [
    {
     "data": {
      "text/plain": [
       "49269"
      ]
     },
     "execution_count": 53,
     "metadata": {},
     "output_type": "execute_result"
    }
   ],
   "source": [
    "flights_df['tail_num'].isna().sum()"
   ]
  },
  {
   "cell_type": "code",
   "execution_count": 57,
   "metadata": {},
   "outputs": [],
   "source": [
    "flights_df['tail_num'].fillna(0, inplace=True)"
   ]
  },
  {
   "cell_type": "code",
   "execution_count": 58,
   "metadata": {},
   "outputs": [
    {
     "data": {
      "text/plain": [
       "0"
      ]
     },
     "execution_count": 58,
     "metadata": {},
     "output_type": "execute_result"
    }
   ],
   "source": [
    "flights_df['tail_num'].isna().sum()"
   ]
  }
 ],
 "metadata": {
  "kernelspec": {
   "display_name": "Python 3",
   "language": "python",
   "name": "python3"
  },
  "language_info": {
   "codemirror_mode": {
    "name": "ipython",
    "version": 3
   },
   "file_extension": ".py",
   "mimetype": "text/x-python",
   "name": "python",
   "nbconvert_exporter": "python",
   "pygments_lexer": "ipython3",
   "version": "3.7.4"
  }
 },
 "nbformat": 4,
 "nbformat_minor": 2
}
