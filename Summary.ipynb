{
 "cells": [
  {
   "cell_type": "markdown",
   "metadata": {},
   "source": [
    "# Key Summary by Tasks"
   ]
  },
  {
   "cell_type": "markdown",
   "metadata": {},
   "source": [
    "## Task 1 - Testing delays from normal distribution DONE\n",
    "\n",
    "Departure Delay: After removing outliers using IQR found that the mean and median did not equal eachother. Plotting the departure delay on a histogram showed a right skewness of the distribution. Running a Shapiro Wilks test for normal distribution using 1000 randomly sampled produced a very small p-value. Therefore we Reject the null hypothesis that the sample came from a normal distribution.\n",
    "\n",
    "Arrival Delay: Same findings. Removed outliers using IQR. Mean and Median did not equal. Plotting a histrogram showed a right skew of the distribution. The shapiro wilks test running on 1000 randomly chosen samples produced a small p-value. Therefore we reject the null hpothesis that the sample came from normal distribution\n",
    "\n"
   ]
  },
  {
   "cell_type": "markdown",
   "metadata": {},
   "source": [
    "## Task 2 - Is average/median monthly delay different during the year? If yes, which are months with the biggest delays and what could be the reason? DONE\n",
    "\n",
    "- Avg Departure Delay: \n",
    "    - 2018: 10.15 minutes\n",
    "    - 2019: 10.92 minutes\n",
    "- Avg Arrival Delay:\n",
    "    - 2018: 5.27 minutes\n",
    "    - 2019: 5.67\n",
    "    \n",
    "- Months with highest DEPARTURE Delay\n",
    "    - 2019: June, July, August, December\n",
    "    - 2018: August, July June, May\n",
    "    - Overall: June, July, August, May\n",
    "    \n",
    "- Months with highest ARRIVAL Delay\n",
    "    - 2019: June, Febuary, July, August\n",
    "    - 2018: August, July, June, Febuary\n",
    "    - Overall: June, July, August, Febuary\n",
    "\n",
    "- Heatmap Shows higher Correlation with Arrival and Departure Delay times.\n",
    "\n",
    "#### Conclusion: Busiest Times to Travel are the Summer months incl December and Febuary. This is due to national holidays, late spring breaks and semester changes. More Airline Traffic means more delays. Best times to travel to avoid delays are September to November."
   ]
  },
  {
   "cell_type": "markdown",
   "metadata": {},
   "source": [
    "## **Task 3**: Does the weather affect the delay? DONE\n",
    "\n",
    "- Used sample size formula to derive a good sample size using 95% confidence, a STD of 0.5 and a margin of error of 0.5.\n",
    "https://www.qualtrics.com/experience-management/research/determine-sample-size/ Showed we need a sampe size of at least 385\n",
    "\n",
    "- Used Darksky API and got weather for 593\n",
    "- Used One way ANOVA test to test all 4 different weather to see if they come from same distribution. p-value 0.07, evidence wasnt strong enought to reject the null hypothesis. meaning we accept the null hypothesis. All delays from different types of weathers come from the same distribution..\n",
    "\n",
    "- Inuitivly this doesnt make sense. Would need a better API to gather a larger and more balenced data set of weathers and retest."
   ]
  },
  {
   "cell_type": "markdown",
   "metadata": {},
   "source": [
    "## **Task 4**: How taxi times changing during the day? Does higher traffic lead to bigger taxi times? weather affect the delay? DONE\n",
    "\n",
    "- As Flights increase throughout the day so do Taxi times, Note that Taxi Out times are much larger then Taxi in times.\n",
    "- The longest taxi-out times occur during the 8 to 10 a.m. and 4 to 9 p.m.  shortest taxi-outs are during the overnight hours when the number of flights is minimal\n",
    "- Longer taxi out times then taxi in times.\n",
    "- Most busier airport try to schedule departures within a compressed time period, Causing increased wait time for runway availability, increased taxi times"
   ]
  },
  {
   "cell_type": "markdown",
   "metadata": {},
   "source": [
    "## **Task 5**: What is the average percentage of delays that is already created before departure? (aka are arrival delays caused by departure delays?) Are airlines able to lower the delay during the flights? DONE\n",
    "\n",
    "- Avg % of delays that occured before departure that also resulted to an arrival delay:  25.0 %\n",
    "\n",
    "- Avg % of airlines that lowered their arrival delay during flight:  71.0 %\n",
    "\n",
    "- Avg % of arrival delays that are directly due to depature delay:  1.0 %\n",
    "\n",
    "- Avg % where delay is caused during flight:  26.0 %\n",
    "\n",
    "- Avg % where delay soley caused after departure:  17.0 %\n",
    "\n",
    "\n",
    "\n",
    "- Using Bayes theorom \n",
    "\n",
    "probability(arrival delay | depature delay) = p(depature delay | arrival delay)* p(arrival delay)/p (departure delay)\n",
    "\n",
    "Probability of arrival delay given departure delay:  0.7338673797318594\n",
    "\n",
    "#### Conclusion\n",
    "We can greatly reduce the rates of arrival delay by lowering the departure delay"
   ]
  },
  {
   "cell_type": "markdown",
   "metadata": {},
   "source": [
    "## **Task 6**: How many states cover 50% of US air traffic? NOT GONNA DO\n",
    "\n",
    "\n",
    "Top 8 states: \n",
    "1. California\n",
    "2. Texas\n",
    "3. Florida\n",
    "4. Illinois\n",
    "5. Georgia\n",
    "6. New York\n",
    "7. North Carolina\n",
    "8. Colorado"
   ]
  },
  {
   "cell_type": "markdown",
   "metadata": {},
   "source": [
    "## **Task 7**: Test the hypothesis whether planes fly faster when there is the departure delay? DONE\n",
    "\n",
    "\n",
    "- Got all the flights with delay > 0\n",
    "- Got all flights\n",
    "- Removed outliers\n",
    "- Preformed T test using a random sample of 1000 random sample\n",
    "- P value was lower 0.05, therefore we reject the null hypothesis\n",
    "- The mean of flight speeds when there is a delay is different then the mean of flight speeds where there is no delay. They come from to separate distributions."
   ]
  },
  {
   "cell_type": "markdown",
   "metadata": {},
   "source": [
    "## **Task 8**: When (which hour) do most 'LONG', 'SHORT', 'MEDIUM' haul flights take off? DONE\n",
    "DONE\n",
    "- Short Haul flights Increase in frequency from 5am and peak at 6 am and remain steay till 5pm and from there steadily decrease\n",
    "\n",
    "- Medium Haul flights increase in frequency from 5am and peak at 7am and steadily decline thereafter\n",
    "\n",
    "- Long Haul flights increase from 5am to 11 am then dip to low levels from 12pm - 2pm and increase and peak again at 5pm and slowly decrease thereafter\n",
    "\n",
    "\"It is worth noting that long-haul aircraft fly faster than short-haul jets, which are more concerned with quick and efficient ascent and descent.\"\n",
    "\n"
   ]
  },
  {
   "cell_type": "markdown",
   "metadata": {},
   "source": [
    "## **Task 9**: Find the top 10 the bussiest airports. Does the biggest number of flights mean that the biggest number of passengers went through the particular airport? How much traffic do these 10 airports cover?\n",
    "\n",
    "\n",
    "- Top 10 Busiest airports by Flight Numbers Origin and Destination:\n",
    "ORD, ATL, DFW, DEN, CLT, LAX, SFO, PHX, IAH\n",
    "\n",
    "- Top 10 busiest airports by Passengers Origin and Destination: \n",
    "ATL, LAX, ORD, DFW, DEN, JFK, SFO, LAS, SEA, CLT\n",
    "\n",
    "- Chicago O Hare Airpot is posed uniquly in the middle of the country which makes it able to serve so many more airline carriers and some of the medium and underserved markets.\n",
    "\n",
    "- Atlanta has a geographical advantage, in that it is an excellent transfer point/conneciton hub for customers trying to connect from the southern or western U.S. to the east coast or across the Atlantic. Also the hub for one of the largest airlines in North America: Delta Airlines passengers account for a high proportion of passenger traffic in Atlanta Airport.\n"
   ]
  },
  {
   "cell_type": "markdown",
   "metadata": {},
   "source": [
    "## **Task 10**: Do bigger delays lead to bigger fuel comsumption per passenger? \n",
    "\n",
    "- Generally no trend, but I could have made a mistake"
   ]
  },
  {
   "cell_type": "markdown",
   "metadata": {},
   "source": [
    "## 1 - General Analysis DONE\n",
    "\n",
    "\n",
    "- Mondays and Fridays are the busiest where as saturdays are quietest in terms of flight traffic\n",
    "\n",
    "- Heatmap"
   ]
  },
  {
   "cell_type": "markdown",
   "metadata": {},
   "source": [
    "## 2 - General Delays and Cancellations DONE\n",
    "\n",
    "- Departure/Arrival Rates > 20 minutes\n",
    "    - Rate of Departure Delays >20min increase from midnight to 3am\n",
    "    - Rate of Arrival Delays >20min increase from same time but not same levels\n",
    "\n",
    "- Delay Types: \n",
    "    - Most Frequent Type of Delays are a NAS delay, whereas the least frequent is security.\n",
    "    - Late Aircraft Delay has the longest average delay time in minutes\n",
    "\n",
    "- Cancellation\n",
    "    - Across all months generally Weather cancellations are the most frequent followed by Airline/carrier Delays\n",
    "    - Most cancellations happend in Febuary, March, april which were same time as sever storms\n",
    "    - \"Nearly 6,000 flights delayed, 1,400+ canceled across the US as severe weather moves east\"\n",
    "    - https://en.wikipedia.org/wiki/March_20%E2%80%9322,_2018_nor%27easter\n",
    "    "
   ]
  },
  {
   "cell_type": "markdown",
   "metadata": {},
   "source": [
    "## 3 - Analysis Between Airlines\n",
    "\n",
    "- AA, Delta Airlines and UA are biggest airlines in terms of flightcounts\n",
    "- Frontier, Jetblue SW have the largest delay rates of greater then 15>min. HA, Alaska Airlines are the lowest\n",
    "- Deparure and arrival delay rates are similar between both airlines\n",
    "\n",
    "- Frontier and Jetblue have longest mean delay times. Alaska and Hawiian. Airlines among the lowest delay times. Departure delays are longer then Arrival. We can greatly reduce Delays by addressing Departure\n",
    "\n",
    "\n",
    "- Cancellation\n",
    "    - Delta, Alska, Hawaiian Amongest the lowest Cancellation rates\n",
    "    - AA, United Air and Virgin airlines amongst the highest\n",
    "    - AA has the word. 2.4% of all flights were cancelled\n",
    "    \n",
    "- On time\n",
    "    - Departure: Hawaiian, Alaska and Delta Airlines had the highest on time departure rate. Southwest and Frontier Airlines amongst worst departure rates\n",
    "\n",
    "    - Arrival: Delta Airlines, Alaska Airlines, Sprit Airlines, Hawaiian Airlines have highest on time arrival rate. Frontier and Jetblue lowest ontime arrival rate\n",
    "    \n",
    "- Flight speeds\n",
    "    - Intersting, Frontier Airlines has the fastest mean flight speed, yet it has the lowest on time arrival rate\n",
    "    - follwed were frontier airlines and spirit airlines for highest speeds\n",
    "    - While Delta Airlines and Haiwiian the among the slowest mean speeds but had a higher ontime arrival rate\n",
    "    - AA was 2nd lowest flight speed\n",
    "    - Seems to be no correlation between flight speed and on time arrival rate\n",
    "    "
   ]
  },
  {
   "cell_type": "markdown",
   "metadata": {},
   "source": [
    "## 4 - Analysis Between Airports\n",
    "- Top Airports origin/destination vs Passengers: Atlanta, LAX, ORD, DFW, DEN\n",
    "- Neward Liberty airport, LaGuardia Airport, Ohare airport has the highest avg departure and arrival delay times\n",
    "    -  Atlanta and LAX one of the more busier airports but the most lowest arrival/departure delays\n",
    "- Departure/Arrival Delay Rates >15 minutes\n",
    "    - EWR, LGA, ORD and SFO had the highest rates of delay\n",
    "    - EWR had a delay rate greater then 25%\n",
    "    - for a large airport ATL, LAX has suprisingly low avg departure  and arrival rates times. As well as low rates of delay per flights\n",
    "    - DTW, MSP also have low departure, arrival rates\n",
    "    \n",
    " =============================\n",
    "    \n",
    "- Top 10 airports different type of departure delays\n",
    "    - Late aircraft delays and Carrier delays account for a large portion of total Departure delay times\n",
    "    - Genrally the largest cause of departure delays are due to late aircraft delays, followed by Carrier delays, nas delays then weather delays.\n",
    "    - Chicago has a higher proportion of Late air craft delays, most likely due to its unique geographical location, Which makes it a high flight traffic area\n",
    "    \n",
    "\n",
    "    \n",
    "    \n",
    "- Taxi Times per Airport\n",
    "    -  Makes sense with above, Correlates with Large Taxi time of Chicago (ORD), which has highest Taxi out time out of all airports\n",
    "    - 73% of arrival delays started with a departure delay. As we saw above, late aircraft delays is the #1 cause of departure delays\n",
    "    -  Having strategies at reducing departure delays will have a compounding effect in reducing over all departure and arrival delays will reduce delays across all airports\n",
    "    \n",
    "- Cancellations by airport\n",
    "    - ORD, DFW, CLT and SFO are way above the cancelled mean fractions.\n",
    "    - ORD has 3/10 star rating on google and ranks one of the lowest on airlineequality.com which reviews airports\n",
    "    - ATL, SEA, LAX have low cancellation rates\n",
    "    - Again Chicago Airport is worse all around, has really bad weather.\n",
    "    - https://chicago.cbslocal.com/2019/08/18/chicago-flights-cancellations/ Over 600 flights were cancelled due to thunder storms in Aug 2019\n",
    "    - https://chicago.cbslocal.com/2019/11/11/chicago-flights-canceled-2/ 1200 flights were cancelled at chicago airport in 2019\n",
    "    - https://chicago.cbslocal.com/2018/11/26/ohare-midway-flight-delays-and-cancellations-amid-winter-storm/  More then 400 flights cancelled due to winter storms\n",
    "    - Note that LAX, ATL, DFW which have similar high traffic (High Passengers, high flights) as ORD but have much lower delay and cancellation rates compared to ORD\n",
    "    - ORD, DFW, CLT all within high tornado zones which make sense for proprotionatly high cancellation rates due to weather\n",
    "    - ATL scores best for lowest cancellation rates, near lowest Delay Rates, near lowest mean delay wait times. even tho one of the busiest airpots in the US in terms of passengers and flight traffic\n",
    "    -"
   ]
  },
  {
   "cell_type": "markdown",
   "metadata": {},
   "source": [
    "## 4 - Analysis of fuel consumption\n",
    "- distance/fuel consumption\n",
    "    - Top Airlines by Fuel Efficiency (Distance/Fuel consumed): Frontier, G4 and UA\n",
    "    - Worst is Jetblue B6, Haiwaian airlines (which ironically has lowest avg flight speed), AA\n",
    "    - frontier airlines saw a 36% increase from 2018-2019. Infact it was ranked the most fuel efficient airline by ICCT standards in 2019\n",
    "- Passengers/ Fuel consumed\n",
    "    - Again Frontier rankes the highest\n",
    "    - Jetblue rank and alska rank the lowest\n",
    "    \n",
    "- Weight vs Fuel consumption\n",
    "    - Positve correlation"
   ]
  },
  {
   "cell_type": "code",
   "execution_count": null,
   "metadata": {},
   "outputs": [],
   "source": []
  },
  {
   "cell_type": "markdown",
   "metadata": {},
   "source": [
    "## Suggestions for passengers\n",
    "\n",
    "- Best times to travel is from september to november, worst times are Summer months\n",
    "- Mondays and fridays are the busiest times for airports, Saturdays are usually the quietest\n",
    "- Quietest times for flights throughout the day are around 8pm till \n",
    "- If you live in Chicago or other mid-eastern areas,  travelling through january through april have high cancellation and weather delays rates.\n",
    "- If possible book with Alaska, Hawiian or delta airlines have the lowest delay mean wait times, lowest avg delay rates and lowest cancellation rates. \n",
    "- Hawaiian, Alaska and Delta Airlines had the highest ontime departure and arrival rates of all airlines\n",
    "- AA has the highest cancellation rate of all airlines greater then 2.5% of all flights will be cancelled. Avoid.\n",
    "- ORD, DFW, CLT and SFO airports had high canellation \n",
    "- ATL, SEA, LAX Had lowest cancellation rates\n",
    "\n",
    "https://www.onetravel.com/going-places/least-crowded-flight-times/"
   ]
  },
  {
   "cell_type": "markdown",
   "metadata": {},
   "source": [
    "## Suggestions for Airlines\n",
    "\n",
    "- Departure delays are the main cause of arrival delays\n",
    "- Late Aircraft Delay seems to be the most important variable, not only due to its longer wait periods, but it's affected by the others due to the ripple effect of delay\n",
    "- https://simpleflying.com/frontier-most-fuel-efficient/#:~:text=Frontier%20Airlines%20was%20revealed%20as,for%20the%20years%202017%2D18.\n",
    "- Frontier Most efficient airlines in terms of fuel consumption by ICCT\n",
    "- Due to: Airbus A320neo which is equipped with a new engined that has gives an additional 500 miles of extra range over its counterparts.\n",
    "- Operational practices include a dense seating configuration, which allows the airline to achieve high passenger load factors. It also employs many weight-saving which increase fuel efficiency"
   ]
  },
  {
   "cell_type": "code",
   "execution_count": null,
   "metadata": {},
   "outputs": [],
   "source": []
  },
  {
   "cell_type": "code",
   "execution_count": null,
   "metadata": {},
   "outputs": [],
   "source": []
  },
  {
   "cell_type": "markdown",
   "metadata": {},
   "source": [
    "# Random Thoughts Organize Later"
   ]
  },
  {
   "cell_type": "code",
   "execution_count": null,
   "metadata": {},
   "outputs": [],
   "source": [
    "# For differnt tyoes of delays\n",
    "# The correlation matrix identifies three main variables for delays: Late Aircraft Delay, Carrier Delay and NAS Delay. \n",
    "# The graph corroborates this assumption, showing how those three variables create most of delays during the year. \n",
    "# The variable Status can't be taken into account since it has been created 'ad hoc' and by it's own definition has a \n",
    "# high correlation."
   ]
  },
  {
   "cell_type": "markdown",
   "metadata": {},
   "source": [
    "Late Aircraft Delay seems to be the most important variable, not only due to its longer wait periods, but it's affected by the others due to the ripple effect of delay. Its distribution is almost parallel to NAS Delay, and seems to be the compounded effect of the other delays minus the delay reduction from the alloted Elapsed time > Actual Elapsed Time in the flight operations.¶\n",
    "However, analyzing the scatterplot, it doesn't seem to be a significant correlation between the types of delay themselves. A more in depth analysis, following the exact routes of the aircrafts and their connections and subsequent flights could help identifying the exact root cause to each delay, but that is not within the scope of this analysis"
   ]
  },
  {
   "cell_type": "code",
   "execution_count": null,
   "metadata": {},
   "outputs": [],
   "source": []
  }
 ],
 "metadata": {
  "kernelspec": {
   "display_name": "Python 3",
   "language": "python",
   "name": "python3"
  },
  "language_info": {
   "codemirror_mode": {
    "name": "ipython",
    "version": 3
   },
   "file_extension": ".py",
   "mimetype": "text/x-python",
   "name": "python",
   "nbconvert_exporter": "python",
   "pygments_lexer": "ipython3",
   "version": "3.7.4"
  }
 },
 "nbformat": 4,
 "nbformat_minor": 2
}
