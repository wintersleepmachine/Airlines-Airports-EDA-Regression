{
 "cells": [
  {
   "cell_type": "code",
   "execution_count": 8,
   "metadata": {},
   "outputs": [],
   "source": [
    "import numpy as np\n",
    "import pandas as pd\n",
    "import seaborn as sns\n",
    "import matplotlib.pyplot as plt\n",
    "from scipy.stats import ttest_ind\n",
    "\n",
    "%matplotlib inline"
   ]
  },
  {
   "cell_type": "code",
   "execution_count": 2,
   "metadata": {},
   "outputs": [
    {
     "name": "stderr",
     "output_type": "stream",
     "text": [
      "C:\\Users\\Jesse\\Anaconda3\\lib\\site-packages\\IPython\\core\\interactiveshell.py:3058: DtypeWarning: Columns (25) have mixed types.Specify dtype option on import or set low_memory=False.\n",
      "  interactivity=interactivity, compiler=compiler, result=result)\n"
     ]
    }
   ],
   "source": [
    "data_path = 'C:/Users/Jesse/Desktop/midterm_data/data/'\n",
    "flights_df = pd.read_csv(data_path + 'flights.csv')"
   ]
  },
  {
   "cell_type": "markdown",
   "metadata": {},
   "source": [
    "#### **Task 7**: Test the hypothesis whether planes fly faster when there is the departure delay? "
   ]
  },
  {
   "cell_type": "code",
   "execution_count": 3,
   "metadata": {},
   "outputs": [
    {
     "data": {
      "text/plain": [
       "(315221, 0)"
      ]
     },
     "execution_count": 3,
     "metadata": {},
     "output_type": "execute_result"
    }
   ],
   "source": [
    "#  airtime is distance/air_time in minutes\n",
    "\n",
    "flights_df['air_time'].isna().sum(), flights_df['distance'].isna().sum()\n",
    "\n",
    "# Airtime has lots of empty values, lets get all non-na air time values and all cancelled = 0"
   ]
  },
  {
   "cell_type": "code",
   "execution_count": 4,
   "metadata": {},
   "outputs": [],
   "source": [
    "flights_df = flights_df.loc[(flights_df['air_time'].notna()) & (flights_df['cancelled'] == 0)]"
   ]
  },
  {
   "cell_type": "code",
   "execution_count": 5,
   "metadata": {},
   "outputs": [],
   "source": [
    "# distance in miles, air_time in minutes\n",
    "# Therefore the average speed of plane distance/airtime (miles/minutes) => km/hr\n",
    "\n",
    "# Lets creat function to output speed in km/hr\n",
    "\n",
    "# def get_speed(row):\n",
    "#     speed = row['distance']/row['air_time'] # miles/minutes\n",
    "#     speed = speed*1.61*60\n",
    "#     return speed # returns km/hr"
   ]
  },
  {
   "cell_type": "code",
   "execution_count": 6,
   "metadata": {},
   "outputs": [],
   "source": [
    "# Create column avg_speed km/hr\n",
    "flights_df['avg_speed'] = (flights_df['distance']/flights_df['air_time'])*1.61*60"
   ]
  },
  {
   "cell_type": "code",
   "execution_count": 31,
   "metadata": {},
   "outputs": [
    {
     "data": {
      "text/plain": [
       "count    1.561226e+07\n",
       "mean     6.422707e+02\n",
       "std      1.197745e+02\n",
       "min     -6.782337e+02\n",
       "25%      5.690137e+02\n",
       "50%      6.538647e+02\n",
       "75%      7.250682e+02\n",
       "max      5.950560e+03\n",
       "Name: avg_speed, dtype: float64"
      ]
     },
     "execution_count": 31,
     "metadata": {},
     "output_type": "execute_result"
    }
   ],
   "source": [
    "flights_df['avg_speed'].describe()"
   ]
  },
  {
   "cell_type": "code",
   "execution_count": 12,
   "metadata": {},
   "outputs": [
    {
     "data": {
      "text/plain": [
       "(652.5884210511933, 657.5057567362612)"
      ]
     },
     "execution_count": 12,
     "metadata": {},
     "output_type": "execute_result"
    }
   ],
   "source": [
    "# Hypothesis testing\n",
    "# Null Hypothesis: There is no difference in mean flight speed when there is or isnt departure delay\n",
    "# Alternative hypothesis: There is a difference in flightspeed when there is a departure delay\n",
    "\n",
    "# Get all flights where there is departure delay > 0\n",
    "delay_greater_zero_speeds = flights_df.loc[(flights_df['dep_delay'] > 0) & (flights_df['dep_delay'].notna()), 'avg_speed']\n",
    "\n",
    "# Get all flights where departure == 0\n",
    "delay_zero_speeds = flights_df.loc[(flights_df['dep_delay'] == 0) & (flights_df['dep_delay'].notna()), 'avg_speed']\n"
   ]
  },
  {
   "cell_type": "code",
   "execution_count": 64,
   "metadata": {},
   "outputs": [
    {
     "data": {
      "text/plain": [
       "(654.3318337166734, 667.0678731299596)"
      ]
     },
     "execution_count": 64,
     "metadata": {},
     "output_type": "execute_result"
    }
   ],
   "source": [
    "def reject_outliers(data, m=3):\n",
    "    return data[abs(data - np.mean(data)) < m * np.std(data)]\n",
    "\n",
    "\n",
    "delay_greater_zero_speeds_no_ol=reject_outliers(delay_greater_zero_speeds, m=3)\n",
    "delay_zero_speeds_no_ol=reject_outliers(delay_zero_speeds, m=2)\n",
    "\n",
    "delay_greater_zero_speeds_no_ol.mean(), delay_zero_speeds_no_ol.mean()"
   ]
  },
  {
   "cell_type": "code",
   "execution_count": 71,
   "metadata": {},
   "outputs": [
    {
     "name": "stdout",
     "output_type": "stream",
     "text": [
      "p-value 1.414326413516858e-09\n",
      "we reject null hypothesis\n"
     ]
    }
   ],
   "source": [
    "# Taking a sample size of 1000 from each\n",
    "ttest,pval = ttest_ind(delay_greater_zero_speeds_no_ol.sample(1000), delay_zero_speeds_no_ol.sample(1000))\n",
    "\n",
    "print(\"p-value\",pval)\n",
    "if pval <0.05:\n",
    "  print(\"we reject null hypothesis\")\n",
    "else:\n",
    "  print(\"we accept null hypothesis\")"
   ]
  },
  {
   "cell_type": "code",
   "execution_count": null,
   "metadata": {},
   "outputs": [],
   "source": [
    "# cargo weight vs flight speed"
   ]
  },
  {
   "cell_type": "code",
   "execution_count": null,
   "metadata": {},
   "outputs": [],
   "source": [
    "number_of_rows = delay_greater_zero_speeds_no_ol.shape[0]\n",
    "random_indices = np.random.choice(number_of_rows, size=10000, replace=False)\n",
    "delay_greater_zero_speeds_no_ol = X_transformed[random_indices, :]\n",
    "\n",
    "number_of_rows = y.shape[0]\n",
    "y_sample = y[random_indices]\n",
    "\n",
    "\n",
    "X_transformed_sample.shape, y_sample.shape"
   ]
  },
  {
   "cell_type": "code",
   "execution_count": null,
   "metadata": {},
   "outputs": [],
   "source": []
  },
  {
   "cell_type": "code",
   "execution_count": null,
   "metadata": {},
   "outputs": [],
   "source": []
  },
  {
   "cell_type": "code",
   "execution_count": null,
   "metadata": {},
   "outputs": [],
   "source": [
    "# flight speed slower when departure delay is negative?"
   ]
  }
 ],
 "metadata": {
  "kernelspec": {
   "display_name": "Python 3",
   "language": "python",
   "name": "python3"
  },
  "language_info": {
   "codemirror_mode": {
    "name": "ipython",
    "version": 3
   },
   "file_extension": ".py",
   "mimetype": "text/x-python",
   "name": "python",
   "nbconvert_exporter": "python",
   "pygments_lexer": "ipython3",
   "version": "3.7.4"
  }
 },
 "nbformat": 4,
 "nbformat_minor": 2
}
